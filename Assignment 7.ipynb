{
 "cells": [
  {
   "cell_type": "markdown",
   "metadata": {},
   "source": [
    "### Importing Libraries"
   ]
  },
  {
   "cell_type": "code",
   "execution_count": 1,
   "metadata": {},
   "outputs": [],
   "source": [
    "import pandas as pd\n",
    "import numpy as np\n",
    "import matplotlib.pyplot as plt\n",
    "import seaborn as sns"
   ]
  },
  {
   "cell_type": "markdown",
   "metadata": {},
   "source": [
    "### Importing Datasets"
   ]
  },
  {
   "cell_type": "code",
   "execution_count": 2,
   "metadata": {},
   "outputs": [],
   "source": [
    "application_record = pd.read_csv('data/Credit Card Approval Prediction/application_record.csv')\n",
    "credit_record = pd.read_csv('data/Credit Card Approval Prediction/credit_record.csv')"
   ]
  },
  {
   "cell_type": "code",
   "execution_count": 3,
   "metadata": {},
   "outputs": [
    {
     "data": {
      "text/plain": "             ID CODE_GENDER FLAG_OWN_CAR FLAG_OWN_REALTY  CNT_CHILDREN  \\\n0       5008804           M            Y               Y             0   \n1       5008805           M            Y               Y             0   \n2       5008806           M            Y               Y             0   \n3       5008808           F            N               Y             0   \n4       5008809           F            N               Y             0   \n...         ...         ...          ...             ...           ...   \n438552  6840104           M            N               Y             0   \n438553  6840222           F            N               N             0   \n438554  6841878           F            N               N             0   \n438555  6842765           F            N               Y             0   \n438556  6842885           F            N               Y             0   \n\n        AMT_INCOME_TOTAL      NAME_INCOME_TYPE            NAME_EDUCATION_TYPE  \\\n0               427500.0               Working               Higher education   \n1               427500.0               Working               Higher education   \n2               112500.0               Working  Secondary / secondary special   \n3               270000.0  Commercial associate  Secondary / secondary special   \n4               270000.0  Commercial associate  Secondary / secondary special   \n...                  ...                   ...                            ...   \n438552          135000.0             Pensioner  Secondary / secondary special   \n438553          103500.0               Working  Secondary / secondary special   \n438554           54000.0  Commercial associate               Higher education   \n438555           72000.0             Pensioner  Secondary / secondary special   \n438556          121500.0               Working  Secondary / secondary special   \n\n          NAME_FAMILY_STATUS  NAME_HOUSING_TYPE  DAYS_BIRTH  DAYS_EMPLOYED  \\\n0             Civil marriage   Rented apartment      -12005          -4542   \n1             Civil marriage   Rented apartment      -12005          -4542   \n2                    Married  House / apartment      -21474          -1134   \n3       Single / not married  House / apartment      -19110          -3051   \n4       Single / not married  House / apartment      -19110          -3051   \n...                      ...                ...         ...            ...   \n438552             Separated  House / apartment      -22717         365243   \n438553  Single / not married  House / apartment      -15939          -3007   \n438554  Single / not married       With parents       -8169           -372   \n438555               Married  House / apartment      -21673         365243   \n438556               Married  House / apartment      -18858          -1201   \n\n        FLAG_MOBIL  FLAG_WORK_PHONE  FLAG_PHONE  FLAG_EMAIL OCCUPATION_TYPE  \\\n0                1                1           0           0             NaN   \n1                1                1           0           0             NaN   \n2                1                0           0           0  Security staff   \n3                1                0           1           1     Sales staff   \n4                1                0           1           1     Sales staff   \n...            ...              ...         ...         ...             ...   \n438552           1                0           0           0             NaN   \n438553           1                0           0           0        Laborers   \n438554           1                1           0           0     Sales staff   \n438555           1                0           0           0             NaN   \n438556           1                0           1           0     Sales staff   \n\n        CNT_FAM_MEMBERS  \n0                   2.0  \n1                   2.0  \n2                   2.0  \n3                   1.0  \n4                   1.0  \n...                 ...  \n438552              1.0  \n438553              1.0  \n438554              1.0  \n438555              2.0  \n438556              2.0  \n\n[438557 rows x 18 columns]",
      "text/html": "<div>\n<style scoped>\n    .dataframe tbody tr th:only-of-type {\n        vertical-align: middle;\n    }\n\n    .dataframe tbody tr th {\n        vertical-align: top;\n    }\n\n    .dataframe thead th {\n        text-align: right;\n    }\n</style>\n<table border=\"1\" class=\"dataframe\">\n  <thead>\n    <tr style=\"text-align: right;\">\n      <th></th>\n      <th>ID</th>\n      <th>CODE_GENDER</th>\n      <th>FLAG_OWN_CAR</th>\n      <th>FLAG_OWN_REALTY</th>\n      <th>CNT_CHILDREN</th>\n      <th>AMT_INCOME_TOTAL</th>\n      <th>NAME_INCOME_TYPE</th>\n      <th>NAME_EDUCATION_TYPE</th>\n      <th>NAME_FAMILY_STATUS</th>\n      <th>NAME_HOUSING_TYPE</th>\n      <th>DAYS_BIRTH</th>\n      <th>DAYS_EMPLOYED</th>\n      <th>FLAG_MOBIL</th>\n      <th>FLAG_WORK_PHONE</th>\n      <th>FLAG_PHONE</th>\n      <th>FLAG_EMAIL</th>\n      <th>OCCUPATION_TYPE</th>\n      <th>CNT_FAM_MEMBERS</th>\n    </tr>\n  </thead>\n  <tbody>\n    <tr>\n      <th>0</th>\n      <td>5008804</td>\n      <td>M</td>\n      <td>Y</td>\n      <td>Y</td>\n      <td>0</td>\n      <td>427500.0</td>\n      <td>Working</td>\n      <td>Higher education</td>\n      <td>Civil marriage</td>\n      <td>Rented apartment</td>\n      <td>-12005</td>\n      <td>-4542</td>\n      <td>1</td>\n      <td>1</td>\n      <td>0</td>\n      <td>0</td>\n      <td>NaN</td>\n      <td>2.0</td>\n    </tr>\n    <tr>\n      <th>1</th>\n      <td>5008805</td>\n      <td>M</td>\n      <td>Y</td>\n      <td>Y</td>\n      <td>0</td>\n      <td>427500.0</td>\n      <td>Working</td>\n      <td>Higher education</td>\n      <td>Civil marriage</td>\n      <td>Rented apartment</td>\n      <td>-12005</td>\n      <td>-4542</td>\n      <td>1</td>\n      <td>1</td>\n      <td>0</td>\n      <td>0</td>\n      <td>NaN</td>\n      <td>2.0</td>\n    </tr>\n    <tr>\n      <th>2</th>\n      <td>5008806</td>\n      <td>M</td>\n      <td>Y</td>\n      <td>Y</td>\n      <td>0</td>\n      <td>112500.0</td>\n      <td>Working</td>\n      <td>Secondary / secondary special</td>\n      <td>Married</td>\n      <td>House / apartment</td>\n      <td>-21474</td>\n      <td>-1134</td>\n      <td>1</td>\n      <td>0</td>\n      <td>0</td>\n      <td>0</td>\n      <td>Security staff</td>\n      <td>2.0</td>\n    </tr>\n    <tr>\n      <th>3</th>\n      <td>5008808</td>\n      <td>F</td>\n      <td>N</td>\n      <td>Y</td>\n      <td>0</td>\n      <td>270000.0</td>\n      <td>Commercial associate</td>\n      <td>Secondary / secondary special</td>\n      <td>Single / not married</td>\n      <td>House / apartment</td>\n      <td>-19110</td>\n      <td>-3051</td>\n      <td>1</td>\n      <td>0</td>\n      <td>1</td>\n      <td>1</td>\n      <td>Sales staff</td>\n      <td>1.0</td>\n    </tr>\n    <tr>\n      <th>4</th>\n      <td>5008809</td>\n      <td>F</td>\n      <td>N</td>\n      <td>Y</td>\n      <td>0</td>\n      <td>270000.0</td>\n      <td>Commercial associate</td>\n      <td>Secondary / secondary special</td>\n      <td>Single / not married</td>\n      <td>House / apartment</td>\n      <td>-19110</td>\n      <td>-3051</td>\n      <td>1</td>\n      <td>0</td>\n      <td>1</td>\n      <td>1</td>\n      <td>Sales staff</td>\n      <td>1.0</td>\n    </tr>\n    <tr>\n      <th>...</th>\n      <td>...</td>\n      <td>...</td>\n      <td>...</td>\n      <td>...</td>\n      <td>...</td>\n      <td>...</td>\n      <td>...</td>\n      <td>...</td>\n      <td>...</td>\n      <td>...</td>\n      <td>...</td>\n      <td>...</td>\n      <td>...</td>\n      <td>...</td>\n      <td>...</td>\n      <td>...</td>\n      <td>...</td>\n      <td>...</td>\n    </tr>\n    <tr>\n      <th>438552</th>\n      <td>6840104</td>\n      <td>M</td>\n      <td>N</td>\n      <td>Y</td>\n      <td>0</td>\n      <td>135000.0</td>\n      <td>Pensioner</td>\n      <td>Secondary / secondary special</td>\n      <td>Separated</td>\n      <td>House / apartment</td>\n      <td>-22717</td>\n      <td>365243</td>\n      <td>1</td>\n      <td>0</td>\n      <td>0</td>\n      <td>0</td>\n      <td>NaN</td>\n      <td>1.0</td>\n    </tr>\n    <tr>\n      <th>438553</th>\n      <td>6840222</td>\n      <td>F</td>\n      <td>N</td>\n      <td>N</td>\n      <td>0</td>\n      <td>103500.0</td>\n      <td>Working</td>\n      <td>Secondary / secondary special</td>\n      <td>Single / not married</td>\n      <td>House / apartment</td>\n      <td>-15939</td>\n      <td>-3007</td>\n      <td>1</td>\n      <td>0</td>\n      <td>0</td>\n      <td>0</td>\n      <td>Laborers</td>\n      <td>1.0</td>\n    </tr>\n    <tr>\n      <th>438554</th>\n      <td>6841878</td>\n      <td>F</td>\n      <td>N</td>\n      <td>N</td>\n      <td>0</td>\n      <td>54000.0</td>\n      <td>Commercial associate</td>\n      <td>Higher education</td>\n      <td>Single / not married</td>\n      <td>With parents</td>\n      <td>-8169</td>\n      <td>-372</td>\n      <td>1</td>\n      <td>1</td>\n      <td>0</td>\n      <td>0</td>\n      <td>Sales staff</td>\n      <td>1.0</td>\n    </tr>\n    <tr>\n      <th>438555</th>\n      <td>6842765</td>\n      <td>F</td>\n      <td>N</td>\n      <td>Y</td>\n      <td>0</td>\n      <td>72000.0</td>\n      <td>Pensioner</td>\n      <td>Secondary / secondary special</td>\n      <td>Married</td>\n      <td>House / apartment</td>\n      <td>-21673</td>\n      <td>365243</td>\n      <td>1</td>\n      <td>0</td>\n      <td>0</td>\n      <td>0</td>\n      <td>NaN</td>\n      <td>2.0</td>\n    </tr>\n    <tr>\n      <th>438556</th>\n      <td>6842885</td>\n      <td>F</td>\n      <td>N</td>\n      <td>Y</td>\n      <td>0</td>\n      <td>121500.0</td>\n      <td>Working</td>\n      <td>Secondary / secondary special</td>\n      <td>Married</td>\n      <td>House / apartment</td>\n      <td>-18858</td>\n      <td>-1201</td>\n      <td>1</td>\n      <td>0</td>\n      <td>1</td>\n      <td>0</td>\n      <td>Sales staff</td>\n      <td>2.0</td>\n    </tr>\n  </tbody>\n</table>\n<p>438557 rows × 18 columns</p>\n</div>"
     },
     "execution_count": 3,
     "metadata": {},
     "output_type": "execute_result"
    }
   ],
   "source": [
    "application_record"
   ]
  },
  {
   "cell_type": "code",
   "execution_count": 4,
   "metadata": {},
   "outputs": [
    {
     "data": {
      "text/plain": "              ID  MONTHS_BALANCE STATUS\n0        5001711               0      X\n1        5001711              -1      0\n2        5001711              -2      0\n3        5001711              -3      0\n4        5001712               0      C\n...          ...             ...    ...\n1048570  5150487             -25      C\n1048571  5150487             -26      C\n1048572  5150487             -27      C\n1048573  5150487             -28      C\n1048574  5150487             -29      C\n\n[1048575 rows x 3 columns]",
      "text/html": "<div>\n<style scoped>\n    .dataframe tbody tr th:only-of-type {\n        vertical-align: middle;\n    }\n\n    .dataframe tbody tr th {\n        vertical-align: top;\n    }\n\n    .dataframe thead th {\n        text-align: right;\n    }\n</style>\n<table border=\"1\" class=\"dataframe\">\n  <thead>\n    <tr style=\"text-align: right;\">\n      <th></th>\n      <th>ID</th>\n      <th>MONTHS_BALANCE</th>\n      <th>STATUS</th>\n    </tr>\n  </thead>\n  <tbody>\n    <tr>\n      <th>0</th>\n      <td>5001711</td>\n      <td>0</td>\n      <td>X</td>\n    </tr>\n    <tr>\n      <th>1</th>\n      <td>5001711</td>\n      <td>-1</td>\n      <td>0</td>\n    </tr>\n    <tr>\n      <th>2</th>\n      <td>5001711</td>\n      <td>-2</td>\n      <td>0</td>\n    </tr>\n    <tr>\n      <th>3</th>\n      <td>5001711</td>\n      <td>-3</td>\n      <td>0</td>\n    </tr>\n    <tr>\n      <th>4</th>\n      <td>5001712</td>\n      <td>0</td>\n      <td>C</td>\n    </tr>\n    <tr>\n      <th>...</th>\n      <td>...</td>\n      <td>...</td>\n      <td>...</td>\n    </tr>\n    <tr>\n      <th>1048570</th>\n      <td>5150487</td>\n      <td>-25</td>\n      <td>C</td>\n    </tr>\n    <tr>\n      <th>1048571</th>\n      <td>5150487</td>\n      <td>-26</td>\n      <td>C</td>\n    </tr>\n    <tr>\n      <th>1048572</th>\n      <td>5150487</td>\n      <td>-27</td>\n      <td>C</td>\n    </tr>\n    <tr>\n      <th>1048573</th>\n      <td>5150487</td>\n      <td>-28</td>\n      <td>C</td>\n    </tr>\n    <tr>\n      <th>1048574</th>\n      <td>5150487</td>\n      <td>-29</td>\n      <td>C</td>\n    </tr>\n  </tbody>\n</table>\n<p>1048575 rows × 3 columns</p>\n</div>"
     },
     "execution_count": 4,
     "metadata": {},
     "output_type": "execute_result"
    }
   ],
   "source": [
    "credit_record"
   ]
  },
  {
   "cell_type": "markdown",
   "metadata": {},
   "source": [
    "### Merging Datasets"
   ]
  },
  {
   "cell_type": "code",
   "execution_count": 5,
   "metadata": {},
   "outputs": [
    {
     "name": "stdout",
     "output_type": "stream",
     "text": [
      "No. of IDs in application_record = 438557 No. of IDs in credit_record = 1048575\n"
     ]
    }
   ],
   "source": [
    "print(f'No. of IDs in application_record = {len(application_record.ID)} No. of IDs in credit_record = {len(credit_record.ID)}')"
   ]
  },
  {
   "cell_type": "code",
   "execution_count": 6,
   "metadata": {},
   "outputs": [],
   "source": [
    "dataset = application_record.merge(credit_record, on=['ID'], how='inner')\n",
    "# dataset=application_record.join(credit_record.set_index('ID'),on='ID',how='inner')\n",
    " # on to choose which column to merger on\n",
    " # How to get merge only the intersection between them"
   ]
  },
  {
   "cell_type": "code",
   "execution_count": 7,
   "metadata": {},
   "outputs": [],
   "source": [
    "# dataset.drop(['ID'],inplace=True,axis=1)\n",
    "# dataset.drop(['MONTHS_BALANCE'],inplace=True,axis=1)"
   ]
  },
  {
   "cell_type": "code",
   "execution_count": 8,
   "outputs": [],
   "source": [
    "dataset.drop_duplicates(inplace=True)"
   ],
   "metadata": {
    "collapsed": false
   }
  },
  {
   "cell_type": "code",
   "execution_count": 9,
   "metadata": {},
   "outputs": [
    {
     "data": {
      "text/plain": "             ID CODE_GENDER FLAG_OWN_CAR FLAG_OWN_REALTY  CNT_CHILDREN  \\\n0       5008804           M            Y               Y             0   \n1       5008804           M            Y               Y             0   \n2       5008804           M            Y               Y             0   \n3       5008804           M            Y               Y             0   \n4       5008804           M            Y               Y             0   \n...         ...         ...          ...             ...           ...   \n777710  5150337           M            N               Y             0   \n777711  5150337           M            N               Y             0   \n777712  5150337           M            N               Y             0   \n777713  5150337           M            N               Y             0   \n777714  5150337           M            N               Y             0   \n\n        AMT_INCOME_TOTAL NAME_INCOME_TYPE            NAME_EDUCATION_TYPE  \\\n0               427500.0          Working               Higher education   \n1               427500.0          Working               Higher education   \n2               427500.0          Working               Higher education   \n3               427500.0          Working               Higher education   \n4               427500.0          Working               Higher education   \n...                  ...              ...                            ...   \n777710          112500.0          Working  Secondary / secondary special   \n777711          112500.0          Working  Secondary / secondary special   \n777712          112500.0          Working  Secondary / secondary special   \n777713          112500.0          Working  Secondary / secondary special   \n777714          112500.0          Working  Secondary / secondary special   \n\n          NAME_FAMILY_STATUS NAME_HOUSING_TYPE  DAYS_BIRTH  DAYS_EMPLOYED  \\\n0             Civil marriage  Rented apartment      -12005          -4542   \n1             Civil marriage  Rented apartment      -12005          -4542   \n2             Civil marriage  Rented apartment      -12005          -4542   \n3             Civil marriage  Rented apartment      -12005          -4542   \n4             Civil marriage  Rented apartment      -12005          -4542   \n...                      ...               ...         ...            ...   \n777710  Single / not married  Rented apartment       -9188          -1193   \n777711  Single / not married  Rented apartment       -9188          -1193   \n777712  Single / not married  Rented apartment       -9188          -1193   \n777713  Single / not married  Rented apartment       -9188          -1193   \n777714  Single / not married  Rented apartment       -9188          -1193   \n\n        FLAG_MOBIL  FLAG_WORK_PHONE  FLAG_PHONE  FLAG_EMAIL OCCUPATION_TYPE  \\\n0                1                1           0           0             NaN   \n1                1                1           0           0             NaN   \n2                1                1           0           0             NaN   \n3                1                1           0           0             NaN   \n4                1                1           0           0             NaN   \n...            ...              ...         ...         ...             ...   \n777710           1                0           0           0        Laborers   \n777711           1                0           0           0        Laborers   \n777712           1                0           0           0        Laborers   \n777713           1                0           0           0        Laborers   \n777714           1                0           0           0        Laborers   \n\n        CNT_FAM_MEMBERS  MONTHS_BALANCE STATUS  \n0                   2.0               0      C  \n1                   2.0              -1      C  \n2                   2.0              -2      C  \n3                   2.0              -3      C  \n4                   2.0              -4      C  \n...                 ...             ...    ...  \n777710              1.0              -9      0  \n777711              1.0             -10      2  \n777712              1.0             -11      1  \n777713              1.0             -12      0  \n777714              1.0             -13      0  \n\n[777715 rows x 20 columns]",
      "text/html": "<div>\n<style scoped>\n    .dataframe tbody tr th:only-of-type {\n        vertical-align: middle;\n    }\n\n    .dataframe tbody tr th {\n        vertical-align: top;\n    }\n\n    .dataframe thead th {\n        text-align: right;\n    }\n</style>\n<table border=\"1\" class=\"dataframe\">\n  <thead>\n    <tr style=\"text-align: right;\">\n      <th></th>\n      <th>ID</th>\n      <th>CODE_GENDER</th>\n      <th>FLAG_OWN_CAR</th>\n      <th>FLAG_OWN_REALTY</th>\n      <th>CNT_CHILDREN</th>\n      <th>AMT_INCOME_TOTAL</th>\n      <th>NAME_INCOME_TYPE</th>\n      <th>NAME_EDUCATION_TYPE</th>\n      <th>NAME_FAMILY_STATUS</th>\n      <th>NAME_HOUSING_TYPE</th>\n      <th>DAYS_BIRTH</th>\n      <th>DAYS_EMPLOYED</th>\n      <th>FLAG_MOBIL</th>\n      <th>FLAG_WORK_PHONE</th>\n      <th>FLAG_PHONE</th>\n      <th>FLAG_EMAIL</th>\n      <th>OCCUPATION_TYPE</th>\n      <th>CNT_FAM_MEMBERS</th>\n      <th>MONTHS_BALANCE</th>\n      <th>STATUS</th>\n    </tr>\n  </thead>\n  <tbody>\n    <tr>\n      <th>0</th>\n      <td>5008804</td>\n      <td>M</td>\n      <td>Y</td>\n      <td>Y</td>\n      <td>0</td>\n      <td>427500.0</td>\n      <td>Working</td>\n      <td>Higher education</td>\n      <td>Civil marriage</td>\n      <td>Rented apartment</td>\n      <td>-12005</td>\n      <td>-4542</td>\n      <td>1</td>\n      <td>1</td>\n      <td>0</td>\n      <td>0</td>\n      <td>NaN</td>\n      <td>2.0</td>\n      <td>0</td>\n      <td>C</td>\n    </tr>\n    <tr>\n      <th>1</th>\n      <td>5008804</td>\n      <td>M</td>\n      <td>Y</td>\n      <td>Y</td>\n      <td>0</td>\n      <td>427500.0</td>\n      <td>Working</td>\n      <td>Higher education</td>\n      <td>Civil marriage</td>\n      <td>Rented apartment</td>\n      <td>-12005</td>\n      <td>-4542</td>\n      <td>1</td>\n      <td>1</td>\n      <td>0</td>\n      <td>0</td>\n      <td>NaN</td>\n      <td>2.0</td>\n      <td>-1</td>\n      <td>C</td>\n    </tr>\n    <tr>\n      <th>2</th>\n      <td>5008804</td>\n      <td>M</td>\n      <td>Y</td>\n      <td>Y</td>\n      <td>0</td>\n      <td>427500.0</td>\n      <td>Working</td>\n      <td>Higher education</td>\n      <td>Civil marriage</td>\n      <td>Rented apartment</td>\n      <td>-12005</td>\n      <td>-4542</td>\n      <td>1</td>\n      <td>1</td>\n      <td>0</td>\n      <td>0</td>\n      <td>NaN</td>\n      <td>2.0</td>\n      <td>-2</td>\n      <td>C</td>\n    </tr>\n    <tr>\n      <th>3</th>\n      <td>5008804</td>\n      <td>M</td>\n      <td>Y</td>\n      <td>Y</td>\n      <td>0</td>\n      <td>427500.0</td>\n      <td>Working</td>\n      <td>Higher education</td>\n      <td>Civil marriage</td>\n      <td>Rented apartment</td>\n      <td>-12005</td>\n      <td>-4542</td>\n      <td>1</td>\n      <td>1</td>\n      <td>0</td>\n      <td>0</td>\n      <td>NaN</td>\n      <td>2.0</td>\n      <td>-3</td>\n      <td>C</td>\n    </tr>\n    <tr>\n      <th>4</th>\n      <td>5008804</td>\n      <td>M</td>\n      <td>Y</td>\n      <td>Y</td>\n      <td>0</td>\n      <td>427500.0</td>\n      <td>Working</td>\n      <td>Higher education</td>\n      <td>Civil marriage</td>\n      <td>Rented apartment</td>\n      <td>-12005</td>\n      <td>-4542</td>\n      <td>1</td>\n      <td>1</td>\n      <td>0</td>\n      <td>0</td>\n      <td>NaN</td>\n      <td>2.0</td>\n      <td>-4</td>\n      <td>C</td>\n    </tr>\n    <tr>\n      <th>...</th>\n      <td>...</td>\n      <td>...</td>\n      <td>...</td>\n      <td>...</td>\n      <td>...</td>\n      <td>...</td>\n      <td>...</td>\n      <td>...</td>\n      <td>...</td>\n      <td>...</td>\n      <td>...</td>\n      <td>...</td>\n      <td>...</td>\n      <td>...</td>\n      <td>...</td>\n      <td>...</td>\n      <td>...</td>\n      <td>...</td>\n      <td>...</td>\n      <td>...</td>\n    </tr>\n    <tr>\n      <th>777710</th>\n      <td>5150337</td>\n      <td>M</td>\n      <td>N</td>\n      <td>Y</td>\n      <td>0</td>\n      <td>112500.0</td>\n      <td>Working</td>\n      <td>Secondary / secondary special</td>\n      <td>Single / not married</td>\n      <td>Rented apartment</td>\n      <td>-9188</td>\n      <td>-1193</td>\n      <td>1</td>\n      <td>0</td>\n      <td>0</td>\n      <td>0</td>\n      <td>Laborers</td>\n      <td>1.0</td>\n      <td>-9</td>\n      <td>0</td>\n    </tr>\n    <tr>\n      <th>777711</th>\n      <td>5150337</td>\n      <td>M</td>\n      <td>N</td>\n      <td>Y</td>\n      <td>0</td>\n      <td>112500.0</td>\n      <td>Working</td>\n      <td>Secondary / secondary special</td>\n      <td>Single / not married</td>\n      <td>Rented apartment</td>\n      <td>-9188</td>\n      <td>-1193</td>\n      <td>1</td>\n      <td>0</td>\n      <td>0</td>\n      <td>0</td>\n      <td>Laborers</td>\n      <td>1.0</td>\n      <td>-10</td>\n      <td>2</td>\n    </tr>\n    <tr>\n      <th>777712</th>\n      <td>5150337</td>\n      <td>M</td>\n      <td>N</td>\n      <td>Y</td>\n      <td>0</td>\n      <td>112500.0</td>\n      <td>Working</td>\n      <td>Secondary / secondary special</td>\n      <td>Single / not married</td>\n      <td>Rented apartment</td>\n      <td>-9188</td>\n      <td>-1193</td>\n      <td>1</td>\n      <td>0</td>\n      <td>0</td>\n      <td>0</td>\n      <td>Laborers</td>\n      <td>1.0</td>\n      <td>-11</td>\n      <td>1</td>\n    </tr>\n    <tr>\n      <th>777713</th>\n      <td>5150337</td>\n      <td>M</td>\n      <td>N</td>\n      <td>Y</td>\n      <td>0</td>\n      <td>112500.0</td>\n      <td>Working</td>\n      <td>Secondary / secondary special</td>\n      <td>Single / not married</td>\n      <td>Rented apartment</td>\n      <td>-9188</td>\n      <td>-1193</td>\n      <td>1</td>\n      <td>0</td>\n      <td>0</td>\n      <td>0</td>\n      <td>Laborers</td>\n      <td>1.0</td>\n      <td>-12</td>\n      <td>0</td>\n    </tr>\n    <tr>\n      <th>777714</th>\n      <td>5150337</td>\n      <td>M</td>\n      <td>N</td>\n      <td>Y</td>\n      <td>0</td>\n      <td>112500.0</td>\n      <td>Working</td>\n      <td>Secondary / secondary special</td>\n      <td>Single / not married</td>\n      <td>Rented apartment</td>\n      <td>-9188</td>\n      <td>-1193</td>\n      <td>1</td>\n      <td>0</td>\n      <td>0</td>\n      <td>0</td>\n      <td>Laborers</td>\n      <td>1.0</td>\n      <td>-13</td>\n      <td>0</td>\n    </tr>\n  </tbody>\n</table>\n<p>777715 rows × 20 columns</p>\n</div>"
     },
     "execution_count": 9,
     "metadata": {},
     "output_type": "execute_result"
    }
   ],
   "source": [
    "dataset"
   ]
  },
  {
   "cell_type": "markdown",
   "metadata": {},
   "source": [
    "### Getting Data's Information and Description"
   ]
  },
  {
   "cell_type": "code",
   "execution_count": 10,
   "metadata": {},
   "outputs": [
    {
     "name": "stdout",
     "output_type": "stream",
     "text": [
      "<class 'pandas.core.frame.DataFrame'>\n",
      "Int64Index: 777715 entries, 0 to 777714\n",
      "Data columns (total 20 columns):\n",
      " #   Column               Non-Null Count   Dtype  \n",
      "---  ------               --------------   -----  \n",
      " 0   ID                   777715 non-null  int64  \n",
      " 1   CODE_GENDER          777715 non-null  object \n",
      " 2   FLAG_OWN_CAR         777715 non-null  object \n",
      " 3   FLAG_OWN_REALTY      777715 non-null  object \n",
      " 4   CNT_CHILDREN         777715 non-null  int64  \n",
      " 5   AMT_INCOME_TOTAL     777715 non-null  float64\n",
      " 6   NAME_INCOME_TYPE     777715 non-null  object \n",
      " 7   NAME_EDUCATION_TYPE  777715 non-null  object \n",
      " 8   NAME_FAMILY_STATUS   777715 non-null  object \n",
      " 9   NAME_HOUSING_TYPE    777715 non-null  object \n",
      " 10  DAYS_BIRTH           777715 non-null  int64  \n",
      " 11  DAYS_EMPLOYED        777715 non-null  int64  \n",
      " 12  FLAG_MOBIL           777715 non-null  int64  \n",
      " 13  FLAG_WORK_PHONE      777715 non-null  int64  \n",
      " 14  FLAG_PHONE           777715 non-null  int64  \n",
      " 15  FLAG_EMAIL           777715 non-null  int64  \n",
      " 16  OCCUPATION_TYPE      537667 non-null  object \n",
      " 17  CNT_FAM_MEMBERS      777715 non-null  float64\n",
      " 18  MONTHS_BALANCE       777715 non-null  int64  \n",
      " 19  STATUS               777715 non-null  object \n",
      "dtypes: float64(2), int64(9), object(9)\n",
      "memory usage: 124.6+ MB\n"
     ]
    }
   ],
   "source": [
    "dataset.info()"
   ]
  },
  {
   "cell_type": "code",
   "execution_count": 11,
   "metadata": {},
   "outputs": [
    {
     "data": {
      "text/plain": "                 ID   CNT_CHILDREN  AMT_INCOME_TOTAL     DAYS_BIRTH  \\\ncount  7.777150e+05  777715.000000      7.777150e+05  777715.000000   \nmean   5.078743e+06       0.428082      1.885348e+05  -16124.937046   \nstd    4.180442e+04       0.745755      1.016225e+05    4104.304018   \nmin    5.008804e+06       0.000000      2.700000e+04  -25152.000000   \n25%    5.044568e+06       0.000000      1.215000e+05  -19453.000000   \n50%    5.069530e+06       0.000000      1.620000e+05  -15760.000000   \n75%    5.115551e+06       1.000000      2.250000e+05  -12716.000000   \nmax    5.150487e+06      19.000000      1.575000e+06   -7489.000000   \n\n       DAYS_EMPLOYED  FLAG_MOBIL  FLAG_WORK_PHONE     FLAG_PHONE  \\\ncount  777715.000000    777715.0    777715.000000  777715.000000   \nmean    57775.825016         1.0         0.231818       0.300965   \nstd    136471.735391         0.0         0.421993       0.458678   \nmin    -15713.000000         1.0         0.000000       0.000000   \n25%     -3292.000000         1.0         0.000000       0.000000   \n50%     -1682.000000         1.0         0.000000       0.000000   \n75%      -431.000000         1.0         0.000000       1.000000   \nmax    365243.000000         1.0         1.000000       1.000000   \n\n          FLAG_EMAIL  CNT_FAM_MEMBERS  MONTHS_BALANCE  \ncount  777715.000000    777715.000000   777715.000000  \nmean        0.091675         2.208837      -19.373564  \nstd         0.288567         0.907380       14.082208  \nmin         0.000000         1.000000      -60.000000  \n25%         0.000000         2.000000      -29.000000  \n50%         0.000000         2.000000      -17.000000  \n75%         0.000000         3.000000       -8.000000  \nmax         1.000000        20.000000        0.000000  ",
      "text/html": "<div>\n<style scoped>\n    .dataframe tbody tr th:only-of-type {\n        vertical-align: middle;\n    }\n\n    .dataframe tbody tr th {\n        vertical-align: top;\n    }\n\n    .dataframe thead th {\n        text-align: right;\n    }\n</style>\n<table border=\"1\" class=\"dataframe\">\n  <thead>\n    <tr style=\"text-align: right;\">\n      <th></th>\n      <th>ID</th>\n      <th>CNT_CHILDREN</th>\n      <th>AMT_INCOME_TOTAL</th>\n      <th>DAYS_BIRTH</th>\n      <th>DAYS_EMPLOYED</th>\n      <th>FLAG_MOBIL</th>\n      <th>FLAG_WORK_PHONE</th>\n      <th>FLAG_PHONE</th>\n      <th>FLAG_EMAIL</th>\n      <th>CNT_FAM_MEMBERS</th>\n      <th>MONTHS_BALANCE</th>\n    </tr>\n  </thead>\n  <tbody>\n    <tr>\n      <th>count</th>\n      <td>7.777150e+05</td>\n      <td>777715.000000</td>\n      <td>7.777150e+05</td>\n      <td>777715.000000</td>\n      <td>777715.000000</td>\n      <td>777715.0</td>\n      <td>777715.000000</td>\n      <td>777715.000000</td>\n      <td>777715.000000</td>\n      <td>777715.000000</td>\n      <td>777715.000000</td>\n    </tr>\n    <tr>\n      <th>mean</th>\n      <td>5.078743e+06</td>\n      <td>0.428082</td>\n      <td>1.885348e+05</td>\n      <td>-16124.937046</td>\n      <td>57775.825016</td>\n      <td>1.0</td>\n      <td>0.231818</td>\n      <td>0.300965</td>\n      <td>0.091675</td>\n      <td>2.208837</td>\n      <td>-19.373564</td>\n    </tr>\n    <tr>\n      <th>std</th>\n      <td>4.180442e+04</td>\n      <td>0.745755</td>\n      <td>1.016225e+05</td>\n      <td>4104.304018</td>\n      <td>136471.735391</td>\n      <td>0.0</td>\n      <td>0.421993</td>\n      <td>0.458678</td>\n      <td>0.288567</td>\n      <td>0.907380</td>\n      <td>14.082208</td>\n    </tr>\n    <tr>\n      <th>min</th>\n      <td>5.008804e+06</td>\n      <td>0.000000</td>\n      <td>2.700000e+04</td>\n      <td>-25152.000000</td>\n      <td>-15713.000000</td>\n      <td>1.0</td>\n      <td>0.000000</td>\n      <td>0.000000</td>\n      <td>0.000000</td>\n      <td>1.000000</td>\n      <td>-60.000000</td>\n    </tr>\n    <tr>\n      <th>25%</th>\n      <td>5.044568e+06</td>\n      <td>0.000000</td>\n      <td>1.215000e+05</td>\n      <td>-19453.000000</td>\n      <td>-3292.000000</td>\n      <td>1.0</td>\n      <td>0.000000</td>\n      <td>0.000000</td>\n      <td>0.000000</td>\n      <td>2.000000</td>\n      <td>-29.000000</td>\n    </tr>\n    <tr>\n      <th>50%</th>\n      <td>5.069530e+06</td>\n      <td>0.000000</td>\n      <td>1.620000e+05</td>\n      <td>-15760.000000</td>\n      <td>-1682.000000</td>\n      <td>1.0</td>\n      <td>0.000000</td>\n      <td>0.000000</td>\n      <td>0.000000</td>\n      <td>2.000000</td>\n      <td>-17.000000</td>\n    </tr>\n    <tr>\n      <th>75%</th>\n      <td>5.115551e+06</td>\n      <td>1.000000</td>\n      <td>2.250000e+05</td>\n      <td>-12716.000000</td>\n      <td>-431.000000</td>\n      <td>1.0</td>\n      <td>0.000000</td>\n      <td>1.000000</td>\n      <td>0.000000</td>\n      <td>3.000000</td>\n      <td>-8.000000</td>\n    </tr>\n    <tr>\n      <th>max</th>\n      <td>5.150487e+06</td>\n      <td>19.000000</td>\n      <td>1.575000e+06</td>\n      <td>-7489.000000</td>\n      <td>365243.000000</td>\n      <td>1.0</td>\n      <td>1.000000</td>\n      <td>1.000000</td>\n      <td>1.000000</td>\n      <td>20.000000</td>\n      <td>0.000000</td>\n    </tr>\n  </tbody>\n</table>\n</div>"
     },
     "execution_count": 11,
     "metadata": {},
     "output_type": "execute_result"
    }
   ],
   "source": [
    "dataset.describe()"
   ]
  },
  {
   "cell_type": "code",
   "execution_count": 12,
   "metadata": {},
   "outputs": [
    {
     "data": {
      "text/plain": "ID                          0\nCODE_GENDER                 0\nFLAG_OWN_CAR                0\nFLAG_OWN_REALTY             0\nCNT_CHILDREN                0\nAMT_INCOME_TOTAL            0\nNAME_INCOME_TYPE            0\nNAME_EDUCATION_TYPE         0\nNAME_FAMILY_STATUS          0\nNAME_HOUSING_TYPE           0\nDAYS_BIRTH                  0\nDAYS_EMPLOYED               0\nFLAG_MOBIL                  0\nFLAG_WORK_PHONE             0\nFLAG_PHONE                  0\nFLAG_EMAIL                  0\nOCCUPATION_TYPE        240048\nCNT_FAM_MEMBERS             0\nMONTHS_BALANCE              0\nSTATUS                      0\ndtype: int64"
     },
     "execution_count": 12,
     "metadata": {},
     "output_type": "execute_result"
    }
   ],
   "source": [
    "dataset.isna().sum()"
   ]
  },
  {
   "cell_type": "code",
   "execution_count": 13,
   "metadata": {},
   "outputs": [
    {
     "data": {
      "text/plain": "240048"
     },
     "execution_count": 13,
     "metadata": {},
     "output_type": "execute_result"
    }
   ],
   "source": [
    "dataset.isna().sum().sum()"
   ]
  },
  {
   "cell_type": "markdown",
   "metadata": {},
   "source": [
    "### Displaying Column \"OCCUPATION_TYPE\" with NULL Values"
   ]
  },
  {
   "cell_type": "code",
   "execution_count": 14,
   "metadata": {},
   "outputs": [
    {
     "data": {
      "text/plain": "0              NaN\n1              NaN\n2              NaN\n3              NaN\n4              NaN\n            ...   \n777710    Laborers\n777711    Laborers\n777712    Laborers\n777713    Laborers\n777714    Laborers\nName: OCCUPATION_TYPE, Length: 777715, dtype: object"
     },
     "execution_count": 14,
     "metadata": {},
     "output_type": "execute_result"
    }
   ],
   "source": [
    "dataset.OCCUPATION_TYPE"
   ]
  },
  {
   "cell_type": "code",
   "execution_count": 15,
   "metadata": {},
   "outputs": [
    {
     "data": {
      "text/plain": "Laborers                 131572\nCore staff                77112\nSales staff               70362\nManagers                  67738\nDrivers                   47678\nHigh skill tech staff     31768\nAccountants               27223\nMedicine staff            26691\nCooking staff             13416\nSecurity staff            12400\nCleaning staff            11399\nPrivate service staff      6714\nLow-skill Laborers         3623\nSecretaries                3149\nWaiters/barmen staff       2557\nHR staff                   1686\nIT staff                   1319\nRealty agents              1260\nName: OCCUPATION_TYPE, dtype: int64"
     },
     "execution_count": 15,
     "metadata": {},
     "output_type": "execute_result"
    }
   ],
   "source": [
    "dataset.OCCUPATION_TYPE.value_counts()"
   ]
  },
  {
   "cell_type": "markdown",
   "metadata": {},
   "source": [
    "### Replacing Null Values in 'OCCUPATION_TYPE' with Not Employed"
   ]
  },
  {
   "cell_type": "code",
   "execution_count": 16,
   "metadata": {},
   "outputs": [],
   "source": [
    "dataset.OCCUPATION_TYPE.replace(np.nan, 'Other', inplace = True)"
   ]
  },
  {
   "cell_type": "code",
   "execution_count": 17,
   "metadata": {},
   "outputs": [
    {
     "data": {
      "text/plain": "Other                    240048\nLaborers                 131572\nCore staff                77112\nSales staff               70362\nManagers                  67738\nDrivers                   47678\nHigh skill tech staff     31768\nAccountants               27223\nMedicine staff            26691\nCooking staff             13416\nSecurity staff            12400\nCleaning staff            11399\nPrivate service staff      6714\nLow-skill Laborers         3623\nSecretaries                3149\nWaiters/barmen staff       2557\nHR staff                   1686\nIT staff                   1319\nRealty agents              1260\nName: OCCUPATION_TYPE, dtype: int64"
     },
     "execution_count": 17,
     "metadata": {},
     "output_type": "execute_result"
    }
   ],
   "source": [
    "dataset.OCCUPATION_TYPE.value_counts()"
   ]
  },
  {
   "cell_type": "markdown",
   "metadata": {},
   "source": [
    "### Adding Label Column"
   ]
  },
  {
   "cell_type": "code",
   "execution_count": 18,
   "metadata": {},
   "outputs": [
    {
     "data": {
      "text/plain": "C    442031\n0    383120\nX    209230\n1     11090\n5      1693\n2       868\n3       320\n4       223\nName: STATUS, dtype: int64"
     },
     "execution_count": 18,
     "metadata": {},
     "output_type": "execute_result"
    }
   ],
   "source": [
    "credit_record.STATUS.value_counts()"
   ]
  },
  {
   "cell_type": "code",
   "execution_count": 19,
   "metadata": {},
   "outputs": [],
   "source": [
    "# 0: 1-29 days past due\n",
    "# 1: 30-59 days past due\n",
    "# 2: 60-89 days overdue\n",
    "# 3: 90-119 days overdue\n",
    "# 4: 120-149 days overdue\n",
    "# 5: Overdue or bad debts\n",
    "# C: paid off that month\n",
    "# X: No loan for the month"
   ]
  },
  {
   "cell_type": "code",
   "execution_count": 20,
   "metadata": {},
   "outputs": [],
   "source": [
    "client_gb = {'0': 'Good','1': 'Bad', '2': 'Bad', '3': 'Bad', '4': 'Bad', '5': 'Bad', 'X': 'Good', 'C': 'Good'}"
   ]
  },
  {
   "cell_type": "code",
   "execution_count": 21,
   "metadata": {},
   "outputs": [
    {
     "data": {
      "text/plain": "{'0': 'Good',\n '1': 'Bad',\n '2': 'Bad',\n '3': 'Bad',\n '4': 'Bad',\n '5': 'Bad',\n 'X': 'Good',\n 'C': 'Good'}"
     },
     "execution_count": 21,
     "metadata": {},
     "output_type": "execute_result"
    }
   ],
   "source": [
    "client_gb"
   ]
  },
  {
   "cell_type": "code",
   "execution_count": 22,
   "metadata": {},
   "outputs": [],
   "source": [
    "dataset.replace(client_gb, inplace=True)"
   ]
  },
  {
   "cell_type": "code",
   "execution_count": 23,
   "metadata": {},
   "outputs": [
    {
     "data": {
      "text/plain": "             ID CODE_GENDER FLAG_OWN_CAR FLAG_OWN_REALTY  CNT_CHILDREN  \\\n0       5008804           M            Y               Y             0   \n1       5008804           M            Y               Y             0   \n2       5008804           M            Y               Y             0   \n3       5008804           M            Y               Y             0   \n4       5008804           M            Y               Y             0   \n...         ...         ...          ...             ...           ...   \n777710  5150337           M            N               Y             0   \n777711  5150337           M            N               Y             0   \n777712  5150337           M            N               Y             0   \n777713  5150337           M            N               Y             0   \n777714  5150337           M            N               Y             0   \n\n        AMT_INCOME_TOTAL NAME_INCOME_TYPE            NAME_EDUCATION_TYPE  \\\n0               427500.0          Working               Higher education   \n1               427500.0          Working               Higher education   \n2               427500.0          Working               Higher education   \n3               427500.0          Working               Higher education   \n4               427500.0          Working               Higher education   \n...                  ...              ...                            ...   \n777710          112500.0          Working  Secondary / secondary special   \n777711          112500.0          Working  Secondary / secondary special   \n777712          112500.0          Working  Secondary / secondary special   \n777713          112500.0          Working  Secondary / secondary special   \n777714          112500.0          Working  Secondary / secondary special   \n\n          NAME_FAMILY_STATUS NAME_HOUSING_TYPE  DAYS_BIRTH  DAYS_EMPLOYED  \\\n0             Civil marriage  Rented apartment      -12005          -4542   \n1             Civil marriage  Rented apartment      -12005          -4542   \n2             Civil marriage  Rented apartment      -12005          -4542   \n3             Civil marriage  Rented apartment      -12005          -4542   \n4             Civil marriage  Rented apartment      -12005          -4542   \n...                      ...               ...         ...            ...   \n777710  Single / not married  Rented apartment       -9188          -1193   \n777711  Single / not married  Rented apartment       -9188          -1193   \n777712  Single / not married  Rented apartment       -9188          -1193   \n777713  Single / not married  Rented apartment       -9188          -1193   \n777714  Single / not married  Rented apartment       -9188          -1193   \n\n        FLAG_MOBIL  FLAG_WORK_PHONE  FLAG_PHONE  FLAG_EMAIL OCCUPATION_TYPE  \\\n0                1                1           0           0           Other   \n1                1                1           0           0           Other   \n2                1                1           0           0           Other   \n3                1                1           0           0           Other   \n4                1                1           0           0           Other   \n...            ...              ...         ...         ...             ...   \n777710           1                0           0           0        Laborers   \n777711           1                0           0           0        Laborers   \n777712           1                0           0           0        Laborers   \n777713           1                0           0           0        Laborers   \n777714           1                0           0           0        Laborers   \n\n        CNT_FAM_MEMBERS  MONTHS_BALANCE STATUS  \n0                   2.0               0   Good  \n1                   2.0              -1   Good  \n2                   2.0              -2   Good  \n3                   2.0              -3   Good  \n4                   2.0              -4   Good  \n...                 ...             ...    ...  \n777710              1.0              -9   Good  \n777711              1.0             -10    Bad  \n777712              1.0             -11    Bad  \n777713              1.0             -12   Good  \n777714              1.0             -13   Good  \n\n[777715 rows x 20 columns]",
      "text/html": "<div>\n<style scoped>\n    .dataframe tbody tr th:only-of-type {\n        vertical-align: middle;\n    }\n\n    .dataframe tbody tr th {\n        vertical-align: top;\n    }\n\n    .dataframe thead th {\n        text-align: right;\n    }\n</style>\n<table border=\"1\" class=\"dataframe\">\n  <thead>\n    <tr style=\"text-align: right;\">\n      <th></th>\n      <th>ID</th>\n      <th>CODE_GENDER</th>\n      <th>FLAG_OWN_CAR</th>\n      <th>FLAG_OWN_REALTY</th>\n      <th>CNT_CHILDREN</th>\n      <th>AMT_INCOME_TOTAL</th>\n      <th>NAME_INCOME_TYPE</th>\n      <th>NAME_EDUCATION_TYPE</th>\n      <th>NAME_FAMILY_STATUS</th>\n      <th>NAME_HOUSING_TYPE</th>\n      <th>DAYS_BIRTH</th>\n      <th>DAYS_EMPLOYED</th>\n      <th>FLAG_MOBIL</th>\n      <th>FLAG_WORK_PHONE</th>\n      <th>FLAG_PHONE</th>\n      <th>FLAG_EMAIL</th>\n      <th>OCCUPATION_TYPE</th>\n      <th>CNT_FAM_MEMBERS</th>\n      <th>MONTHS_BALANCE</th>\n      <th>STATUS</th>\n    </tr>\n  </thead>\n  <tbody>\n    <tr>\n      <th>0</th>\n      <td>5008804</td>\n      <td>M</td>\n      <td>Y</td>\n      <td>Y</td>\n      <td>0</td>\n      <td>427500.0</td>\n      <td>Working</td>\n      <td>Higher education</td>\n      <td>Civil marriage</td>\n      <td>Rented apartment</td>\n      <td>-12005</td>\n      <td>-4542</td>\n      <td>1</td>\n      <td>1</td>\n      <td>0</td>\n      <td>0</td>\n      <td>Other</td>\n      <td>2.0</td>\n      <td>0</td>\n      <td>Good</td>\n    </tr>\n    <tr>\n      <th>1</th>\n      <td>5008804</td>\n      <td>M</td>\n      <td>Y</td>\n      <td>Y</td>\n      <td>0</td>\n      <td>427500.0</td>\n      <td>Working</td>\n      <td>Higher education</td>\n      <td>Civil marriage</td>\n      <td>Rented apartment</td>\n      <td>-12005</td>\n      <td>-4542</td>\n      <td>1</td>\n      <td>1</td>\n      <td>0</td>\n      <td>0</td>\n      <td>Other</td>\n      <td>2.0</td>\n      <td>-1</td>\n      <td>Good</td>\n    </tr>\n    <tr>\n      <th>2</th>\n      <td>5008804</td>\n      <td>M</td>\n      <td>Y</td>\n      <td>Y</td>\n      <td>0</td>\n      <td>427500.0</td>\n      <td>Working</td>\n      <td>Higher education</td>\n      <td>Civil marriage</td>\n      <td>Rented apartment</td>\n      <td>-12005</td>\n      <td>-4542</td>\n      <td>1</td>\n      <td>1</td>\n      <td>0</td>\n      <td>0</td>\n      <td>Other</td>\n      <td>2.0</td>\n      <td>-2</td>\n      <td>Good</td>\n    </tr>\n    <tr>\n      <th>3</th>\n      <td>5008804</td>\n      <td>M</td>\n      <td>Y</td>\n      <td>Y</td>\n      <td>0</td>\n      <td>427500.0</td>\n      <td>Working</td>\n      <td>Higher education</td>\n      <td>Civil marriage</td>\n      <td>Rented apartment</td>\n      <td>-12005</td>\n      <td>-4542</td>\n      <td>1</td>\n      <td>1</td>\n      <td>0</td>\n      <td>0</td>\n      <td>Other</td>\n      <td>2.0</td>\n      <td>-3</td>\n      <td>Good</td>\n    </tr>\n    <tr>\n      <th>4</th>\n      <td>5008804</td>\n      <td>M</td>\n      <td>Y</td>\n      <td>Y</td>\n      <td>0</td>\n      <td>427500.0</td>\n      <td>Working</td>\n      <td>Higher education</td>\n      <td>Civil marriage</td>\n      <td>Rented apartment</td>\n      <td>-12005</td>\n      <td>-4542</td>\n      <td>1</td>\n      <td>1</td>\n      <td>0</td>\n      <td>0</td>\n      <td>Other</td>\n      <td>2.0</td>\n      <td>-4</td>\n      <td>Good</td>\n    </tr>\n    <tr>\n      <th>...</th>\n      <td>...</td>\n      <td>...</td>\n      <td>...</td>\n      <td>...</td>\n      <td>...</td>\n      <td>...</td>\n      <td>...</td>\n      <td>...</td>\n      <td>...</td>\n      <td>...</td>\n      <td>...</td>\n      <td>...</td>\n      <td>...</td>\n      <td>...</td>\n      <td>...</td>\n      <td>...</td>\n      <td>...</td>\n      <td>...</td>\n      <td>...</td>\n      <td>...</td>\n    </tr>\n    <tr>\n      <th>777710</th>\n      <td>5150337</td>\n      <td>M</td>\n      <td>N</td>\n      <td>Y</td>\n      <td>0</td>\n      <td>112500.0</td>\n      <td>Working</td>\n      <td>Secondary / secondary special</td>\n      <td>Single / not married</td>\n      <td>Rented apartment</td>\n      <td>-9188</td>\n      <td>-1193</td>\n      <td>1</td>\n      <td>0</td>\n      <td>0</td>\n      <td>0</td>\n      <td>Laborers</td>\n      <td>1.0</td>\n      <td>-9</td>\n      <td>Good</td>\n    </tr>\n    <tr>\n      <th>777711</th>\n      <td>5150337</td>\n      <td>M</td>\n      <td>N</td>\n      <td>Y</td>\n      <td>0</td>\n      <td>112500.0</td>\n      <td>Working</td>\n      <td>Secondary / secondary special</td>\n      <td>Single / not married</td>\n      <td>Rented apartment</td>\n      <td>-9188</td>\n      <td>-1193</td>\n      <td>1</td>\n      <td>0</td>\n      <td>0</td>\n      <td>0</td>\n      <td>Laborers</td>\n      <td>1.0</td>\n      <td>-10</td>\n      <td>Bad</td>\n    </tr>\n    <tr>\n      <th>777712</th>\n      <td>5150337</td>\n      <td>M</td>\n      <td>N</td>\n      <td>Y</td>\n      <td>0</td>\n      <td>112500.0</td>\n      <td>Working</td>\n      <td>Secondary / secondary special</td>\n      <td>Single / not married</td>\n      <td>Rented apartment</td>\n      <td>-9188</td>\n      <td>-1193</td>\n      <td>1</td>\n      <td>0</td>\n      <td>0</td>\n      <td>0</td>\n      <td>Laborers</td>\n      <td>1.0</td>\n      <td>-11</td>\n      <td>Bad</td>\n    </tr>\n    <tr>\n      <th>777713</th>\n      <td>5150337</td>\n      <td>M</td>\n      <td>N</td>\n      <td>Y</td>\n      <td>0</td>\n      <td>112500.0</td>\n      <td>Working</td>\n      <td>Secondary / secondary special</td>\n      <td>Single / not married</td>\n      <td>Rented apartment</td>\n      <td>-9188</td>\n      <td>-1193</td>\n      <td>1</td>\n      <td>0</td>\n      <td>0</td>\n      <td>0</td>\n      <td>Laborers</td>\n      <td>1.0</td>\n      <td>-12</td>\n      <td>Good</td>\n    </tr>\n    <tr>\n      <th>777714</th>\n      <td>5150337</td>\n      <td>M</td>\n      <td>N</td>\n      <td>Y</td>\n      <td>0</td>\n      <td>112500.0</td>\n      <td>Working</td>\n      <td>Secondary / secondary special</td>\n      <td>Single / not married</td>\n      <td>Rented apartment</td>\n      <td>-9188</td>\n      <td>-1193</td>\n      <td>1</td>\n      <td>0</td>\n      <td>0</td>\n      <td>0</td>\n      <td>Laborers</td>\n      <td>1.0</td>\n      <td>-13</td>\n      <td>Good</td>\n    </tr>\n  </tbody>\n</table>\n<p>777715 rows × 20 columns</p>\n</div>"
     },
     "execution_count": 23,
     "metadata": {},
     "output_type": "execute_result"
    }
   ],
   "source": [
    "dataset"
   ]
  },
  {
   "cell_type": "code",
   "execution_count": 24,
   "metadata": {},
   "outputs": [],
   "source": [
    "from sklearn.preprocessing import LabelEncoder\n",
    "le = LabelEncoder()"
   ]
  },
  {
   "cell_type": "code",
   "execution_count": 25,
   "metadata": {},
   "outputs": [],
   "source": [
    "for col in dataset.columns:\n",
    "    if dataset[col].dtype == 'object':\n",
    "        dataset[col] = le.fit_transform(dataset[col])"
   ]
  },
  {
   "cell_type": "code",
   "execution_count": 26,
   "metadata": {},
   "outputs": [
    {
     "data": {
      "text/plain": "             ID  CODE_GENDER  FLAG_OWN_CAR  FLAG_OWN_REALTY  CNT_CHILDREN  \\\n0       5008804            1             1                1             0   \n1       5008804            1             1                1             0   \n2       5008804            1             1                1             0   \n3       5008804            1             1                1             0   \n4       5008804            1             1                1             0   \n...         ...          ...           ...              ...           ...   \n777710  5150337            1             0                1             0   \n777711  5150337            1             0                1             0   \n777712  5150337            1             0                1             0   \n777713  5150337            1             0                1             0   \n777714  5150337            1             0                1             0   \n\n        AMT_INCOME_TOTAL  NAME_INCOME_TYPE  NAME_EDUCATION_TYPE  \\\n0               427500.0                 4                    1   \n1               427500.0                 4                    1   \n2               427500.0                 4                    1   \n3               427500.0                 4                    1   \n4               427500.0                 4                    1   \n...                  ...               ...                  ...   \n777710          112500.0                 4                    4   \n777711          112500.0                 4                    4   \n777712          112500.0                 4                    4   \n777713          112500.0                 4                    4   \n777714          112500.0                 4                    4   \n\n        NAME_FAMILY_STATUS  NAME_HOUSING_TYPE  DAYS_BIRTH  DAYS_EMPLOYED  \\\n0                        0                  4      -12005          -4542   \n1                        0                  4      -12005          -4542   \n2                        0                  4      -12005          -4542   \n3                        0                  4      -12005          -4542   \n4                        0                  4      -12005          -4542   \n...                    ...                ...         ...            ...   \n777710                   3                  4       -9188          -1193   \n777711                   3                  4       -9188          -1193   \n777712                   3                  4       -9188          -1193   \n777713                   3                  4       -9188          -1193   \n777714                   3                  4       -9188          -1193   \n\n        FLAG_MOBIL  FLAG_WORK_PHONE  FLAG_PHONE  FLAG_EMAIL  OCCUPATION_TYPE  \\\n0                1                1           0           0               12   \n1                1                1           0           0               12   \n2                1                1           0           0               12   \n3                1                1           0           0               12   \n4                1                1           0           0               12   \n...            ...              ...         ...         ...              ...   \n777710           1                0           0           0                8   \n777711           1                0           0           0                8   \n777712           1                0           0           0                8   \n777713           1                0           0           0                8   \n777714           1                0           0           0                8   \n\n        CNT_FAM_MEMBERS  MONTHS_BALANCE  STATUS  \n0                   2.0               0       1  \n1                   2.0              -1       1  \n2                   2.0              -2       1  \n3                   2.0              -3       1  \n4                   2.0              -4       1  \n...                 ...             ...     ...  \n777710              1.0              -9       1  \n777711              1.0             -10       0  \n777712              1.0             -11       0  \n777713              1.0             -12       1  \n777714              1.0             -13       1  \n\n[777715 rows x 20 columns]",
      "text/html": "<div>\n<style scoped>\n    .dataframe tbody tr th:only-of-type {\n        vertical-align: middle;\n    }\n\n    .dataframe tbody tr th {\n        vertical-align: top;\n    }\n\n    .dataframe thead th {\n        text-align: right;\n    }\n</style>\n<table border=\"1\" class=\"dataframe\">\n  <thead>\n    <tr style=\"text-align: right;\">\n      <th></th>\n      <th>ID</th>\n      <th>CODE_GENDER</th>\n      <th>FLAG_OWN_CAR</th>\n      <th>FLAG_OWN_REALTY</th>\n      <th>CNT_CHILDREN</th>\n      <th>AMT_INCOME_TOTAL</th>\n      <th>NAME_INCOME_TYPE</th>\n      <th>NAME_EDUCATION_TYPE</th>\n      <th>NAME_FAMILY_STATUS</th>\n      <th>NAME_HOUSING_TYPE</th>\n      <th>DAYS_BIRTH</th>\n      <th>DAYS_EMPLOYED</th>\n      <th>FLAG_MOBIL</th>\n      <th>FLAG_WORK_PHONE</th>\n      <th>FLAG_PHONE</th>\n      <th>FLAG_EMAIL</th>\n      <th>OCCUPATION_TYPE</th>\n      <th>CNT_FAM_MEMBERS</th>\n      <th>MONTHS_BALANCE</th>\n      <th>STATUS</th>\n    </tr>\n  </thead>\n  <tbody>\n    <tr>\n      <th>0</th>\n      <td>5008804</td>\n      <td>1</td>\n      <td>1</td>\n      <td>1</td>\n      <td>0</td>\n      <td>427500.0</td>\n      <td>4</td>\n      <td>1</td>\n      <td>0</td>\n      <td>4</td>\n      <td>-12005</td>\n      <td>-4542</td>\n      <td>1</td>\n      <td>1</td>\n      <td>0</td>\n      <td>0</td>\n      <td>12</td>\n      <td>2.0</td>\n      <td>0</td>\n      <td>1</td>\n    </tr>\n    <tr>\n      <th>1</th>\n      <td>5008804</td>\n      <td>1</td>\n      <td>1</td>\n      <td>1</td>\n      <td>0</td>\n      <td>427500.0</td>\n      <td>4</td>\n      <td>1</td>\n      <td>0</td>\n      <td>4</td>\n      <td>-12005</td>\n      <td>-4542</td>\n      <td>1</td>\n      <td>1</td>\n      <td>0</td>\n      <td>0</td>\n      <td>12</td>\n      <td>2.0</td>\n      <td>-1</td>\n      <td>1</td>\n    </tr>\n    <tr>\n      <th>2</th>\n      <td>5008804</td>\n      <td>1</td>\n      <td>1</td>\n      <td>1</td>\n      <td>0</td>\n      <td>427500.0</td>\n      <td>4</td>\n      <td>1</td>\n      <td>0</td>\n      <td>4</td>\n      <td>-12005</td>\n      <td>-4542</td>\n      <td>1</td>\n      <td>1</td>\n      <td>0</td>\n      <td>0</td>\n      <td>12</td>\n      <td>2.0</td>\n      <td>-2</td>\n      <td>1</td>\n    </tr>\n    <tr>\n      <th>3</th>\n      <td>5008804</td>\n      <td>1</td>\n      <td>1</td>\n      <td>1</td>\n      <td>0</td>\n      <td>427500.0</td>\n      <td>4</td>\n      <td>1</td>\n      <td>0</td>\n      <td>4</td>\n      <td>-12005</td>\n      <td>-4542</td>\n      <td>1</td>\n      <td>1</td>\n      <td>0</td>\n      <td>0</td>\n      <td>12</td>\n      <td>2.0</td>\n      <td>-3</td>\n      <td>1</td>\n    </tr>\n    <tr>\n      <th>4</th>\n      <td>5008804</td>\n      <td>1</td>\n      <td>1</td>\n      <td>1</td>\n      <td>0</td>\n      <td>427500.0</td>\n      <td>4</td>\n      <td>1</td>\n      <td>0</td>\n      <td>4</td>\n      <td>-12005</td>\n      <td>-4542</td>\n      <td>1</td>\n      <td>1</td>\n      <td>0</td>\n      <td>0</td>\n      <td>12</td>\n      <td>2.0</td>\n      <td>-4</td>\n      <td>1</td>\n    </tr>\n    <tr>\n      <th>...</th>\n      <td>...</td>\n      <td>...</td>\n      <td>...</td>\n      <td>...</td>\n      <td>...</td>\n      <td>...</td>\n      <td>...</td>\n      <td>...</td>\n      <td>...</td>\n      <td>...</td>\n      <td>...</td>\n      <td>...</td>\n      <td>...</td>\n      <td>...</td>\n      <td>...</td>\n      <td>...</td>\n      <td>...</td>\n      <td>...</td>\n      <td>...</td>\n      <td>...</td>\n    </tr>\n    <tr>\n      <th>777710</th>\n      <td>5150337</td>\n      <td>1</td>\n      <td>0</td>\n      <td>1</td>\n      <td>0</td>\n      <td>112500.0</td>\n      <td>4</td>\n      <td>4</td>\n      <td>3</td>\n      <td>4</td>\n      <td>-9188</td>\n      <td>-1193</td>\n      <td>1</td>\n      <td>0</td>\n      <td>0</td>\n      <td>0</td>\n      <td>8</td>\n      <td>1.0</td>\n      <td>-9</td>\n      <td>1</td>\n    </tr>\n    <tr>\n      <th>777711</th>\n      <td>5150337</td>\n      <td>1</td>\n      <td>0</td>\n      <td>1</td>\n      <td>0</td>\n      <td>112500.0</td>\n      <td>4</td>\n      <td>4</td>\n      <td>3</td>\n      <td>4</td>\n      <td>-9188</td>\n      <td>-1193</td>\n      <td>1</td>\n      <td>0</td>\n      <td>0</td>\n      <td>0</td>\n      <td>8</td>\n      <td>1.0</td>\n      <td>-10</td>\n      <td>0</td>\n    </tr>\n    <tr>\n      <th>777712</th>\n      <td>5150337</td>\n      <td>1</td>\n      <td>0</td>\n      <td>1</td>\n      <td>0</td>\n      <td>112500.0</td>\n      <td>4</td>\n      <td>4</td>\n      <td>3</td>\n      <td>4</td>\n      <td>-9188</td>\n      <td>-1193</td>\n      <td>1</td>\n      <td>0</td>\n      <td>0</td>\n      <td>0</td>\n      <td>8</td>\n      <td>1.0</td>\n      <td>-11</td>\n      <td>0</td>\n    </tr>\n    <tr>\n      <th>777713</th>\n      <td>5150337</td>\n      <td>1</td>\n      <td>0</td>\n      <td>1</td>\n      <td>0</td>\n      <td>112500.0</td>\n      <td>4</td>\n      <td>4</td>\n      <td>3</td>\n      <td>4</td>\n      <td>-9188</td>\n      <td>-1193</td>\n      <td>1</td>\n      <td>0</td>\n      <td>0</td>\n      <td>0</td>\n      <td>8</td>\n      <td>1.0</td>\n      <td>-12</td>\n      <td>1</td>\n    </tr>\n    <tr>\n      <th>777714</th>\n      <td>5150337</td>\n      <td>1</td>\n      <td>0</td>\n      <td>1</td>\n      <td>0</td>\n      <td>112500.0</td>\n      <td>4</td>\n      <td>4</td>\n      <td>3</td>\n      <td>4</td>\n      <td>-9188</td>\n      <td>-1193</td>\n      <td>1</td>\n      <td>0</td>\n      <td>0</td>\n      <td>0</td>\n      <td>8</td>\n      <td>1.0</td>\n      <td>-13</td>\n      <td>1</td>\n    </tr>\n  </tbody>\n</table>\n<p>777715 rows × 20 columns</p>\n</div>"
     },
     "execution_count": 26,
     "metadata": {},
     "output_type": "execute_result"
    }
   ],
   "source": [
    "dataset"
   ]
  },
  {
   "cell_type": "code",
   "execution_count": 27,
   "metadata": {},
   "outputs": [
    {
     "name": "stdout",
     "output_type": "stream",
     "text": [
      "<class 'pandas.core.frame.DataFrame'>\n",
      "Int64Index: 777715 entries, 0 to 777714\n",
      "Data columns (total 20 columns):\n",
      " #   Column               Non-Null Count   Dtype  \n",
      "---  ------               --------------   -----  \n",
      " 0   ID                   777715 non-null  int64  \n",
      " 1   CODE_GENDER          777715 non-null  int32  \n",
      " 2   FLAG_OWN_CAR         777715 non-null  int32  \n",
      " 3   FLAG_OWN_REALTY      777715 non-null  int32  \n",
      " 4   CNT_CHILDREN         777715 non-null  int64  \n",
      " 5   AMT_INCOME_TOTAL     777715 non-null  float64\n",
      " 6   NAME_INCOME_TYPE     777715 non-null  int32  \n",
      " 7   NAME_EDUCATION_TYPE  777715 non-null  int32  \n",
      " 8   NAME_FAMILY_STATUS   777715 non-null  int32  \n",
      " 9   NAME_HOUSING_TYPE    777715 non-null  int32  \n",
      " 10  DAYS_BIRTH           777715 non-null  int64  \n",
      " 11  DAYS_EMPLOYED        777715 non-null  int64  \n",
      " 12  FLAG_MOBIL           777715 non-null  int64  \n",
      " 13  FLAG_WORK_PHONE      777715 non-null  int64  \n",
      " 14  FLAG_PHONE           777715 non-null  int64  \n",
      " 15  FLAG_EMAIL           777715 non-null  int64  \n",
      " 16  OCCUPATION_TYPE      777715 non-null  int32  \n",
      " 17  CNT_FAM_MEMBERS      777715 non-null  float64\n",
      " 18  MONTHS_BALANCE       777715 non-null  int64  \n",
      " 19  STATUS               777715 non-null  int32  \n",
      "dtypes: float64(2), int32(9), int64(9)\n",
      "memory usage: 97.9 MB\n"
     ]
    }
   ],
   "source": [
    "dataset.info()"
   ]
  },
  {
   "cell_type": "code",
   "execution_count": 28,
   "outputs": [
    {
     "data": {
      "text/plain": "1    766140\n0     11575\nName: STATUS, dtype: int64"
     },
     "execution_count": 28,
     "metadata": {},
     "output_type": "execute_result"
    }
   ],
   "source": [
    "dataset.STATUS.value_counts()"
   ],
   "metadata": {
    "collapsed": false
   }
  },
  {
   "cell_type": "markdown",
   "metadata": {},
   "source": [
    "### Splitting the dataset"
   ]
  },
  {
   "cell_type": "code",
   "execution_count": 29,
   "outputs": [],
   "source": [
    "forward_elm = ['CODE_GENDER',\n",
    " 'FLAG_OWN_CAR',\n",
    " 'FLAG_OWN_REALTY',\n",
    " 'CNT_CHILDREN',\n",
    " 'NAME_INCOME_TYPE',\n",
    " 'NAME_EDUCATION_TYPE',\n",
    " 'NAME_HOUSING_TYPE',\n",
    " 'DAYS_BIRTH',\n",
    " 'FLAG_MOBIL']\n",
    "backward_elm = [['DAYS_BIRTH',\n",
    " 'DAYS_EMPLOYED',\n",
    " 'FLAG_MOBIL',\n",
    " 'FLAG_WORK_PHONE',\n",
    " 'FLAG_PHONE',\n",
    " 'FLAG_EMAIL',\n",
    " 'OCCUPATION_TYPE',\n",
    " 'CNT_FAM_MEMBERS',\n",
    " 'MONTHS_BALANCE']]"
   ],
   "metadata": {
    "collapsed": false
   }
  },
  {
   "cell_type": "code",
   "execution_count": 30,
   "outputs": [],
   "source": [
    "X = dataset.iloc[:, :-1]\n",
    "y = dataset.iloc[:,-1]"
   ],
   "metadata": {
    "collapsed": false
   }
  },
  {
   "cell_type": "code",
   "execution_count": 73,
   "metadata": {},
   "outputs": [],
   "source": [
    "from sklearn.model_selection import KFold,StratifiedKFold\n",
    "kfold = StratifiedKFold(n_splits=8, shuffle=True, random_state=0)"
   ]
  },
  {
   "cell_type": "code",
   "execution_count": 74,
   "outputs": [],
   "source": [
    "for train_index, test_index in kfold.split(X,y):\n",
    "    # Split the data into train and test sets\n",
    "    X_train, X_test = X.iloc[train_index], X.iloc[test_index]\n",
    "    y_train, y_test = y.iloc[train_index], y.iloc[test_index]"
   ],
   "metadata": {
    "collapsed": false
   }
  },
  {
   "cell_type": "markdown",
   "metadata": {},
   "source": [
    "### Building Model"
   ]
  },
  {
   "cell_type": "code",
   "execution_count": 178,
   "metadata": {},
   "outputs": [
    {
     "data": {
      "text/plain": "DecisionTreeClassifier(class_weight='balanced', max_depth=19,\n                       min_samples_split=19, random_state=0)"
     },
     "execution_count": 178,
     "metadata": {},
     "output_type": "execute_result"
    }
   ],
   "source": [
    "from sklearn.ensemble import AdaBoostClassifier\n",
    "from sklearn.tree import DecisionTreeClassifier\n",
    "from sklearn.ensemble import RandomForestClassifier\n",
    "from sklearn.linear_model import LogisticRegression\n",
    "from sklearn.svm import SVC\n",
    "classifier = DecisionTreeClassifier(class_weight='balanced',max_depth=19,random_state=0,splitter='best',min_samples_split=19)\n",
    "classifier.fit(X_train, y_train)"
   ]
  },
  {
   "cell_type": "code",
   "execution_count": 179,
   "metadata": {},
   "outputs": [],
   "source": [
    "y_pred = classifier.predict(X_test)"
   ]
  },
  {
   "cell_type": "code",
   "execution_count": 180,
   "metadata": {},
   "outputs": [],
   "source": [
    "y_pred_train= classifier.predict(X_train)"
   ]
  },
  {
   "cell_type": "code",
   "execution_count": 181,
   "metadata": {},
   "outputs": [],
   "source": [
    "from sklearn.metrics import confusion_matrix, accuracy_score, precision_score, recall_score, f1_score\n",
    "acc = accuracy_score(y_test,y_pred)\n",
    "confusion_mat = confusion_matrix(y_test,y_pred)\n",
    "pre_score = precision_score(y_test,y_pred)\n",
    "recall = recall_score(y_test,y_pred)\n",
    "f1 = f1_score(y_test,y_pred)"
   ]
  },
  {
   "cell_type": "code",
   "execution_count": 182,
   "outputs": [
    {
     "name": "stdout",
     "output_type": "stream",
     "text": [
      "Average accuracy: 0.8888328841524883\n"
     ]
    }
   ],
   "source": [
    "accuracy = [accuracy_score(y_test, y_pred)]\n",
    "avg_accuracy = np.mean(accuracy)\n",
    "print(\"Average accuracy:\", avg_accuracy)"
   ],
   "metadata": {
    "collapsed": false
   }
  },
  {
   "cell_type": "code",
   "execution_count": 183,
   "metadata": {},
   "outputs": [
    {
     "data": {
      "text/plain": "0.9443356586140678"
     },
     "execution_count": 183,
     "metadata": {},
     "output_type": "execute_result"
    }
   ],
   "source": [
    "f1_score(y_train,y_pred_train)"
   ]
  },
  {
   "cell_type": "code",
   "execution_count": 184,
   "metadata": {},
   "outputs": [
    {
     "data": {
      "text/plain": "0.9404674683662846"
     },
     "execution_count": 184,
     "metadata": {},
     "output_type": "execute_result"
    }
   ],
   "source": [
    "f1"
   ]
  },
  {
   "cell_type": "code",
   "execution_count": 185,
   "metadata": {},
   "outputs": [
    {
     "data": {
      "text/plain": "array([[ 1045,   402],\n       [10405, 85362]], dtype=int64)"
     },
     "execution_count": 185,
     "metadata": {},
     "output_type": "execute_result"
    }
   ],
   "source": [
    "confusion_mat"
   ]
  },
  {
   "cell_type": "code",
   "execution_count": 186,
   "metadata": {},
   "outputs": [
    {
     "data": {
      "text/plain": "array([[  9573,    555],\n       [ 70200, 600173]], dtype=int64)"
     },
     "execution_count": 186,
     "metadata": {},
     "output_type": "execute_result"
    }
   ],
   "source": [
    "confusion_mat_train=confusion_matrix(y_train,y_pred_train)\n",
    "confusion_mat_train"
   ]
  },
  {
   "cell_type": "code",
   "execution_count": 187,
   "metadata": {},
   "outputs": [
    {
     "data": {
      "text/plain": "0.8888328841524883"
     },
     "execution_count": 187,
     "metadata": {},
     "output_type": "execute_result"
    }
   ],
   "source": [
    "acc"
   ]
  },
  {
   "cell_type": "code",
   "execution_count": 188,
   "metadata": {},
   "outputs": [
    {
     "data": {
      "text/plain": "0.8960251344230207"
     },
     "execution_count": 188,
     "metadata": {},
     "output_type": "execute_result"
    }
   ],
   "source": [
    "accuracy_score(y_train,y_pred_train)"
   ]
  },
  {
   "cell_type": "code",
   "execution_count": 189,
   "metadata": {},
   "outputs": [
    {
     "data": {
      "text/plain": "0.8913508828719705"
     },
     "execution_count": 189,
     "metadata": {},
     "output_type": "execute_result"
    }
   ],
   "source": [
    "recall"
   ]
  },
  {
   "cell_type": "code",
   "execution_count": 190,
   "metadata": {},
   "outputs": [
    {
     "data": {
      "text/plain": "0.8952821787273653"
     },
     "execution_count": 190,
     "metadata": {},
     "output_type": "execute_result"
    }
   ],
   "source": [
    "recall_score(y_train,y_pred_train)"
   ]
  },
  {
   "cell_type": "code",
   "execution_count": 191,
   "outputs": [
    {
     "data": {
      "text/plain": "0.9953127186231986"
     },
     "execution_count": 191,
     "metadata": {},
     "output_type": "execute_result"
    }
   ],
   "source": [
    "pre_score"
   ],
   "metadata": {
    "collapsed": false
   }
  },
  {
   "cell_type": "code",
   "execution_count": 192,
   "outputs": [
    {
     "data": {
      "text/plain": "0.9990761209732192"
     },
     "execution_count": 192,
     "metadata": {},
     "output_type": "execute_result"
    }
   ],
   "source": [
    "precision_score(y_train,y_pred_train)"
   ],
   "metadata": {
    "collapsed": false
   }
  },
  {
   "cell_type": "code",
   "execution_count": 193,
   "outputs": [
    {
     "data": {
      "text/plain": "0.7221838286109191"
     },
     "execution_count": 193,
     "metadata": {},
     "output_type": "execute_result"
    }
   ],
   "source": [
    "specificity_test = confusion_mat[0,0] / (confusion_mat[0,0] + confusion_mat[0,1])\n",
    "specificity_test"
   ],
   "metadata": {
    "collapsed": false
   }
  },
  {
   "cell_type": "code",
   "execution_count": 194,
   "outputs": [
    {
     "data": {
      "text/plain": "0.9452014218009479"
     },
     "execution_count": 194,
     "metadata": {},
     "output_type": "execute_result"
    }
   ],
   "source": [
    "specificity_train = confusion_mat_train[0,0] / (confusion_mat_train[0,0] + confusion_mat_train[0,1])\n",
    "specificity_train"
   ],
   "metadata": {
    "collapsed": false
   }
  },
  {
   "cell_type": "code",
   "execution_count": 195,
   "outputs": [
    {
     "data": {
      "text/plain": "0.8960251344230207"
     },
     "execution_count": 195,
     "metadata": {},
     "output_type": "execute_result"
    }
   ],
   "source": [
    "classifier.score(X_train, y_train)"
   ],
   "metadata": {
    "collapsed": false
   }
  },
  {
   "cell_type": "code",
   "execution_count": 196,
   "outputs": [
    {
     "data": {
      "text/plain": "0.8888328841524883"
     },
     "execution_count": 196,
     "metadata": {},
     "output_type": "execute_result"
    }
   ],
   "source": [
    "classifier.score(X_test, y_test)"
   ],
   "metadata": {
    "collapsed": false
   }
  },
  {
   "cell_type": "code",
   "execution_count": 51,
   "outputs": [],
   "source": [],
   "metadata": {
    "collapsed": false
   }
  }
 ],
 "metadata": {
  "kernelspec": {
   "display_name": "Python 3 (ipykernel)",
   "language": "python",
   "name": "python3"
  },
  "language_info": {
   "codemirror_mode": {
    "name": "ipython",
    "version": 3
   },
   "file_extension": ".py",
   "mimetype": "text/x-python",
   "name": "python",
   "nbconvert_exporter": "python",
   "pygments_lexer": "ipython3",
   "version": "3.9.12"
  }
 },
 "nbformat": 4,
 "nbformat_minor": 1
}
