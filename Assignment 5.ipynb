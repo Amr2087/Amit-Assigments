{
 "cells": [
  {
   "cell_type": "code",
   "execution_count": 3,
   "outputs": [],
   "source": [
    "import pandas as pd\n",
    "import numpy as np"
   ],
   "metadata": {
    "collapsed": false
   }
  },
  {
   "cell_type": "code",
   "execution_count": 4,
   "outputs": [],
   "source": [
    "dataset = pd.read_csv('data/AutoMobile PreProcessed.csv')"
   ],
   "metadata": {
    "collapsed": false
   }
  },
  {
   "cell_type": "code",
   "execution_count": 5,
   "outputs": [
    {
     "data": {
      "text/plain": "     symboling  normalized-losses  wheel-base  length  width  height  \\\n0            3          125.64359        88.6   168.8   64.1    48.8   \n1            3          125.64359        88.6   168.8   64.1    48.8   \n2            1          125.64359        94.5   171.2   65.5    52.4   \n3            2          164.00000        99.8   176.6   66.2    54.3   \n4            2          164.00000        99.4   176.6   66.4    54.3   \n..         ...                ...         ...     ...    ...     ...   \n196         -1           95.00000       109.1   188.8   68.9    55.5   \n197         -1           95.00000       109.1   188.8   68.8    55.5   \n198         -1           95.00000       109.1   188.8   68.9    55.5   \n199         -1           95.00000       109.1   188.8   68.9    55.5   \n200         -1           95.00000       109.1   188.8   68.9    55.5   \n\n     curb-weight  engine-size  bore  stroke  ...  peak-rpm_5200  \\\n0           2548          130  3.47    2.68  ...              0   \n1           2548          130  3.47    2.68  ...              0   \n2           2823          152  2.68    3.47  ...              0   \n3           2337          109  3.19    3.40  ...              0   \n4           2824          136  3.19    3.40  ...              0   \n..           ...          ...   ...     ...  ...            ...   \n196         2952          141  3.78    3.15  ...              0   \n197         3049          141  3.78    3.15  ...              0   \n198         3012          173  3.58    2.87  ...              0   \n199         3217          145  3.01    3.40  ...              0   \n200         3062          141  3.78    3.15  ...              0   \n\n     peak-rpm_5250  peak-rpm_5300  peak-rpm_5400  peak-rpm_5500  \\\n0                0              0              0              0   \n1                0              0              0              0   \n2                0              0              0              0   \n3                0              0              0              1   \n4                0              0              0              1   \n..             ...            ...            ...            ...   \n196              0              0              1              0   \n197              0              1              0              0   \n198              0              0              0              1   \n199              0              0              0              0   \n200              0              0              1              0   \n\n     peak-rpm_5600  peak-rpm_5800  peak-rpm_5900  peak-rpm_6000  peak-rpm_6600  \n0                0              0              0              0              0  \n1                0              0              0              0              0  \n2                0              0              0              0              0  \n3                0              0              0              0              0  \n4                0              0              0              0              0  \n..             ...            ...            ...            ...            ...  \n196              0              0              0              0              0  \n197              0              0              0              0              0  \n198              0              0              0              0              0  \n199              0              0              0              0              0  \n200              0              0              0              0              0  \n\n[201 rows x 155 columns]",
      "text/html": "<div>\n<style scoped>\n    .dataframe tbody tr th:only-of-type {\n        vertical-align: middle;\n    }\n\n    .dataframe tbody tr th {\n        vertical-align: top;\n    }\n\n    .dataframe thead th {\n        text-align: right;\n    }\n</style>\n<table border=\"1\" class=\"dataframe\">\n  <thead>\n    <tr style=\"text-align: right;\">\n      <th></th>\n      <th>symboling</th>\n      <th>normalized-losses</th>\n      <th>wheel-base</th>\n      <th>length</th>\n      <th>width</th>\n      <th>height</th>\n      <th>curb-weight</th>\n      <th>engine-size</th>\n      <th>bore</th>\n      <th>stroke</th>\n      <th>...</th>\n      <th>peak-rpm_5200</th>\n      <th>peak-rpm_5250</th>\n      <th>peak-rpm_5300</th>\n      <th>peak-rpm_5400</th>\n      <th>peak-rpm_5500</th>\n      <th>peak-rpm_5600</th>\n      <th>peak-rpm_5800</th>\n      <th>peak-rpm_5900</th>\n      <th>peak-rpm_6000</th>\n      <th>peak-rpm_6600</th>\n    </tr>\n  </thead>\n  <tbody>\n    <tr>\n      <th>0</th>\n      <td>3</td>\n      <td>125.64359</td>\n      <td>88.6</td>\n      <td>168.8</td>\n      <td>64.1</td>\n      <td>48.8</td>\n      <td>2548</td>\n      <td>130</td>\n      <td>3.47</td>\n      <td>2.68</td>\n      <td>...</td>\n      <td>0</td>\n      <td>0</td>\n      <td>0</td>\n      <td>0</td>\n      <td>0</td>\n      <td>0</td>\n      <td>0</td>\n      <td>0</td>\n      <td>0</td>\n      <td>0</td>\n    </tr>\n    <tr>\n      <th>1</th>\n      <td>3</td>\n      <td>125.64359</td>\n      <td>88.6</td>\n      <td>168.8</td>\n      <td>64.1</td>\n      <td>48.8</td>\n      <td>2548</td>\n      <td>130</td>\n      <td>3.47</td>\n      <td>2.68</td>\n      <td>...</td>\n      <td>0</td>\n      <td>0</td>\n      <td>0</td>\n      <td>0</td>\n      <td>0</td>\n      <td>0</td>\n      <td>0</td>\n      <td>0</td>\n      <td>0</td>\n      <td>0</td>\n    </tr>\n    <tr>\n      <th>2</th>\n      <td>1</td>\n      <td>125.64359</td>\n      <td>94.5</td>\n      <td>171.2</td>\n      <td>65.5</td>\n      <td>52.4</td>\n      <td>2823</td>\n      <td>152</td>\n      <td>2.68</td>\n      <td>3.47</td>\n      <td>...</td>\n      <td>0</td>\n      <td>0</td>\n      <td>0</td>\n      <td>0</td>\n      <td>0</td>\n      <td>0</td>\n      <td>0</td>\n      <td>0</td>\n      <td>0</td>\n      <td>0</td>\n    </tr>\n    <tr>\n      <th>3</th>\n      <td>2</td>\n      <td>164.00000</td>\n      <td>99.8</td>\n      <td>176.6</td>\n      <td>66.2</td>\n      <td>54.3</td>\n      <td>2337</td>\n      <td>109</td>\n      <td>3.19</td>\n      <td>3.40</td>\n      <td>...</td>\n      <td>0</td>\n      <td>0</td>\n      <td>0</td>\n      <td>0</td>\n      <td>1</td>\n      <td>0</td>\n      <td>0</td>\n      <td>0</td>\n      <td>0</td>\n      <td>0</td>\n    </tr>\n    <tr>\n      <th>4</th>\n      <td>2</td>\n      <td>164.00000</td>\n      <td>99.4</td>\n      <td>176.6</td>\n      <td>66.4</td>\n      <td>54.3</td>\n      <td>2824</td>\n      <td>136</td>\n      <td>3.19</td>\n      <td>3.40</td>\n      <td>...</td>\n      <td>0</td>\n      <td>0</td>\n      <td>0</td>\n      <td>0</td>\n      <td>1</td>\n      <td>0</td>\n      <td>0</td>\n      <td>0</td>\n      <td>0</td>\n      <td>0</td>\n    </tr>\n    <tr>\n      <th>...</th>\n      <td>...</td>\n      <td>...</td>\n      <td>...</td>\n      <td>...</td>\n      <td>...</td>\n      <td>...</td>\n      <td>...</td>\n      <td>...</td>\n      <td>...</td>\n      <td>...</td>\n      <td>...</td>\n      <td>...</td>\n      <td>...</td>\n      <td>...</td>\n      <td>...</td>\n      <td>...</td>\n      <td>...</td>\n      <td>...</td>\n      <td>...</td>\n      <td>...</td>\n      <td>...</td>\n    </tr>\n    <tr>\n      <th>196</th>\n      <td>-1</td>\n      <td>95.00000</td>\n      <td>109.1</td>\n      <td>188.8</td>\n      <td>68.9</td>\n      <td>55.5</td>\n      <td>2952</td>\n      <td>141</td>\n      <td>3.78</td>\n      <td>3.15</td>\n      <td>...</td>\n      <td>0</td>\n      <td>0</td>\n      <td>0</td>\n      <td>1</td>\n      <td>0</td>\n      <td>0</td>\n      <td>0</td>\n      <td>0</td>\n      <td>0</td>\n      <td>0</td>\n    </tr>\n    <tr>\n      <th>197</th>\n      <td>-1</td>\n      <td>95.00000</td>\n      <td>109.1</td>\n      <td>188.8</td>\n      <td>68.8</td>\n      <td>55.5</td>\n      <td>3049</td>\n      <td>141</td>\n      <td>3.78</td>\n      <td>3.15</td>\n      <td>...</td>\n      <td>0</td>\n      <td>0</td>\n      <td>1</td>\n      <td>0</td>\n      <td>0</td>\n      <td>0</td>\n      <td>0</td>\n      <td>0</td>\n      <td>0</td>\n      <td>0</td>\n    </tr>\n    <tr>\n      <th>198</th>\n      <td>-1</td>\n      <td>95.00000</td>\n      <td>109.1</td>\n      <td>188.8</td>\n      <td>68.9</td>\n      <td>55.5</td>\n      <td>3012</td>\n      <td>173</td>\n      <td>3.58</td>\n      <td>2.87</td>\n      <td>...</td>\n      <td>0</td>\n      <td>0</td>\n      <td>0</td>\n      <td>0</td>\n      <td>1</td>\n      <td>0</td>\n      <td>0</td>\n      <td>0</td>\n      <td>0</td>\n      <td>0</td>\n    </tr>\n    <tr>\n      <th>199</th>\n      <td>-1</td>\n      <td>95.00000</td>\n      <td>109.1</td>\n      <td>188.8</td>\n      <td>68.9</td>\n      <td>55.5</td>\n      <td>3217</td>\n      <td>145</td>\n      <td>3.01</td>\n      <td>3.40</td>\n      <td>...</td>\n      <td>0</td>\n      <td>0</td>\n      <td>0</td>\n      <td>0</td>\n      <td>0</td>\n      <td>0</td>\n      <td>0</td>\n      <td>0</td>\n      <td>0</td>\n      <td>0</td>\n    </tr>\n    <tr>\n      <th>200</th>\n      <td>-1</td>\n      <td>95.00000</td>\n      <td>109.1</td>\n      <td>188.8</td>\n      <td>68.9</td>\n      <td>55.5</td>\n      <td>3062</td>\n      <td>141</td>\n      <td>3.78</td>\n      <td>3.15</td>\n      <td>...</td>\n      <td>0</td>\n      <td>0</td>\n      <td>0</td>\n      <td>1</td>\n      <td>0</td>\n      <td>0</td>\n      <td>0</td>\n      <td>0</td>\n      <td>0</td>\n      <td>0</td>\n    </tr>\n  </tbody>\n</table>\n<p>201 rows × 155 columns</p>\n</div>"
     },
     "execution_count": 5,
     "metadata": {},
     "output_type": "execute_result"
    }
   ],
   "source": [
    "dataset"
   ],
   "metadata": {
    "collapsed": false
   }
  },
  {
   "cell_type": "code",
   "execution_count": 6,
   "outputs": [],
   "source": [
    "y = dataset.loc[:,'price'].values\n",
    "dataset.drop('price', inplace=True, axis=1)"
   ],
   "metadata": {
    "collapsed": false
   }
  },
  {
   "cell_type": "code",
   "execution_count": 7,
   "outputs": [],
   "source": [
    "X = dataset.loc[:,:].values"
   ],
   "metadata": {
    "collapsed": false
   }
  },
  {
   "cell_type": "code",
   "execution_count": 8,
   "outputs": [
    {
     "data": {
      "text/plain": "array([[  3.       , 125.6435897,  88.6      , ...,   0.       ,\n          0.       ,   0.       ],\n       [  3.       , 125.6435897,  88.6      , ...,   0.       ,\n          0.       ,   0.       ],\n       [  1.       , 125.6435897,  94.5      , ...,   0.       ,\n          0.       ,   0.       ],\n       ...,\n       [ -1.       ,  95.       , 109.1      , ...,   0.       ,\n          0.       ,   0.       ],\n       [ -1.       ,  95.       , 109.1      , ...,   0.       ,\n          0.       ,   0.       ],\n       [ -1.       ,  95.       , 109.1      , ...,   0.       ,\n          0.       ,   0.       ]])"
     },
     "execution_count": 8,
     "metadata": {},
     "output_type": "execute_result"
    }
   ],
   "source": [
    "X"
   ],
   "metadata": {
    "collapsed": false
   }
  },
  {
   "cell_type": "code",
   "execution_count": 9,
   "outputs": [
    {
     "data": {
      "text/plain": "array([13495, 16500, 16500, 13950, 17450, 15250, 17710, 18920, 23875,\n       16430, 16925, 20970, 21105, 24565, 30760, 41315, 36880,  5151,\n        6295,  6575,  5572,  6377,  7957,  6229,  6692,  7609,  8558,\n        8921, 12964,  6479,  6855,  5399,  6529,  7129,  7295,  7295,\n        7895,  9095,  8845, 10295, 12945, 10345,  6785, 11048, 32250,\n       35550, 36000,  5195,  6095,  6795,  6695,  7395, 10945, 11845,\n       13645, 15645,  8845,  8495, 10595, 10245, 10795, 11245, 18280,\n       18344, 25552, 28248, 28176, 31600, 34184, 35056, 40960, 45400,\n       16503,  5389,  6189,  6669,  7689,  9959,  8499, 12629, 14869,\n       14489,  6989,  8189,  9279,  9279,  5499,  7099,  6649,  6849,\n        7349,  7299,  7799,  7499,  7999,  8249,  8949,  9549, 13499,\n       14399, 13499, 17199, 19699, 18399, 11900, 13200, 12440, 13860,\n       15580, 16900, 16695, 17075, 16630, 17950, 18150,  5572,  7957,\n        6229,  6692,  7609,  8921, 12764, 22018, 32528, 34028, 37028,\n        9295,  9895, 11850, 12170, 15040, 15510, 18150, 18620,  5118,\n        7053,  7603,  7126,  7775,  9960,  9233, 11259,  7463, 10198,\n        8013, 11694,  5348,  6338,  6488,  6918,  7898,  8778,  6938,\n        7198,  7898,  7788,  7738,  8358,  9258,  8058,  8238,  9298,\n        9538,  8449,  9639,  9989, 11199, 11549, 17669,  8948, 10698,\n        9988, 10898, 11248, 16558, 15998, 15690, 15750,  7775,  7975,\n        7995,  8195,  8495,  9495,  9995, 11595,  9980, 13295, 13845,\n       12290, 12940, 13415, 15985, 16515, 18420, 18950, 16845, 19045,\n       21485, 22470, 22625], dtype=int64)"
     },
     "execution_count": 9,
     "metadata": {},
     "output_type": "execute_result"
    }
   ],
   "source": [
    "y"
   ],
   "metadata": {
    "collapsed": false
   }
  },
  {
   "cell_type": "code",
   "execution_count": 10,
   "outputs": [],
   "source": [
    "from sklearn.model_selection import train_test_split\n",
    "X_train, X_test, y_train, y_test = train_test_split(X,y, test_size=0.25)"
   ],
   "metadata": {
    "collapsed": false
   }
  },
  {
   "cell_type": "code",
   "execution_count": 65,
   "outputs": [],
   "source": [
    "class MultipleLinearRegression:\n",
    "    def __init__(self,lr = 0.0000000001, epoch=7000):\n",
    "        self.lr = lr\n",
    "        self.epoch = epoch\n",
    "        self.wights = None\n",
    "        self.bais= None\n",
    "\n",
    "    def fit(self,X,y):\n",
    "        n_samples, n_features = X.shape\n",
    "        self.wights = np.zeros(n_features)\n",
    "        self.bais = 0\n",
    "\n",
    "        # Gradient Descent\n",
    "        for i in range(self.epoch):\n",
    "            y_pred = np.dot(X, self.wights)+self.bais\n",
    "            dw = (2/n_samples)*np.dot(X.T,(y_pred-y)) #Derivative W\n",
    "            db = (2/n_samples)*np.sum((y_pred-y)) #Derivative B\n",
    "            self.wights = self.wights - self.lr * dw\n",
    "            self.bais = self.bais - self.lr * db\n",
    "\n",
    "    def predict(self,X):\n",
    "        y_pred = np.dot(X, self.wights) + self.bais\n",
    "        return y_pred"
   ],
   "metadata": {
    "collapsed": false
   }
  },
  {
   "cell_type": "code",
   "execution_count": 66,
   "outputs": [],
   "source": [
    "def MSE(y_pred,y_true):\n",
    "    mse = np.mean((y_pred-y_true)**2)\n",
    "    return mse"
   ],
   "metadata": {
    "collapsed": false
   }
  },
  {
   "cell_type": "code",
   "execution_count": 87,
   "outputs": [],
   "source": [
    "reg = MultipleLinearRegression(lr=0.0000001, epoch=6000)\n",
    "reg.fit(X_train,y_train)"
   ],
   "metadata": {
    "collapsed": false
   }
  },
  {
   "cell_type": "code",
   "execution_count": 88,
   "outputs": [],
   "source": [
    "y_pred = reg.predict(X_test)"
   ],
   "metadata": {
    "collapsed": false
   }
  },
  {
   "cell_type": "code",
   "execution_count": 89,
   "outputs": [
    {
     "data": {
      "text/plain": "11936436.138910614"
     },
     "execution_count": 89,
     "metadata": {},
     "output_type": "execute_result"
    }
   ],
   "source": [
    "MSE(y_pred,y_test)"
   ],
   "metadata": {
    "collapsed": false
   }
  },
  {
   "cell_type": "code",
   "execution_count": 90,
   "outputs": [
    {
     "data": {
      "text/plain": "LinearRegression()"
     },
     "execution_count": 90,
     "metadata": {},
     "output_type": "execute_result"
    }
   ],
   "source": [
    "from sklearn.linear_model import LinearRegression\n",
    "regressor = LinearRegression()\n",
    "regressor.fit(X_train,y_train)"
   ],
   "metadata": {
    "collapsed": false
   }
  },
  {
   "cell_type": "code",
   "execution_count": 91,
   "outputs": [],
   "source": [
    "y_pred = regressor.predict(X_test)"
   ],
   "metadata": {
    "collapsed": false
   }
  },
  {
   "cell_type": "code",
   "execution_count": 92,
   "outputs": [
    {
     "data": {
      "text/plain": "18383327.825572148"
     },
     "execution_count": 92,
     "metadata": {},
     "output_type": "execute_result"
    }
   ],
   "source": [
    "from sklearn.metrics import mean_squared_error\n",
    "mse = mean_squared_error(y_true=y_test,y_pred=y_pred)\n",
    "mse"
   ],
   "metadata": {
    "collapsed": false
   }
  }
 ],
 "metadata": {
  "dl_toc_settings": {
   "rndtag": "15456"
  },
  "kernelspec": {
   "display_name": "Python 3",
   "language": "python",
   "name": "python3"
  },
  "language_info": {
   "codemirror_mode": {
    "name": "ipython",
    "version": 3
   },
   "file_extension": ".py",
   "mimetype": "text/x-python",
   "name": "python",
   "nbconvert_exporter": "python",
   "pygments_lexer": "ipython3",
   "version": "3.7.6"
  },
  "toc-autonumbering": false
 },
 "nbformat": 4,
 "nbformat_minor": 5
}
