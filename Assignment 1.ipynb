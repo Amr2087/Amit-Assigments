{
 "cells": [
  {
   "cell_type": "markdown",
   "source": [
    "# 1.Implement Fibonacci series using recursion"
   ],
   "metadata": {
    "collapsed": false
   }
  },
  {
   "cell_type": "code",
   "execution_count": 14,
   "outputs": [
    {
     "name": "stdout",
     "output_type": "stream",
     "text": [
      "0 1 1 2 3 5 8 "
     ]
    }
   ],
   "source": [
    "def fibonacci_s(n):\n",
    "    if n <= 1 :\n",
    "        return n\n",
    "    else:\n",
    "        return fibonacci_s(n-2) + fibonacci_s(n-1)\n",
    "for i in range(7):\n",
    "    print(fibonacci_s(i), end=\" \")\n",
    "#123"
   ],
   "metadata": {
    "collapsed": false
   }
  },
  {
   "cell_type": "markdown",
   "source": [
    "# 2.Write a function that will take a given string and reverse the order of the words."
   ],
   "metadata": {
    "collapsed": false
   }
  },
  {
   "cell_type": "code",
   "execution_count": 15,
   "outputs": [
    {
     "name": "stdout",
     "output_type": "stream",
     "text": [
      "World Hello\n"
     ]
    }
   ],
   "source": [
    "def reverse_string(text):\n",
    "    list_str = text.split()\n",
    "    list_str.reverse()\n",
    "    print(f\"{list_str[0]} { list_str[1]}\")\n",
    "\n",
    "reverse_string(\"Hello World\")"
   ],
   "metadata": {
    "collapsed": false
   }
  },
  {
   "cell_type": "markdown",
   "source": [
    "# 3.Write a function, primeNumberDetector, that tests if a number, n is a prime number."
   ],
   "metadata": {
    "collapsed": false
   }
  },
  {
   "cell_type": "code",
   "execution_count": 16,
   "outputs": [
    {
     "data": {
      "text/plain": "True"
     },
     "execution_count": 16,
     "metadata": {},
     "output_type": "execute_result"
    }
   ],
   "source": [
    "def prime_num(number1):\n",
    "    flag = False\n",
    "    if number1 == 1 or 0:\n",
    "        flag = False\n",
    "    for i in range (2, number1):\n",
    "        if number1%i == 0:\n",
    "            flag = False\n",
    "            break\n",
    "        else:\n",
    "            flag = True\n",
    "    return flag\n",
    "\n",
    "prime_num(7)"
   ],
   "metadata": {
    "collapsed": false
   }
  },
  {
   "cell_type": "markdown",
   "source": [
    "# 4.Given an integer x, return true if x is a palindrome, and false otherwise."
   ],
   "metadata": {
    "collapsed": false
   }
  },
  {
   "cell_type": "code",
   "execution_count": 17,
   "outputs": [
    {
     "name": "stdout",
     "output_type": "stream",
     "text": [
      "True\n",
      "False\n"
     ]
    }
   ],
   "source": [
    "def is_palindrome(number2):\n",
    "   number_to_str = str(number2)\n",
    "   if number_to_str[::-1] == number_to_str:\n",
    "       return True\n",
    "   else:\n",
    "       return False\n",
    "\n",
    "first_case = is_palindrome(\"aabaa\")\n",
    "print(first_case)\n",
    "second_case = is_palindrome(12411)\n",
    "print(second_case)"
   ],
   "metadata": {
    "collapsed": false
   }
  },
  {
   "cell_type": "code",
   "execution_count": 17,
   "outputs": [],
   "source": [],
   "metadata": {
    "collapsed": false
   }
  }
 ],
 "metadata": {
  "anaconda-cloud": {},
  "kernelspec": {
   "display_name": "Python 3 (ipykernel)",
   "language": "python",
   "name": "python3"
  },
  "language_info": {
   "codemirror_mode": {
    "name": "ipython",
    "version": 3
   },
   "file_extension": ".py",
   "mimetype": "text/x-python",
   "name": "python",
   "nbconvert_exporter": "python",
   "pygments_lexer": "ipython3",
   "version": "3.9.12"
  }
 },
 "nbformat": 4,
 "nbformat_minor": 4
}
