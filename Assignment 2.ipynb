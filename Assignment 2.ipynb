{
 "cells": [
  {
   "cell_type": "markdown",
   "source": [
    "# Task 1 Rectangle Class"
   ],
   "metadata": {
    "collapsed": false
   }
  },
  {
   "cell_type": "markdown",
   "source": [
    "### Creating Parent Class"
   ],
   "metadata": {
    "collapsed": false
   }
  },
  {
   "cell_type": "code",
   "execution_count": 67,
   "outputs": [],
   "source": [
    "class Rectangle:\n",
    "    height = 0\n",
    "    width = 0\n",
    "\n",
    "    def area(self):\n",
    "        area_calc = self.height * self.width\n",
    "        return area_calc\n",
    "\n",
    "    def perimeter(self):\n",
    "        perimeter_calc = 2 * (self.height + self.width)\n",
    "        return perimeter_calc\n",
    "\n",
    "    def set_height(self, height):\n",
    "        self.height = height\n",
    "        return height\n",
    "\n",
    "    def set_width(self, width):\n",
    "        self.width = width\n",
    "        return width\n",
    "\n",
    "    def display(self,height,width):\n",
    "        print(f\"    Height : {Rectangle.set_height(self, height)}\\n\"\n",
    "              f\"    Width : {Rectangle.set_width(self, width)}\\n\"\n",
    "              f\"    Perimeter : {Rectangle.perimeter(self)}\\n\"\n",
    "              f\"    Area : {Rectangle.area(self)}\")"
   ],
   "metadata": {
    "collapsed": false
   }
  },
  {
   "cell_type": "markdown",
   "source": [
    "### Creating Child Class"
   ],
   "metadata": {
    "collapsed": false
   }
  },
  {
   "cell_type": "code",
   "execution_count": 68,
   "outputs": [],
   "source": [
    "class Parallelepiped(Rectangle):\n",
    "\n",
    "    length = 0\n",
    "\n",
    "    def volume(self):\n",
    "        volume = self.height * self.width * self.length\n",
    "        return volume\n",
    "\n",
    "    def set_length(self, length):\n",
    "        self.length = length\n",
    "        return length\n",
    "\n",
    "    def display(self,height,width,length):\n",
    "        print(f\"    Height : {Rectangle.set_height(self,height)}\\n\"\n",
    "              f\"    Width : {Rectangle.set_width(self, width)}\\n\"\n",
    "              f\"    Length : {Parallelepiped.set_length(self,length)}\\n\"\n",
    "              f\"    Volume : {Parallelepiped.volume(self)}\")"
   ],
   "metadata": {
    "collapsed": false
   }
  },
  {
   "cell_type": "markdown",
   "source": [
    "### Running Cell"
   ],
   "metadata": {
    "collapsed": false
   }
  },
  {
   "cell_type": "code",
   "execution_count": 69,
   "outputs": [
    {
     "name": "stdout",
     "output_type": "stream",
     "text": [
      "Parallelepiped\n",
      "    Height : 5\n",
      "    Width : 2\n",
      "    Length : 3\n",
      "    Volume : 30\n"
     ]
    }
   ],
   "source": [
    "select_poly = (input(\"Enter Polygon (R for Rectangle and P for Parallelepiped : \"))\n",
    "\n",
    "height_usr = int(input(\"Enter Height : \"))\n",
    "width_usr = int(input(\"Enter Width : \"))\n",
    "\n",
    "rec = Rectangle()\n",
    "para = Parallelepiped()\n",
    "area_of_rectangle = rec.area()\n",
    "perimeter_of_rectangle = rec.perimeter()\n",
    "select_poly.lower()\n",
    "\n",
    "if select_poly == \"r\" :\n",
    "    if height_usr == width_usr:\n",
    "        print(\"That's a Square \")\n",
    "    else:\n",
    "        print(\"Rectangle : \")\n",
    "        rec.display(height_usr,width_usr)\n",
    "elif select_poly == \"p\" :\n",
    "    print(\"Parallelepiped\")\n",
    "    length_user = int(input(\"Enter Length : \"))\n",
    "    para.display(height_usr,width_usr,length_user)\n",
    "else:\n",
    "    print(\"Please Enter a Valid Polygon\")"
   ],
   "metadata": {
    "collapsed": false
   }
  },
  {
   "cell_type": "markdown",
   "source": [
    "1# Task 2 : Person class and child Student class"
   ],
   "metadata": {
    "collapsed": false
   }
  },
  {
   "cell_type": "code",
   "execution_count": 70,
   "outputs": [
    {
     "name": "stdout",
     "output_type": "stream",
     "text": [
      "Name : Amr Ahmed\n",
      "Age : 20\n",
      "Section : Machine Learning\n"
     ]
    }
   ],
   "source": [
    "class Person:\n",
    "\n",
    "    name = \"Amr Ahmed\"\n",
    "    age = 20\n",
    "\n",
    "    def display(self):\n",
    "        print(f\"Name : {self.name}\\n\"\n",
    "              f\"Age : {self.age}\")\n",
    "\n",
    "\n",
    "\n",
    "class Student(Person):\n",
    "\n",
    "    section = \"Machine Learning\"\n",
    "\n",
    "    def displayStudent(self):\n",
    "        print(f\"Name : {self.name}\\n\"\n",
    "              f\"Age : {self.age}\\n\"\n",
    "              f\"Section : {self.section}\")\n",
    "\n",
    "\n",
    "student = Student()\n",
    "student.displayStudent()"
   ],
   "metadata": {
    "collapsed": false
   }
  },
  {
   "cell_type": "markdown",
   "source": [
    "# Task 3 : Computation class"
   ],
   "metadata": {
    "collapsed": false
   }
  },
  {
   "cell_type": "code",
   "execution_count": 71,
   "outputs": [
    {
     "name": "stdout",
     "output_type": "stream",
     "text": [
      "Table 1\n",
      "1 X 1 = 1\n",
      "1 X 2 = 2\n",
      "1 X 3 = 3\n",
      "1 X 4 = 4\n",
      "1 X 5 = 5\n",
      "1 X 6 = 6\n",
      "1 X 7 = 7\n",
      "1 X 8 = 8\n",
      "1 X 9 = 9\n",
      "Table 2\n",
      "2 X 1 = 2\n",
      "2 X 2 = 4\n",
      "2 X 3 = 6\n",
      "2 X 4 = 8\n",
      "2 X 5 = 10\n",
      "2 X 6 = 12\n",
      "2 X 7 = 14\n",
      "2 X 8 = 16\n",
      "2 X 9 = 18\n",
      "Table 3\n",
      "3 X 1 = 3\n",
      "3 X 2 = 6\n",
      "3 X 3 = 9\n",
      "3 X 4 = 12\n",
      "3 X 5 = 15\n",
      "3 X 6 = 18\n",
      "3 X 7 = 21\n",
      "3 X 8 = 24\n",
      "3 X 9 = 27\n",
      "Table 4\n",
      "4 X 1 = 4\n",
      "4 X 2 = 8\n",
      "4 X 3 = 12\n",
      "4 X 4 = 16\n",
      "4 X 5 = 20\n",
      "4 X 6 = 24\n",
      "4 X 7 = 28\n",
      "4 X 8 = 32\n",
      "4 X 9 = 36\n",
      "Table 5\n",
      "5 X 1 = 5\n",
      "5 X 2 = 10\n",
      "5 X 3 = 15\n",
      "5 X 4 = 20\n",
      "5 X 5 = 25\n",
      "5 X 6 = 30\n",
      "5 X 7 = 35\n",
      "5 X 8 = 40\n",
      "5 X 9 = 45\n",
      "Table 6\n",
      "6 X 1 = 6\n",
      "6 X 2 = 12\n",
      "6 X 3 = 18\n",
      "6 X 4 = 24\n",
      "6 X 5 = 30\n",
      "6 X 6 = 36\n",
      "6 X 7 = 42\n",
      "6 X 8 = 48\n",
      "6 X 9 = 54\n",
      "Table 7\n",
      "7 X 1 = 7\n",
      "7 X 2 = 14\n",
      "7 X 3 = 21\n",
      "7 X 4 = 28\n",
      "7 X 5 = 35\n",
      "7 X 6 = 42\n",
      "7 X 7 = 49\n",
      "7 X 8 = 56\n",
      "7 X 9 = 63\n",
      "Table 8\n",
      "8 X 1 = 8\n",
      "8 X 2 = 16\n",
      "8 X 3 = 24\n",
      "8 X 4 = 32\n",
      "8 X 5 = 40\n",
      "8 X 6 = 48\n",
      "8 X 7 = 56\n",
      "8 X 8 = 64\n",
      "8 X 9 = 72\n",
      "Table 9\n",
      "9 X 1 = 9\n",
      "9 X 2 = 18\n",
      "9 X 3 = 27\n",
      "9 X 4 = 36\n",
      "9 X 5 = 45\n",
      "9 X 6 = 54\n",
      "9 X 7 = 63\n",
      "9 X 8 = 72\n",
      "9 X 9 = 81\n",
      "Factorial : 120\n",
      "Sum : 21\n",
      "Test Prime : 6 is not a prime\n",
      "Test Primes : There is not a prime number\n",
      "Mult Table : ['5 x 1 = 5', '5 x 2 = 10', '5 x 3 = 15', '5 x 4 = 20', '5 x 5 = 25', '5 x 6 = 30', '5 x 7 = 35', '5 x 8 = 40', '5 x 9 = 45', '5 x 10 = 50']\n",
      "Mutl Tables : None\n",
      "Divisors : [1, 2, 4, 8, 16, 32, 64]\n",
      "Prime Divisors : [3, 11] \n"
     ]
    }
   ],
   "source": [
    "import math\n",
    "import sympy\n",
    "\n",
    "class Computation:\n",
    "    def __init__(self):\n",
    "        pass\n",
    "\n",
    "    def factorial(self, fact_num):\n",
    "        return  math.factorial(fact_num)\n",
    "\n",
    "    def sum(self, sum_num):\n",
    "        ls = []\n",
    "        for i in range(0, sum_num + 1, 1):\n",
    "            ls.append(i)\n",
    "        return sum(ls)\n",
    "\n",
    "    def testPrim(self, prim_num):\n",
    "\n",
    "        if sympy.isprime(prim_num) :\n",
    "            return f\"{prim_num} is a prime\"\n",
    "        else :\n",
    "            return  f\"{prim_num} is not a prime\"\n",
    "\n",
    "    def testPrims(self, num1, num2):\n",
    "\n",
    "        for i in range (num1, num2):\n",
    "            num3 = i\n",
    "        if sympy.isprime(num3):\n",
    "            return  \"There is a prime number\"\n",
    "        else:\n",
    "            return \"There is not a prime number\"\n",
    "\n",
    "    def tableMult(self,mult_int):\n",
    "        mult_table = []\n",
    "        for i in range (1, 11):\n",
    "            mult_table.append(f\"{mult_int} x {i} = {i*mult_int}\")\n",
    "        return mult_table\n",
    "\n",
    "    def allTablesMult(self):\n",
    "        for x in range(1,10):\n",
    "            print(f\"Table {x}\")\n",
    "            for j in range(1,10):\n",
    "                print(f\"{x} X {j} = {x*j}\")\n",
    "\n",
    "    def listDiv(self,divnum):\n",
    "        ldiv =[]\n",
    "        for i in range(1, 100):\n",
    "            if divnum%i == 0:\n",
    "                ldiv.append(i)\n",
    "        return ldiv\n",
    "\n",
    "    def listDivPrim(self, primE_div_num):\n",
    "\n",
    "        prim_ldiv = []\n",
    "        for i in range(1, 100):\n",
    "            if primE_div_num%i == 0 and sympy.isprime(i):\n",
    "                prim_ldiv.append(i)\n",
    "        return  prim_ldiv\n",
    "\n",
    "\n",
    "\n",
    "comp = Computation()\n",
    "\n",
    "\n",
    "print(\n",
    "      f\"Factorial : {comp.factorial(5)}\\n\"\n",
    "      f\"Sum : {comp.sum(6)}\\n\"\n",
    "      f\"Test Prime : {comp.testPrim(6)}\\n\"\n",
    "      f\"Test Primes : {comp.testPrims(8,11)}\\n\"\n",
    "      f\"Mult Table : {comp.tableMult(5)}\\n\"\n",
    "      f\"Mutl Tables : {comp.allTablesMult()}\\n\"\n",
    "      f\"Divisors : {comp.listDiv(64)}\\n\"\n",
    "      f\"Prime Divisors : {comp.listDivPrim(99)} \"\n",
    "      )\n"
   ],
   "metadata": {
    "collapsed": false
   }
  },
  {
   "cell_type": "code",
   "execution_count": 72,
   "outputs": [
    {
     "name": "stdout",
     "output_type": "stream",
     "text": [
      "Table 1\n",
      "1 X 1 = 1\n",
      "1 X 2 = 2\n",
      "1 X 3 = 3\n",
      "1 X 4 = 4\n",
      "1 X 5 = 5\n",
      "1 X 6 = 6\n",
      "1 X 7 = 7\n",
      "1 X 8 = 8\n",
      "1 X 9 = 9\n",
      "Table 2\n",
      "2 X 1 = 2\n",
      "2 X 2 = 4\n",
      "2 X 3 = 6\n",
      "2 X 4 = 8\n",
      "2 X 5 = 10\n",
      "2 X 6 = 12\n",
      "2 X 7 = 14\n",
      "2 X 8 = 16\n",
      "2 X 9 = 18\n",
      "Table 3\n",
      "3 X 1 = 3\n",
      "3 X 2 = 6\n",
      "3 X 3 = 9\n",
      "3 X 4 = 12\n",
      "3 X 5 = 15\n",
      "3 X 6 = 18\n",
      "3 X 7 = 21\n",
      "3 X 8 = 24\n",
      "3 X 9 = 27\n",
      "Table 4\n",
      "4 X 1 = 4\n",
      "4 X 2 = 8\n",
      "4 X 3 = 12\n",
      "4 X 4 = 16\n",
      "4 X 5 = 20\n",
      "4 X 6 = 24\n",
      "4 X 7 = 28\n",
      "4 X 8 = 32\n",
      "4 X 9 = 36\n",
      "Table 5\n",
      "5 X 1 = 5\n",
      "5 X 2 = 10\n",
      "5 X 3 = 15\n",
      "5 X 4 = 20\n",
      "5 X 5 = 25\n",
      "5 X 6 = 30\n",
      "5 X 7 = 35\n",
      "5 X 8 = 40\n",
      "5 X 9 = 45\n",
      "Table 6\n",
      "6 X 1 = 6\n",
      "6 X 2 = 12\n",
      "6 X 3 = 18\n",
      "6 X 4 = 24\n",
      "6 X 5 = 30\n",
      "6 X 6 = 36\n",
      "6 X 7 = 42\n",
      "6 X 8 = 48\n",
      "6 X 9 = 54\n",
      "Table 7\n",
      "7 X 1 = 7\n",
      "7 X 2 = 14\n",
      "7 X 3 = 21\n",
      "7 X 4 = 28\n",
      "7 X 5 = 35\n",
      "7 X 6 = 42\n",
      "7 X 7 = 49\n",
      "7 X 8 = 56\n",
      "7 X 9 = 63\n",
      "Table 8\n",
      "8 X 1 = 8\n",
      "8 X 2 = 16\n",
      "8 X 3 = 24\n",
      "8 X 4 = 32\n",
      "8 X 5 = 40\n",
      "8 X 6 = 48\n",
      "8 X 7 = 56\n",
      "8 X 8 = 64\n",
      "8 X 9 = 72\n",
      "Table 9\n",
      "9 X 1 = 9\n",
      "9 X 2 = 18\n",
      "9 X 3 = 27\n",
      "9 X 4 = 36\n",
      "9 X 5 = 45\n",
      "9 X 6 = 54\n",
      "9 X 7 = 63\n",
      "9 X 8 = 72\n",
      "9 X 9 = 81\n"
     ]
    }
   ],
   "source": [
    "comp.allTablesMult()"
   ],
   "metadata": {
    "collapsed": false
   }
  },
  {
   "cell_type": "markdown",
   "source": [
    "# Task 4"
   ],
   "metadata": {
    "collapsed": false
   }
  },
  {
   "cell_type": "code",
   "execution_count": 25,
   "outputs": [
    {
     "name": "stdout",
     "output_type": "stream",
     "text": [
      "Longest String : ahme\n"
     ]
    }
   ],
   "source": [
    "first_str = input(\"Enter First String : \") # ali ahmed saad\n",
    "second_str = input(\"Enter Second String : \") # amr ahmed farouk\n",
    "\n",
    "first_lst = first_str.split()\n",
    "second_lst = second_str.split()\n",
    "\n",
    "compare_lst = []\n",
    "\n",
    "for i in first_lst:\n",
    "    if second_str.find(i) != -1:\n",
    "        compare_lst.append(i)\n",
    "for m in second_lst:\n",
    "    if first_str.find(m) != -1:\n",
    "        compare_lst.append(m)\n",
    "\n",
    "max_len = -1\n",
    "for ele in compare_lst:\n",
    "    if len(ele) > max_len:\n",
    "        max_len = len(ele)\n",
    "        res = ele\n",
    "\n",
    "print(f\"Longest String : {res}\")\n"
   ],
   "metadata": {
    "collapsed": false
   }
  },
  {
   "cell_type": "code",
   "execution_count": 24,
   "outputs": [],
   "source": [
    "\n"
   ],
   "metadata": {
    "collapsed": false
   }
  },
  {
   "cell_type": "code",
   "execution_count": null,
   "outputs": [],
   "source": [],
   "metadata": {
    "collapsed": false,
    "pycharm": {
     "is_executing": true
    }
   }
  },
  {
   "cell_type": "code",
   "execution_count": 7,
   "outputs": [],
   "source": [],
   "metadata": {
    "collapsed": false
   }
  }
 ],
 "metadata": {
  "kernelspec": {
   "display_name": "Python 3 (ipykernel)",
   "language": "python",
   "name": "python3"
  },
  "language_info": {
   "codemirror_mode": {
    "name": "ipython",
    "version": 3
   },
   "file_extension": ".py",
   "mimetype": "text/x-python",
   "name": "python",
   "nbconvert_exporter": "python",
   "pygments_lexer": "ipython3",
   "version": "3.9.7"
  }
 },
 "nbformat": 4,
 "nbformat_minor": 4
}
