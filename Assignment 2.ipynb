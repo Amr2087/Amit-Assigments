{
 "cells": [
  {
   "cell_type": "markdown",
   "source": [
    "# Task 1 Rectangle Class"
   ],
   "metadata": {
    "collapsed": false
   }
  },
  {
   "cell_type": "markdown",
   "source": [
    "### Creating Parent Class"
   ],
   "metadata": {
    "collapsed": false
   }
  },
  {
   "cell_type": "code",
   "execution_count": 1,
   "outputs": [],
   "source": [
    "class Rectangle:\n",
    "    height = 0\n",
    "    width = 0\n",
    "\n",
    "    def area(self):\n",
    "        area_calc = self.height * self.width\n",
    "        return area_calc\n",
    "\n",
    "    def perimeter(self):\n",
    "        perimeter_calc = 2 * (self.height + self.width)\n",
    "        return perimeter_calc\n",
    "\n",
    "    def set_height(self, height):\n",
    "        self.height = height\n",
    "        return height\n",
    "\n",
    "    def set_width(self, width):\n",
    "        self.width = width\n",
    "        return width\n",
    "\n",
    "    def display(self):\n",
    "        print(f\"    Height : {Rectangle.set_height(self, height=height_usr)}\\n\"\n",
    "              f\"    Width : {Rectangle.set_width(self, width=width_usr)}\\n\"\n",
    "              f\"    Perimeter : {Rectangle.perimeter(self)}\\n\"\n",
    "              f\"    Area : {Rectangle.area(self)}\")"
   ],
   "metadata": {
    "collapsed": false
   }
  },
  {
   "cell_type": "markdown",
   "source": [
    "### Creating Child Class"
   ],
   "metadata": {
    "collapsed": false
   }
  },
  {
   "cell_type": "code",
   "execution_count": 2,
   "outputs": [],
   "source": [
    "class Parallelepiped(Rectangle):\n",
    "\n",
    "    length = 0\n",
    "\n",
    "    def volume(self):\n",
    "        volume = self.height * self.width * self.length\n",
    "        return volume\n",
    "\n",
    "    def set_length(self, length):\n",
    "        self.length = length\n",
    "        return length\n",
    "\n",
    "    def display(self):\n",
    "        print(f\"    Height : {Rectangle.set_height(self, height=height_usr)}\\n\"\n",
    "              f\"    Width : {Rectangle.set_width(self, width=width_usr)}\\n\"\n",
    "              f\"    Length : {Parallelepiped.set_length(self, length=length_user)}\\n\"\n",
    "              f\"    Volume : {Parallelepiped.volume(self)}\")"
   ],
   "metadata": {
    "collapsed": false
   }
  },
  {
   "cell_type": "markdown",
   "source": [
    "### Running Cell"
   ],
   "metadata": {
    "collapsed": false
   }
  },
  {
   "cell_type": "code",
   "execution_count": 37,
   "outputs": [
    {
     "name": "stdout",
     "output_type": "stream",
     "text": [
      "Rectangle : \n",
      "    Height : 5\n",
      "    Width : 2\n",
      "    Perimeter : 14\n",
      "    Area : 10\n"
     ]
    }
   ],
   "source": [
    "select_poly = (input(\"Enter Polygon (R for Rectangle and P for Parallelepiped : \"))\n",
    "\n",
    "height_usr = int(input(\"Enter Height : \"))\n",
    "width_usr = int(input(\"Enter Width : \"))\n",
    "\n",
    "rec = Rectangle()\n",
    "para = Parallelepiped()\n",
    "area_of_rectangle = rec.area()\n",
    "perimeter_of_rectangle = rec.perimeter()\n",
    "select_poly.lower()\n",
    "\n",
    "if select_poly == \"r\" :\n",
    "    if height_usr == width_usr:\n",
    "        print(\"That's a Square \")\n",
    "    else:\n",
    "        print(\"Rectangle : \")\n",
    "        rec.display()\n",
    "elif select_poly == \"p\" :\n",
    "    print(\"Parallelepiped\")\n",
    "    length_user = int(input(\"Enter Length : \"))\n",
    "    para.display()\n",
    "else:\n",
    "    print(\"Please Enter a Valid Polygon\")"
   ],
   "metadata": {
    "collapsed": false
   }
  },
  {
   "cell_type": "markdown",
   "source": [
    "# Task 2 : Person class and child Student class"
   ],
   "metadata": {
    "collapsed": false
   }
  },
  {
   "cell_type": "code",
   "execution_count": 38,
   "outputs": [
    {
     "name": "stdout",
     "output_type": "stream",
     "text": [
      "Name : Amr Ahmed\n",
      "Age : 20\n",
      "Section : Machine Learning\n"
     ]
    }
   ],
   "source": [
    "class Person:\n",
    "\n",
    "    name = \"Amr Ahmed\"\n",
    "    age = 20\n",
    "\n",
    "    def display(self):\n",
    "        print(f\"Name : {self.name}\\n\"\n",
    "              f\"Age : {self.age}\")\n",
    "\n",
    "\n",
    "\n",
    "class Student(Person):\n",
    "\n",
    "    section = \"Machine Learning\"\n",
    "\n",
    "    def displayStudent(self):\n",
    "        print(f\"Name : {self.name}\\n\"\n",
    "              f\"Age : {self.age}\\n\"\n",
    "              f\"Section : {self.section}\")\n",
    "\n",
    "\n",
    "student = Student()\n",
    "student.displayStudent()"
   ],
   "metadata": {
    "collapsed": false
   }
  },
  {
   "cell_type": "markdown",
   "source": [
    "# Task 3 : Computation class"
   ],
   "metadata": {
    "collapsed": false
   }
  },
  {
   "cell_type": "code",
   "execution_count": 39,
   "outputs": [
    {
     "name": "stdout",
     "output_type": "stream",
     "text": [
      "The Multiplication Table of 1\n",
      "1 x 1 = 1\n",
      "1 x 2 = 2\n",
      "1 x 3 = 3\n",
      "1 x 4 = 4\n",
      "1 x 5 = 5\n",
      "1 x 6 = 6\n",
      "1 x 7 = 7\n",
      "1 x 8 = 8\n",
      "1 x 9 = 9\n",
      "The Multiplication Table of 2\n",
      "2 x 1 = 2\n",
      "2 x 2 = 4\n",
      "2 x 3 = 6\n",
      "2 x 4 = 8\n",
      "2 x 5 = 10\n",
      "2 x 6 = 12\n",
      "2 x 7 = 14\n",
      "2 x 8 = 16\n",
      "2 x 9 = 18\n",
      "The Multiplication Table of 3\n",
      "3 x 1 = 3\n",
      "3 x 2 = 6\n",
      "3 x 3 = 9\n",
      "3 x 4 = 12\n",
      "3 x 5 = 15\n",
      "3 x 6 = 18\n",
      "3 x 7 = 21\n",
      "3 x 8 = 24\n",
      "3 x 9 = 27\n",
      "The Multiplication Table of 4\n",
      "4 x 1 = 4\n",
      "4 x 2 = 8\n",
      "4 x 3 = 12\n",
      "4 x 4 = 16\n",
      "4 x 5 = 20\n",
      "4 x 6 = 24\n",
      "4 x 7 = 28\n",
      "4 x 8 = 32\n",
      "4 x 9 = 36\n",
      "The Multiplication Table of 5\n",
      "5 x 1 = 5\n",
      "5 x 2 = 10\n",
      "5 x 3 = 15\n",
      "5 x 4 = 20\n",
      "5 x 5 = 25\n",
      "5 x 6 = 30\n",
      "5 x 7 = 35\n",
      "5 x 8 = 40\n",
      "5 x 9 = 45\n",
      "The Multiplication Table of 6\n",
      "6 x 1 = 6\n",
      "6 x 2 = 12\n",
      "6 x 3 = 18\n",
      "6 x 4 = 24\n",
      "6 x 5 = 30\n",
      "6 x 6 = 36\n",
      "6 x 7 = 42\n",
      "6 x 8 = 48\n",
      "6 x 9 = 54\n",
      "The Multiplication Table of 7\n",
      "7 x 1 = 7\n",
      "7 x 2 = 14\n",
      "7 x 3 = 21\n",
      "7 x 4 = 28\n",
      "7 x 5 = 35\n",
      "7 x 6 = 42\n",
      "7 x 7 = 49\n",
      "7 x 8 = 56\n",
      "7 x 9 = 63\n",
      "The Multiplication Table of 8\n",
      "8 x 1 = 8\n",
      "8 x 2 = 16\n",
      "8 x 3 = 24\n",
      "8 x 4 = 32\n",
      "8 x 5 = 40\n",
      "8 x 6 = 48\n",
      "8 x 7 = 56\n",
      "8 x 8 = 64\n",
      "8 x 9 = 72\n",
      "The Multiplication Table of 9\n",
      "9 x 1 = 9\n",
      "9 x 2 = 18\n",
      "9 x 3 = 27\n",
      "9 x 4 = 36\n",
      "9 x 5 = 45\n",
      "9 x 6 = 54\n",
      "9 x 7 = 63\n",
      "9 x 8 = 72\n",
      "9 x 9 = 81\n",
      "Factorial : 120\n",
      "Sum : 21\n",
      "Test Prime : 6 is not a prime\n",
      "Test Primes : There is not a prime number\n",
      "Mult Table : ['1 x 5 = 5', '2 x 5 = 10', '3 x 5 = 15', '4 x 5 = 20', '5 x 5 = 25', '6 x 5 = 30', '7 x 5 = 35', '8 x 5 = 40', '9 x 5 = 45', '10 x 5 = 50']\n",
      "  lpl:   None\n"
     ]
    }
   ],
   "source": [
    "import math\n",
    "import sympy\n",
    "\n",
    "class Computation:\n",
    "    def __init__(self):\n",
    "        pass\n",
    "\n",
    "    def factorial(self, fact_num):\n",
    "        return  math.factorial(fact_num)\n",
    "\n",
    "    def sum(self, sum_num):\n",
    "        ls = []\n",
    "        for i in range(0, sum_num + 1, 1):\n",
    "            ls.append(i)\n",
    "        return sum(ls)\n",
    "\n",
    "    def testPrim(self, prim_num):\n",
    "\n",
    "        if sympy.isprime(prim_num) :\n",
    "            return f\"{prim_num} is a prime\"\n",
    "        else :\n",
    "            return  f\"{prim_num} is not a prime\"\n",
    "\n",
    "    def testPrims(self, num1, num2):\n",
    "\n",
    "        for i in range (num1, num2):\n",
    "            num3 = i\n",
    "        if sympy.isprime(num3):\n",
    "            return  \"There is a prime number\"\n",
    "        else:\n",
    "            return \"There is not a prime number\"\n",
    "\n",
    "    def tableMult(self,mult_int):\n",
    "        mult_table = []\n",
    "        for i in range (1, 11):\n",
    "            mult_table.append(f\"{i} x {mult_int} = {i*mult_int}\")\n",
    "        return mult_table\n",
    "\n",
    "    def allTablesMult(self):\n",
    "        for x in range(1,10):\n",
    "            print(f\"The Multiplication Table of {x}\")\n",
    "            for j in range(1,10):\n",
    "             print(f\"{x} x {j} = {x*j}\")\n",
    "\n",
    "    def listDiv(self):\n",
    "        pass\n",
    "\n",
    "\n",
    "\n",
    "comp = Computation()\n",
    "\n",
    "\n",
    "print(f\"Factorial : {comp.factorial(5)}\\n\"\n",
    "      f\"Sum : {comp.sum(6)}\\n\"\n",
    "      f\"Test Prime : {comp.testPrim(6)}\\n\"\n",
    "      f\"Test Primes : {comp.testPrims(8,11)}\\n\"\n",
    "      f\"Mult Table : {comp.tableMult(5)}\\n\",\n",
    "      f\" lpl:   {comp.allTablesMult()}\"\n",
    "      )\n"
   ],
   "metadata": {
    "collapsed": false
   }
  },
  {
   "cell_type": "markdown",
   "source": [
    "# Task 4"
   ],
   "metadata": {
    "collapsed": false
   }
  },
  {
   "cell_type": "code",
   "execution_count": null,
   "outputs": [],
   "source": [
    "first_str = input(\"Enter First String : \")\n",
    "second_str = input(\"Enter Second String : \")\n",
    "\n",
    "if len(first_str) > len(second_str) :\n",
    "    print(f\"The String {first_str} is Longer\")\n",
    "else:\n",
    "    print(f\"The String {second_str} is Longer\")"
   ],
   "metadata": {
    "collapsed": false
   }
  }
 ],
 "metadata": {
  "kernelspec": {
   "display_name": "Python 3 (ipykernel)",
   "language": "python",
   "name": "python3"
  },
  "language_info": {
   "codemirror_mode": {
    "name": "ipython",
    "version": 3
   },
   "file_extension": ".py",
   "mimetype": "text/x-python",
   "name": "python",
   "nbconvert_exporter": "python",
   "pygments_lexer": "ipython3",
   "version": "3.9.7"
  }
 },
 "nbformat": 4,
 "nbformat_minor": 4
}
