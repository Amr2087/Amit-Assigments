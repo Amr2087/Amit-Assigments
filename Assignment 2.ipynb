{
 "cells": [
  {
   "cell_type": "markdown",
   "source": [
    "# Task 1 Rectangle Class"
   ],
   "metadata": {
    "collapsed": false
   }
  },
  {
   "cell_type": "markdown",
   "source": [
    "### Creating Parent Class"
   ],
   "metadata": {
    "collapsed": false
   }
  },
  {
   "cell_type": "code",
   "execution_count": 1,
   "outputs": [],
   "source": [
    "class Rectangle:\n",
    "    height = 0\n",
    "    width = 0\n",
    "\n",
    "    def area(self):\n",
    "        area_calc = self.height * self.width\n",
    "        return area_calc\n",
    "\n",
    "    def perimeter(self):\n",
    "        perimeter_calc = 2 * (self.height + self.width)\n",
    "        return perimeter_calc\n",
    "\n",
    "    def set_height(self, height):\n",
    "        self.height = height\n",
    "        return height\n",
    "\n",
    "    def set_width(self, width):\n",
    "        self.width = width\n",
    "        return width\n",
    "\n",
    "    def display(self):\n",
    "        print(f\"    Height : {Rectangle.set_height(self, height=height_usr)}\\n\"\n",
    "              f\"    Width : {Rectangle.set_width(self, width=width_usr)}\\n\"\n",
    "              f\"    Perimeter : {Rectangle.perimeter(self)}\\n\"\n",
    "              f\"    Area : {Rectangle.area(self)}\")"
   ],
   "metadata": {
    "collapsed": false
   }
  },
  {
   "cell_type": "markdown",
   "source": [
    "### Creating Child Class"
   ],
   "metadata": {
    "collapsed": false
   }
  },
  {
   "cell_type": "code",
   "execution_count": 2,
   "outputs": [],
   "source": [
    "class Parallelepiped(Rectangle):\n",
    "\n",
    "    length = 0\n",
    "\n",
    "    def volume(self):\n",
    "        volume = self.height * self.width * self.length\n",
    "        return volume\n",
    "\n",
    "    def set_length(self, length):\n",
    "        self.length = length\n",
    "        return length\n",
    "\n",
    "    def display(self):\n",
    "        print(f\"    Height : {Rectangle.set_height(self, height=height_usr)}\\n\"\n",
    "              f\"    Width : {Rectangle.set_width(self, width=width_usr)}\\n\"\n",
    "              f\"    Length : {Parallelepiped.set_length(self, length=length_user)}\\n\"\n",
    "              f\"    Volume : {Parallelepiped.volume(self)}\")"
   ],
   "metadata": {
    "collapsed": false
   }
  },
  {
   "cell_type": "markdown",
   "source": [
    "### Running Cell"
   ],
   "metadata": {
    "collapsed": false
   }
  },
  {
   "cell_type": "code",
   "execution_count": 3,
   "outputs": [
    {
     "ename": "ValueError",
     "evalue": "invalid literal for int() with base 10: ''",
     "output_type": "error",
     "traceback": [
      "\u001B[1;31m---------------------------------------------------------------------------\u001B[0m",
      "\u001B[1;31mValueError\u001B[0m                                Traceback (most recent call last)",
      "Input \u001B[1;32mIn [3]\u001B[0m, in \u001B[0;36m<cell line: 3>\u001B[1;34m()\u001B[0m\n\u001B[0;32m      1\u001B[0m select_poly \u001B[38;5;241m=\u001B[39m (\u001B[38;5;28minput\u001B[39m(\u001B[38;5;124m\"\u001B[39m\u001B[38;5;124mEnter Polygon (R for Rectangle and P for Parallelepiped : \u001B[39m\u001B[38;5;124m\"\u001B[39m))\n\u001B[1;32m----> 3\u001B[0m height_usr \u001B[38;5;241m=\u001B[39m \u001B[38;5;28;43mint\u001B[39;49m\u001B[43m(\u001B[49m\u001B[38;5;28;43minput\u001B[39;49m\u001B[43m(\u001B[49m\u001B[38;5;124;43m\"\u001B[39;49m\u001B[38;5;124;43mEnter Height : \u001B[39;49m\u001B[38;5;124;43m\"\u001B[39;49m\u001B[43m)\u001B[49m\u001B[43m)\u001B[49m\n\u001B[0;32m      4\u001B[0m width_usr \u001B[38;5;241m=\u001B[39m \u001B[38;5;28mint\u001B[39m(\u001B[38;5;28minput\u001B[39m(\u001B[38;5;124m\"\u001B[39m\u001B[38;5;124mEnter Width : \u001B[39m\u001B[38;5;124m\"\u001B[39m))\n\u001B[0;32m      6\u001B[0m rec \u001B[38;5;241m=\u001B[39m Rectangle()\n",
      "\u001B[1;31mValueError\u001B[0m: invalid literal for int() with base 10: ''"
     ]
    }
   ],
   "source": [
    "select_poly = (input(\"Enter Polygon (R for Rectangle and P for Parallelepiped : \"))\n",
    "\n",
    "height_usr = int(input(\"Enter Height : \"))\n",
    "width_usr = int(input(\"Enter Width : \"))\n",
    "\n",
    "rec = Rectangle()\n",
    "para = Parallelepiped()\n",
    "area_of_rectangle = rec.area()\n",
    "perimeter_of_rectangle = rec.perimeter()\n",
    "select_poly.lower()\n",
    "\n",
    "if select_poly == \"r\" :\n",
    "    if height_usr == width_usr:\n",
    "        print(\"That's a Square \")\n",
    "    else:\n",
    "        print(\"Rectangle : \")\n",
    "        rec.display()\n",
    "elif select_poly == \"p\" :\n",
    "    print(\"Parallelepiped\")\n",
    "    length_user = int(input(\"Enter Length : \"))\n",
    "    para.display()\n",
    "else:\n",
    "    print(\"Please Enter a Valid Polygon\")"
   ],
   "metadata": {
    "collapsed": false
   }
  },
  {
   "cell_type": "markdown",
   "source": [
    "# Task 2 : Person class and child Student class"
   ],
   "metadata": {
    "collapsed": false
   }
  },
  {
   "cell_type": "code",
   "execution_count": null,
   "outputs": [],
   "source": [
    "class Person:\n",
    "\n",
    "    name = \"Amr Ahmed\"\n",
    "    age = 20\n",
    "\n",
    "    def display(self):\n",
    "        print(f\"Name : {self.name}\\n\"\n",
    "              f\"Age : {self.age}\")\n",
    "\n",
    "\n",
    "\n",
    "class Student(Person):\n",
    "\n",
    "    section = \"Machine Learning\"\n",
    "\n",
    "    def displayStudent(self):\n",
    "        print(f\"Name : {self.name}\\n\"\n",
    "              f\"Age : {self.age}\\n\"\n",
    "              f\"Section : {self.section}\")\n",
    "\n",
    "\n",
    "student = Student()\n",
    "student.displayStudent()"
   ],
   "metadata": {
    "collapsed": false
   }
  },
  {
   "cell_type": "markdown",
   "source": [
    "# Task 3 : Computation class"
   ],
   "metadata": {
    "collapsed": false
   }
  },
  {
   "cell_type": "code",
   "execution_count": 36,
   "outputs": [
    {
     "name": "stdout",
     "output_type": "stream",
     "text": [
      "Factorial : 120\n",
      "Sum : 21\n",
      "Test Prime : 6 is not a prime\n",
      "Test Primes : There is not a prime number\n",
      "Mult Table : ['1 x 5 = 5', '2 x 5 = 10', '3 x 5 = 15', '4 x 5 = 20', '5 x 5 = 25', '6 x 5 = 30', '7 x 5 = 35', '8 x 5 = 40', '9 x 5 = 45', '10 x 5 = 50']\n",
      "  lpl:   None\n"
     ]
    }
   ],
   "source": [
    "import math\n",
    "import sympy\n",
    "class Computation:\n",
    "    def __init__(self):\n",
    "        pass\n",
    "\n",
    "    def factorial(self, fact_num):\n",
    "        return  math.factorial(fact_num)\n",
    "\n",
    "    def sum(self, sum_num):\n",
    "        ls = []\n",
    "        for i in range(0, sum_num + 1, 1):\n",
    "            ls.append(i)\n",
    "        return sum(ls)\n",
    "\n",
    "    def testPrim(self, prim_num):\n",
    "\n",
    "        if sympy.isprime(prim_num) :\n",
    "            return f\"{prim_num} is a prime\"\n",
    "        else :\n",
    "            return  f\"{prim_num} is not a prime\"\n",
    "\n",
    "    def testPrims(self, num1, num2):\n",
    "\n",
    "        for i in range (num1, num2):\n",
    "            num3 = i\n",
    "        if sympy.isprime(num3):\n",
    "            return  \"There is a prime number\"\n",
    "        else:\n",
    "            return \"There is not a prime number\"\n",
    "\n",
    "    def tableMult(self,mult_int):\n",
    "        mult_table = []\n",
    "        for i in range (1, 11):\n",
    "            mult_table.append(f\"{i} x {mult_int} = {i*mult_int}\")\n",
    "        return mult_table\n",
    "\n",
    "    def allTablesMult(self):\n",
    "        for x in range(1,10):\n",
    "            f\"The Multiplication Table of {x}\"\n",
    "            for j in range(1,10):\n",
    "                 f\"{x} x {j} = {x*j}\"\n",
    "\n",
    "\n",
    "\n",
    "\n",
    "\n",
    "    def listDiv(self):\n",
    "        pass\n",
    "\n",
    "\n",
    "\n",
    "comp = Computation()\n",
    "\n",
    "\n",
    "print(f\"Factorial : {comp.factorial(5)}\\n\"\n",
    "      f\"Sum : {comp.sum(6)}\\n\"\n",
    "      f\"Test Prime : {comp.testPrim(6)}\\n\"\n",
    "      f\"Test Primes : {comp.testPrims(8,11)}\\n\"\n",
    "      f\"Mult Table : {comp.tableMult(5)}\\n\",\n",
    "      f\" lpl:   {comp.allTablesMult()}\"\n",
    "      )\n"
   ],
   "metadata": {
    "collapsed": false
   }
  },
  {
   "cell_type": "markdown",
   "source": [
    "# Task 4"
   ],
   "metadata": {
    "collapsed": false
   }
  },
  {
   "cell_type": "code",
   "execution_count": null,
   "outputs": [],
   "source": [
    "first_str = input(\"Enter First String : \")\n",
    "second_str = input(\"Enter Second String : \")\n",
    "\n",
    "if len(first_str) > len(second_str) :\n",
    "    print(f\"The String {first_str} is Longer\")\n",
    "else:\n",
    "    print(f\"The String {second_str} is Longer\")"
   ],
   "metadata": {
    "collapsed": false
   }
  }
 ],
 "metadata": {
  "kernelspec": {
   "display_name": "Python 3 (ipykernel)",
   "language": "python",
   "name": "python3"
  },
  "language_info": {
   "codemirror_mode": {
    "name": "ipython",
    "version": 3
   },
   "file_extension": ".py",
   "mimetype": "text/x-python",
   "name": "python",
   "nbconvert_exporter": "python",
   "pygments_lexer": "ipython3",
   "version": "3.9.7"
  }
 },
 "nbformat": 4,
 "nbformat_minor": 4
}
