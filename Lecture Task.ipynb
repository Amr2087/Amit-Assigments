{
 "cells": [
  {
   "cell_type": "code",
   "execution_count": 1,
   "metadata": {
    "collapsed": true
   },
   "outputs": [],
   "source": [
    "import pandas as pd\n",
    "import numpy as np\n",
    "import matplotlib.pyplot as plt\n",
    "import seaborn as sns"
   ]
  },
  {
   "cell_type": "code",
   "execution_count": 2,
   "outputs": [],
   "source": [
    "dataset = pd.read_csv('data/BRCA.csv')"
   ],
   "metadata": {
    "collapsed": false
   }
  },
  {
   "cell_type": "code",
   "execution_count": 3,
   "outputs": [
    {
     "data": {
      "text/plain": "       Patient_ID   Age  Gender  Protein1  Protein2  Protein3  Protein4  \\\n0    TCGA-D8-A1XD  36.0  FEMALE  0.080353   0.42638   0.54715  0.273680   \n1    TCGA-EW-A1OX  43.0  FEMALE -0.420320   0.57807   0.61447 -0.031505   \n2    TCGA-A8-A079  69.0  FEMALE  0.213980   1.31140  -0.32747 -0.234260   \n3    TCGA-D8-A1XR  56.0  FEMALE  0.345090  -0.21147  -0.19304  0.124270   \n4    TCGA-BH-A0BF  56.0  FEMALE  0.221550   1.90680   0.52045 -0.311990   \n..            ...   ...     ...       ...       ...       ...       ...   \n336           NaN   NaN     NaN       NaN       NaN       NaN       NaN   \n337           NaN   NaN     NaN       NaN       NaN       NaN       NaN   \n338           NaN   NaN     NaN       NaN       NaN       NaN       NaN   \n339           NaN   NaN     NaN       NaN       NaN       NaN       NaN   \n340           NaN   NaN     NaN       NaN       NaN       NaN       NaN   \n\n    Tumour_Stage                      Histology ER status PR status  \\\n0            III  Infiltrating Ductal Carcinoma  Positive  Positive   \n1             II             Mucinous Carcinoma  Positive  Positive   \n2            III  Infiltrating Ductal Carcinoma  Positive  Positive   \n3             II  Infiltrating Ductal Carcinoma  Positive  Positive   \n4             II  Infiltrating Ductal Carcinoma  Positive  Positive   \n..           ...                            ...       ...       ...   \n336          NaN                            NaN       NaN       NaN   \n337          NaN                            NaN       NaN       NaN   \n338          NaN                            NaN       NaN       NaN   \n339          NaN                            NaN       NaN       NaN   \n340          NaN                            NaN       NaN       NaN   \n\n    HER2 status                 Surgery_type Date_of_Surgery  \\\n0      Negative  Modified Radical Mastectomy       15-Jan-17   \n1      Negative                   Lumpectomy       26-Apr-17   \n2      Negative                        Other       08-Sep-17   \n3      Negative  Modified Radical Mastectomy       25-Jan-17   \n4      Negative                        Other       06-May-17   \n..          ...                          ...             ...   \n336         NaN                          NaN             NaN   \n337         NaN                          NaN             NaN   \n338         NaN                          NaN             NaN   \n339         NaN                          NaN             NaN   \n340         NaN                          NaN             NaN   \n\n    Date_of_Last_Visit Patient_Status  \n0            19-Jun-17          Alive  \n1            09-Nov-18           Dead  \n2            09-Jun-18          Alive  \n3            12-Jul-17          Alive  \n4            27-Jun-19           Dead  \n..                 ...            ...  \n336                NaN            NaN  \n337                NaN            NaN  \n338                NaN            NaN  \n339                NaN            NaN  \n340                NaN            NaN  \n\n[341 rows x 16 columns]",
      "text/html": "<div>\n<style scoped>\n    .dataframe tbody tr th:only-of-type {\n        vertical-align: middle;\n    }\n\n    .dataframe tbody tr th {\n        vertical-align: top;\n    }\n\n    .dataframe thead th {\n        text-align: right;\n    }\n</style>\n<table border=\"1\" class=\"dataframe\">\n  <thead>\n    <tr style=\"text-align: right;\">\n      <th></th>\n      <th>Patient_ID</th>\n      <th>Age</th>\n      <th>Gender</th>\n      <th>Protein1</th>\n      <th>Protein2</th>\n      <th>Protein3</th>\n      <th>Protein4</th>\n      <th>Tumour_Stage</th>\n      <th>Histology</th>\n      <th>ER status</th>\n      <th>PR status</th>\n      <th>HER2 status</th>\n      <th>Surgery_type</th>\n      <th>Date_of_Surgery</th>\n      <th>Date_of_Last_Visit</th>\n      <th>Patient_Status</th>\n    </tr>\n  </thead>\n  <tbody>\n    <tr>\n      <th>0</th>\n      <td>TCGA-D8-A1XD</td>\n      <td>36.0</td>\n      <td>FEMALE</td>\n      <td>0.080353</td>\n      <td>0.42638</td>\n      <td>0.54715</td>\n      <td>0.273680</td>\n      <td>III</td>\n      <td>Infiltrating Ductal Carcinoma</td>\n      <td>Positive</td>\n      <td>Positive</td>\n      <td>Negative</td>\n      <td>Modified Radical Mastectomy</td>\n      <td>15-Jan-17</td>\n      <td>19-Jun-17</td>\n      <td>Alive</td>\n    </tr>\n    <tr>\n      <th>1</th>\n      <td>TCGA-EW-A1OX</td>\n      <td>43.0</td>\n      <td>FEMALE</td>\n      <td>-0.420320</td>\n      <td>0.57807</td>\n      <td>0.61447</td>\n      <td>-0.031505</td>\n      <td>II</td>\n      <td>Mucinous Carcinoma</td>\n      <td>Positive</td>\n      <td>Positive</td>\n      <td>Negative</td>\n      <td>Lumpectomy</td>\n      <td>26-Apr-17</td>\n      <td>09-Nov-18</td>\n      <td>Dead</td>\n    </tr>\n    <tr>\n      <th>2</th>\n      <td>TCGA-A8-A079</td>\n      <td>69.0</td>\n      <td>FEMALE</td>\n      <td>0.213980</td>\n      <td>1.31140</td>\n      <td>-0.32747</td>\n      <td>-0.234260</td>\n      <td>III</td>\n      <td>Infiltrating Ductal Carcinoma</td>\n      <td>Positive</td>\n      <td>Positive</td>\n      <td>Negative</td>\n      <td>Other</td>\n      <td>08-Sep-17</td>\n      <td>09-Jun-18</td>\n      <td>Alive</td>\n    </tr>\n    <tr>\n      <th>3</th>\n      <td>TCGA-D8-A1XR</td>\n      <td>56.0</td>\n      <td>FEMALE</td>\n      <td>0.345090</td>\n      <td>-0.21147</td>\n      <td>-0.19304</td>\n      <td>0.124270</td>\n      <td>II</td>\n      <td>Infiltrating Ductal Carcinoma</td>\n      <td>Positive</td>\n      <td>Positive</td>\n      <td>Negative</td>\n      <td>Modified Radical Mastectomy</td>\n      <td>25-Jan-17</td>\n      <td>12-Jul-17</td>\n      <td>Alive</td>\n    </tr>\n    <tr>\n      <th>4</th>\n      <td>TCGA-BH-A0BF</td>\n      <td>56.0</td>\n      <td>FEMALE</td>\n      <td>0.221550</td>\n      <td>1.90680</td>\n      <td>0.52045</td>\n      <td>-0.311990</td>\n      <td>II</td>\n      <td>Infiltrating Ductal Carcinoma</td>\n      <td>Positive</td>\n      <td>Positive</td>\n      <td>Negative</td>\n      <td>Other</td>\n      <td>06-May-17</td>\n      <td>27-Jun-19</td>\n      <td>Dead</td>\n    </tr>\n    <tr>\n      <th>...</th>\n      <td>...</td>\n      <td>...</td>\n      <td>...</td>\n      <td>...</td>\n      <td>...</td>\n      <td>...</td>\n      <td>...</td>\n      <td>...</td>\n      <td>...</td>\n      <td>...</td>\n      <td>...</td>\n      <td>...</td>\n      <td>...</td>\n      <td>...</td>\n      <td>...</td>\n      <td>...</td>\n    </tr>\n    <tr>\n      <th>336</th>\n      <td>NaN</td>\n      <td>NaN</td>\n      <td>NaN</td>\n      <td>NaN</td>\n      <td>NaN</td>\n      <td>NaN</td>\n      <td>NaN</td>\n      <td>NaN</td>\n      <td>NaN</td>\n      <td>NaN</td>\n      <td>NaN</td>\n      <td>NaN</td>\n      <td>NaN</td>\n      <td>NaN</td>\n      <td>NaN</td>\n      <td>NaN</td>\n    </tr>\n    <tr>\n      <th>337</th>\n      <td>NaN</td>\n      <td>NaN</td>\n      <td>NaN</td>\n      <td>NaN</td>\n      <td>NaN</td>\n      <td>NaN</td>\n      <td>NaN</td>\n      <td>NaN</td>\n      <td>NaN</td>\n      <td>NaN</td>\n      <td>NaN</td>\n      <td>NaN</td>\n      <td>NaN</td>\n      <td>NaN</td>\n      <td>NaN</td>\n      <td>NaN</td>\n    </tr>\n    <tr>\n      <th>338</th>\n      <td>NaN</td>\n      <td>NaN</td>\n      <td>NaN</td>\n      <td>NaN</td>\n      <td>NaN</td>\n      <td>NaN</td>\n      <td>NaN</td>\n      <td>NaN</td>\n      <td>NaN</td>\n      <td>NaN</td>\n      <td>NaN</td>\n      <td>NaN</td>\n      <td>NaN</td>\n      <td>NaN</td>\n      <td>NaN</td>\n      <td>NaN</td>\n    </tr>\n    <tr>\n      <th>339</th>\n      <td>NaN</td>\n      <td>NaN</td>\n      <td>NaN</td>\n      <td>NaN</td>\n      <td>NaN</td>\n      <td>NaN</td>\n      <td>NaN</td>\n      <td>NaN</td>\n      <td>NaN</td>\n      <td>NaN</td>\n      <td>NaN</td>\n      <td>NaN</td>\n      <td>NaN</td>\n      <td>NaN</td>\n      <td>NaN</td>\n      <td>NaN</td>\n    </tr>\n    <tr>\n      <th>340</th>\n      <td>NaN</td>\n      <td>NaN</td>\n      <td>NaN</td>\n      <td>NaN</td>\n      <td>NaN</td>\n      <td>NaN</td>\n      <td>NaN</td>\n      <td>NaN</td>\n      <td>NaN</td>\n      <td>NaN</td>\n      <td>NaN</td>\n      <td>NaN</td>\n      <td>NaN</td>\n      <td>NaN</td>\n      <td>NaN</td>\n      <td>NaN</td>\n    </tr>\n  </tbody>\n</table>\n<p>341 rows × 16 columns</p>\n</div>"
     },
     "execution_count": 3,
     "metadata": {},
     "output_type": "execute_result"
    }
   ],
   "source": [
    "dataset"
   ],
   "metadata": {
    "collapsed": false
   }
  },
  {
   "cell_type": "code",
   "execution_count": 4,
   "outputs": [],
   "source": [
    "dataset.drop('Patient_ID', inplace=True, axis=1)"
   ],
   "metadata": {
    "collapsed": false
   }
  },
  {
   "cell_type": "code",
   "execution_count": 5,
   "outputs": [
    {
     "name": "stdout",
     "output_type": "stream",
     "text": [
      "<class 'pandas.core.frame.DataFrame'>\n",
      "RangeIndex: 341 entries, 0 to 340\n",
      "Data columns (total 15 columns):\n",
      " #   Column              Non-Null Count  Dtype  \n",
      "---  ------              --------------  -----  \n",
      " 0   Age                 334 non-null    float64\n",
      " 1   Gender              334 non-null    object \n",
      " 2   Protein1            334 non-null    float64\n",
      " 3   Protein2            334 non-null    float64\n",
      " 4   Protein3            334 non-null    float64\n",
      " 5   Protein4            334 non-null    float64\n",
      " 6   Tumour_Stage        334 non-null    object \n",
      " 7   Histology           334 non-null    object \n",
      " 8   ER status           334 non-null    object \n",
      " 9   PR status           334 non-null    object \n",
      " 10  HER2 status         334 non-null    object \n",
      " 11  Surgery_type        334 non-null    object \n",
      " 12  Date_of_Surgery     334 non-null    object \n",
      " 13  Date_of_Last_Visit  317 non-null    object \n",
      " 14  Patient_Status      321 non-null    object \n",
      "dtypes: float64(5), object(10)\n",
      "memory usage: 40.1+ KB\n"
     ]
    }
   ],
   "source": [
    "dataset.info()"
   ],
   "metadata": {
    "collapsed": false
   }
  },
  {
   "cell_type": "code",
   "execution_count": 6,
   "outputs": [
    {
     "data": {
      "text/plain": "II     189\nIII     81\nI       64\nName: Tumour_Stage, dtype: int64"
     },
     "execution_count": 6,
     "metadata": {},
     "output_type": "execute_result"
    }
   ],
   "source": [
    "dataset.Tumour_Stage.value_counts()"
   ],
   "metadata": {
    "collapsed": false
   }
  },
  {
   "cell_type": "code",
   "execution_count": 7,
   "outputs": [],
   "source": [
    "dataset.Tumour_Stage.replace({'I':1, 'II':2, 'III':3}, inplace=True)"
   ],
   "metadata": {
    "collapsed": false
   }
  },
  {
   "cell_type": "code",
   "execution_count": 8,
   "outputs": [
    {
     "data": {
      "text/plain": "      Age  Gender  Protein1  Protein2  Protein3  Protein4  Tumour_Stage  \\\n0    36.0  FEMALE  0.080353   0.42638   0.54715  0.273680           3.0   \n1    43.0  FEMALE -0.420320   0.57807   0.61447 -0.031505           2.0   \n2    69.0  FEMALE  0.213980   1.31140  -0.32747 -0.234260           3.0   \n3    56.0  FEMALE  0.345090  -0.21147  -0.19304  0.124270           2.0   \n4    56.0  FEMALE  0.221550   1.90680   0.52045 -0.311990           2.0   \n..    ...     ...       ...       ...       ...       ...           ...   \n336   NaN     NaN       NaN       NaN       NaN       NaN           NaN   \n337   NaN     NaN       NaN       NaN       NaN       NaN           NaN   \n338   NaN     NaN       NaN       NaN       NaN       NaN           NaN   \n339   NaN     NaN       NaN       NaN       NaN       NaN           NaN   \n340   NaN     NaN       NaN       NaN       NaN       NaN           NaN   \n\n                         Histology ER status PR status HER2 status  \\\n0    Infiltrating Ductal Carcinoma  Positive  Positive    Negative   \n1               Mucinous Carcinoma  Positive  Positive    Negative   \n2    Infiltrating Ductal Carcinoma  Positive  Positive    Negative   \n3    Infiltrating Ductal Carcinoma  Positive  Positive    Negative   \n4    Infiltrating Ductal Carcinoma  Positive  Positive    Negative   \n..                             ...       ...       ...         ...   \n336                            NaN       NaN       NaN         NaN   \n337                            NaN       NaN       NaN         NaN   \n338                            NaN       NaN       NaN         NaN   \n339                            NaN       NaN       NaN         NaN   \n340                            NaN       NaN       NaN         NaN   \n\n                    Surgery_type Date_of_Surgery Date_of_Last_Visit  \\\n0    Modified Radical Mastectomy       15-Jan-17          19-Jun-17   \n1                     Lumpectomy       26-Apr-17          09-Nov-18   \n2                          Other       08-Sep-17          09-Jun-18   \n3    Modified Radical Mastectomy       25-Jan-17          12-Jul-17   \n4                          Other       06-May-17          27-Jun-19   \n..                           ...             ...                ...   \n336                          NaN             NaN                NaN   \n337                          NaN             NaN                NaN   \n338                          NaN             NaN                NaN   \n339                          NaN             NaN                NaN   \n340                          NaN             NaN                NaN   \n\n    Patient_Status  \n0            Alive  \n1             Dead  \n2            Alive  \n3            Alive  \n4             Dead  \n..             ...  \n336            NaN  \n337            NaN  \n338            NaN  \n339            NaN  \n340            NaN  \n\n[341 rows x 15 columns]",
      "text/html": "<div>\n<style scoped>\n    .dataframe tbody tr th:only-of-type {\n        vertical-align: middle;\n    }\n\n    .dataframe tbody tr th {\n        vertical-align: top;\n    }\n\n    .dataframe thead th {\n        text-align: right;\n    }\n</style>\n<table border=\"1\" class=\"dataframe\">\n  <thead>\n    <tr style=\"text-align: right;\">\n      <th></th>\n      <th>Age</th>\n      <th>Gender</th>\n      <th>Protein1</th>\n      <th>Protein2</th>\n      <th>Protein3</th>\n      <th>Protein4</th>\n      <th>Tumour_Stage</th>\n      <th>Histology</th>\n      <th>ER status</th>\n      <th>PR status</th>\n      <th>HER2 status</th>\n      <th>Surgery_type</th>\n      <th>Date_of_Surgery</th>\n      <th>Date_of_Last_Visit</th>\n      <th>Patient_Status</th>\n    </tr>\n  </thead>\n  <tbody>\n    <tr>\n      <th>0</th>\n      <td>36.0</td>\n      <td>FEMALE</td>\n      <td>0.080353</td>\n      <td>0.42638</td>\n      <td>0.54715</td>\n      <td>0.273680</td>\n      <td>3.0</td>\n      <td>Infiltrating Ductal Carcinoma</td>\n      <td>Positive</td>\n      <td>Positive</td>\n      <td>Negative</td>\n      <td>Modified Radical Mastectomy</td>\n      <td>15-Jan-17</td>\n      <td>19-Jun-17</td>\n      <td>Alive</td>\n    </tr>\n    <tr>\n      <th>1</th>\n      <td>43.0</td>\n      <td>FEMALE</td>\n      <td>-0.420320</td>\n      <td>0.57807</td>\n      <td>0.61447</td>\n      <td>-0.031505</td>\n      <td>2.0</td>\n      <td>Mucinous Carcinoma</td>\n      <td>Positive</td>\n      <td>Positive</td>\n      <td>Negative</td>\n      <td>Lumpectomy</td>\n      <td>26-Apr-17</td>\n      <td>09-Nov-18</td>\n      <td>Dead</td>\n    </tr>\n    <tr>\n      <th>2</th>\n      <td>69.0</td>\n      <td>FEMALE</td>\n      <td>0.213980</td>\n      <td>1.31140</td>\n      <td>-0.32747</td>\n      <td>-0.234260</td>\n      <td>3.0</td>\n      <td>Infiltrating Ductal Carcinoma</td>\n      <td>Positive</td>\n      <td>Positive</td>\n      <td>Negative</td>\n      <td>Other</td>\n      <td>08-Sep-17</td>\n      <td>09-Jun-18</td>\n      <td>Alive</td>\n    </tr>\n    <tr>\n      <th>3</th>\n      <td>56.0</td>\n      <td>FEMALE</td>\n      <td>0.345090</td>\n      <td>-0.21147</td>\n      <td>-0.19304</td>\n      <td>0.124270</td>\n      <td>2.0</td>\n      <td>Infiltrating Ductal Carcinoma</td>\n      <td>Positive</td>\n      <td>Positive</td>\n      <td>Negative</td>\n      <td>Modified Radical Mastectomy</td>\n      <td>25-Jan-17</td>\n      <td>12-Jul-17</td>\n      <td>Alive</td>\n    </tr>\n    <tr>\n      <th>4</th>\n      <td>56.0</td>\n      <td>FEMALE</td>\n      <td>0.221550</td>\n      <td>1.90680</td>\n      <td>0.52045</td>\n      <td>-0.311990</td>\n      <td>2.0</td>\n      <td>Infiltrating Ductal Carcinoma</td>\n      <td>Positive</td>\n      <td>Positive</td>\n      <td>Negative</td>\n      <td>Other</td>\n      <td>06-May-17</td>\n      <td>27-Jun-19</td>\n      <td>Dead</td>\n    </tr>\n    <tr>\n      <th>...</th>\n      <td>...</td>\n      <td>...</td>\n      <td>...</td>\n      <td>...</td>\n      <td>...</td>\n      <td>...</td>\n      <td>...</td>\n      <td>...</td>\n      <td>...</td>\n      <td>...</td>\n      <td>...</td>\n      <td>...</td>\n      <td>...</td>\n      <td>...</td>\n      <td>...</td>\n    </tr>\n    <tr>\n      <th>336</th>\n      <td>NaN</td>\n      <td>NaN</td>\n      <td>NaN</td>\n      <td>NaN</td>\n      <td>NaN</td>\n      <td>NaN</td>\n      <td>NaN</td>\n      <td>NaN</td>\n      <td>NaN</td>\n      <td>NaN</td>\n      <td>NaN</td>\n      <td>NaN</td>\n      <td>NaN</td>\n      <td>NaN</td>\n      <td>NaN</td>\n    </tr>\n    <tr>\n      <th>337</th>\n      <td>NaN</td>\n      <td>NaN</td>\n      <td>NaN</td>\n      <td>NaN</td>\n      <td>NaN</td>\n      <td>NaN</td>\n      <td>NaN</td>\n      <td>NaN</td>\n      <td>NaN</td>\n      <td>NaN</td>\n      <td>NaN</td>\n      <td>NaN</td>\n      <td>NaN</td>\n      <td>NaN</td>\n      <td>NaN</td>\n    </tr>\n    <tr>\n      <th>338</th>\n      <td>NaN</td>\n      <td>NaN</td>\n      <td>NaN</td>\n      <td>NaN</td>\n      <td>NaN</td>\n      <td>NaN</td>\n      <td>NaN</td>\n      <td>NaN</td>\n      <td>NaN</td>\n      <td>NaN</td>\n      <td>NaN</td>\n      <td>NaN</td>\n      <td>NaN</td>\n      <td>NaN</td>\n      <td>NaN</td>\n    </tr>\n    <tr>\n      <th>339</th>\n      <td>NaN</td>\n      <td>NaN</td>\n      <td>NaN</td>\n      <td>NaN</td>\n      <td>NaN</td>\n      <td>NaN</td>\n      <td>NaN</td>\n      <td>NaN</td>\n      <td>NaN</td>\n      <td>NaN</td>\n      <td>NaN</td>\n      <td>NaN</td>\n      <td>NaN</td>\n      <td>NaN</td>\n      <td>NaN</td>\n    </tr>\n    <tr>\n      <th>340</th>\n      <td>NaN</td>\n      <td>NaN</td>\n      <td>NaN</td>\n      <td>NaN</td>\n      <td>NaN</td>\n      <td>NaN</td>\n      <td>NaN</td>\n      <td>NaN</td>\n      <td>NaN</td>\n      <td>NaN</td>\n      <td>NaN</td>\n      <td>NaN</td>\n      <td>NaN</td>\n      <td>NaN</td>\n      <td>NaN</td>\n    </tr>\n  </tbody>\n</table>\n<p>341 rows × 15 columns</p>\n</div>"
     },
     "execution_count": 8,
     "metadata": {},
     "output_type": "execute_result"
    }
   ],
   "source": [
    "dataset"
   ],
   "metadata": {
    "collapsed": false
   }
  },
  {
   "cell_type": "code",
   "execution_count": 9,
   "outputs": [
    {
     "data": {
      "text/plain": "6"
     },
     "execution_count": 9,
     "metadata": {},
     "output_type": "execute_result"
    }
   ],
   "source": [
    "dataset.duplicated().sum()"
   ],
   "metadata": {
    "collapsed": false
   }
  },
  {
   "cell_type": "code",
   "execution_count": 10,
   "outputs": [],
   "source": [
    "dataset.drop_duplicates(inplace=True)"
   ],
   "metadata": {
    "collapsed": false
   }
  },
  {
   "cell_type": "code",
   "execution_count": 11,
   "outputs": [
    {
     "data": {
      "text/plain": "0"
     },
     "execution_count": 11,
     "metadata": {},
     "output_type": "execute_result"
    }
   ],
   "source": [
    "dataset.duplicated().sum()"
   ],
   "metadata": {
    "collapsed": false
   }
  },
  {
   "cell_type": "code",
   "execution_count": 12,
   "outputs": [
    {
     "data": {
      "text/plain": "      Age  Gender  Protein1  Protein2  Protein3  Protein4  Tumour_Stage  \\\n0    36.0  FEMALE  0.080353   0.42638   0.54715  0.273680           3.0   \n1    43.0  FEMALE -0.420320   0.57807   0.61447 -0.031505           2.0   \n2    69.0  FEMALE  0.213980   1.31140  -0.32747 -0.234260           3.0   \n3    56.0  FEMALE  0.345090  -0.21147  -0.19304  0.124270           2.0   \n4    56.0  FEMALE  0.221550   1.90680   0.52045 -0.311990           2.0   \n..    ...     ...       ...       ...       ...       ...           ...   \n330  44.0    MALE  0.732720   1.11170  -0.26952 -0.354920           2.0   \n331  61.0  FEMALE -0.719470   2.54850  -0.15024  0.339680           2.0   \n332  79.0  FEMALE  0.479400   2.05590  -0.53136 -0.188480           1.0   \n333  76.0  FEMALE -0.244270   0.92556  -0.41823 -0.067848           1.0   \n334   NaN     NaN       NaN       NaN       NaN       NaN           NaN   \n\n                          Histology ER status PR status HER2 status  \\\n0     Infiltrating Ductal Carcinoma  Positive  Positive    Negative   \n1                Mucinous Carcinoma  Positive  Positive    Negative   \n2     Infiltrating Ductal Carcinoma  Positive  Positive    Negative   \n3     Infiltrating Ductal Carcinoma  Positive  Positive    Negative   \n4     Infiltrating Ductal Carcinoma  Positive  Positive    Negative   \n..                              ...       ...       ...         ...   \n330  Infiltrating Lobular Carcinoma  Positive  Positive    Negative   \n331   Infiltrating Ductal Carcinoma  Positive  Positive    Negative   \n332   Infiltrating Ductal Carcinoma  Positive  Positive    Positive   \n333   Infiltrating Ductal Carcinoma  Positive  Positive    Negative   \n334                             NaN       NaN       NaN         NaN   \n\n                    Surgery_type Date_of_Surgery Date_of_Last_Visit  \\\n0    Modified Radical Mastectomy       15-Jan-17          19-Jun-17   \n1                     Lumpectomy       26-Apr-17          09-Nov-18   \n2                          Other       08-Sep-17          09-Jun-18   \n3    Modified Radical Mastectomy       25-Jan-17          12-Jul-17   \n4                          Other       06-May-17          27-Jun-19   \n..                           ...             ...                ...   \n330                        Other       01-Nov-19          04-Mar-20   \n331                   Lumpectomy       11-Nov-19          18-Jan-21   \n332                   Lumpectomy       21-Nov-19          19-Feb-21   \n333                   Lumpectomy       11-Nov-19          05-Jan-21   \n334                          NaN             NaN                NaN   \n\n    Patient_Status  \n0            Alive  \n1             Dead  \n2            Alive  \n3            Alive  \n4             Dead  \n..             ...  \n330           Dead  \n331           Dead  \n332           Dead  \n333           Dead  \n334            NaN  \n\n[335 rows x 15 columns]",
      "text/html": "<div>\n<style scoped>\n    .dataframe tbody tr th:only-of-type {\n        vertical-align: middle;\n    }\n\n    .dataframe tbody tr th {\n        vertical-align: top;\n    }\n\n    .dataframe thead th {\n        text-align: right;\n    }\n</style>\n<table border=\"1\" class=\"dataframe\">\n  <thead>\n    <tr style=\"text-align: right;\">\n      <th></th>\n      <th>Age</th>\n      <th>Gender</th>\n      <th>Protein1</th>\n      <th>Protein2</th>\n      <th>Protein3</th>\n      <th>Protein4</th>\n      <th>Tumour_Stage</th>\n      <th>Histology</th>\n      <th>ER status</th>\n      <th>PR status</th>\n      <th>HER2 status</th>\n      <th>Surgery_type</th>\n      <th>Date_of_Surgery</th>\n      <th>Date_of_Last_Visit</th>\n      <th>Patient_Status</th>\n    </tr>\n  </thead>\n  <tbody>\n    <tr>\n      <th>0</th>\n      <td>36.0</td>\n      <td>FEMALE</td>\n      <td>0.080353</td>\n      <td>0.42638</td>\n      <td>0.54715</td>\n      <td>0.273680</td>\n      <td>3.0</td>\n      <td>Infiltrating Ductal Carcinoma</td>\n      <td>Positive</td>\n      <td>Positive</td>\n      <td>Negative</td>\n      <td>Modified Radical Mastectomy</td>\n      <td>15-Jan-17</td>\n      <td>19-Jun-17</td>\n      <td>Alive</td>\n    </tr>\n    <tr>\n      <th>1</th>\n      <td>43.0</td>\n      <td>FEMALE</td>\n      <td>-0.420320</td>\n      <td>0.57807</td>\n      <td>0.61447</td>\n      <td>-0.031505</td>\n      <td>2.0</td>\n      <td>Mucinous Carcinoma</td>\n      <td>Positive</td>\n      <td>Positive</td>\n      <td>Negative</td>\n      <td>Lumpectomy</td>\n      <td>26-Apr-17</td>\n      <td>09-Nov-18</td>\n      <td>Dead</td>\n    </tr>\n    <tr>\n      <th>2</th>\n      <td>69.0</td>\n      <td>FEMALE</td>\n      <td>0.213980</td>\n      <td>1.31140</td>\n      <td>-0.32747</td>\n      <td>-0.234260</td>\n      <td>3.0</td>\n      <td>Infiltrating Ductal Carcinoma</td>\n      <td>Positive</td>\n      <td>Positive</td>\n      <td>Negative</td>\n      <td>Other</td>\n      <td>08-Sep-17</td>\n      <td>09-Jun-18</td>\n      <td>Alive</td>\n    </tr>\n    <tr>\n      <th>3</th>\n      <td>56.0</td>\n      <td>FEMALE</td>\n      <td>0.345090</td>\n      <td>-0.21147</td>\n      <td>-0.19304</td>\n      <td>0.124270</td>\n      <td>2.0</td>\n      <td>Infiltrating Ductal Carcinoma</td>\n      <td>Positive</td>\n      <td>Positive</td>\n      <td>Negative</td>\n      <td>Modified Radical Mastectomy</td>\n      <td>25-Jan-17</td>\n      <td>12-Jul-17</td>\n      <td>Alive</td>\n    </tr>\n    <tr>\n      <th>4</th>\n      <td>56.0</td>\n      <td>FEMALE</td>\n      <td>0.221550</td>\n      <td>1.90680</td>\n      <td>0.52045</td>\n      <td>-0.311990</td>\n      <td>2.0</td>\n      <td>Infiltrating Ductal Carcinoma</td>\n      <td>Positive</td>\n      <td>Positive</td>\n      <td>Negative</td>\n      <td>Other</td>\n      <td>06-May-17</td>\n      <td>27-Jun-19</td>\n      <td>Dead</td>\n    </tr>\n    <tr>\n      <th>...</th>\n      <td>...</td>\n      <td>...</td>\n      <td>...</td>\n      <td>...</td>\n      <td>...</td>\n      <td>...</td>\n      <td>...</td>\n      <td>...</td>\n      <td>...</td>\n      <td>...</td>\n      <td>...</td>\n      <td>...</td>\n      <td>...</td>\n      <td>...</td>\n      <td>...</td>\n    </tr>\n    <tr>\n      <th>330</th>\n      <td>44.0</td>\n      <td>MALE</td>\n      <td>0.732720</td>\n      <td>1.11170</td>\n      <td>-0.26952</td>\n      <td>-0.354920</td>\n      <td>2.0</td>\n      <td>Infiltrating Lobular Carcinoma</td>\n      <td>Positive</td>\n      <td>Positive</td>\n      <td>Negative</td>\n      <td>Other</td>\n      <td>01-Nov-19</td>\n      <td>04-Mar-20</td>\n      <td>Dead</td>\n    </tr>\n    <tr>\n      <th>331</th>\n      <td>61.0</td>\n      <td>FEMALE</td>\n      <td>-0.719470</td>\n      <td>2.54850</td>\n      <td>-0.15024</td>\n      <td>0.339680</td>\n      <td>2.0</td>\n      <td>Infiltrating Ductal Carcinoma</td>\n      <td>Positive</td>\n      <td>Positive</td>\n      <td>Negative</td>\n      <td>Lumpectomy</td>\n      <td>11-Nov-19</td>\n      <td>18-Jan-21</td>\n      <td>Dead</td>\n    </tr>\n    <tr>\n      <th>332</th>\n      <td>79.0</td>\n      <td>FEMALE</td>\n      <td>0.479400</td>\n      <td>2.05590</td>\n      <td>-0.53136</td>\n      <td>-0.188480</td>\n      <td>1.0</td>\n      <td>Infiltrating Ductal Carcinoma</td>\n      <td>Positive</td>\n      <td>Positive</td>\n      <td>Positive</td>\n      <td>Lumpectomy</td>\n      <td>21-Nov-19</td>\n      <td>19-Feb-21</td>\n      <td>Dead</td>\n    </tr>\n    <tr>\n      <th>333</th>\n      <td>76.0</td>\n      <td>FEMALE</td>\n      <td>-0.244270</td>\n      <td>0.92556</td>\n      <td>-0.41823</td>\n      <td>-0.067848</td>\n      <td>1.0</td>\n      <td>Infiltrating Ductal Carcinoma</td>\n      <td>Positive</td>\n      <td>Positive</td>\n      <td>Negative</td>\n      <td>Lumpectomy</td>\n      <td>11-Nov-19</td>\n      <td>05-Jan-21</td>\n      <td>Dead</td>\n    </tr>\n    <tr>\n      <th>334</th>\n      <td>NaN</td>\n      <td>NaN</td>\n      <td>NaN</td>\n      <td>NaN</td>\n      <td>NaN</td>\n      <td>NaN</td>\n      <td>NaN</td>\n      <td>NaN</td>\n      <td>NaN</td>\n      <td>NaN</td>\n      <td>NaN</td>\n      <td>NaN</td>\n      <td>NaN</td>\n      <td>NaN</td>\n      <td>NaN</td>\n    </tr>\n  </tbody>\n</table>\n<p>335 rows × 15 columns</p>\n</div>"
     },
     "execution_count": 12,
     "metadata": {},
     "output_type": "execute_result"
    }
   ],
   "source": [
    "dataset"
   ],
   "metadata": {
    "collapsed": false
   }
  },
  {
   "cell_type": "code",
   "execution_count": 13,
   "outputs": [
    {
     "data": {
      "text/plain": "Age                    1\nGender                 1\nProtein1               1\nProtein2               1\nProtein3               1\nProtein4               1\nTumour_Stage           1\nHistology              1\nER status              1\nPR status              1\nHER2 status            1\nSurgery_type           1\nDate_of_Surgery        1\nDate_of_Last_Visit    18\nPatient_Status        14\ndtype: int64"
     },
     "execution_count": 13,
     "metadata": {},
     "output_type": "execute_result"
    }
   ],
   "source": [
    "dataset.isna().sum()"
   ],
   "metadata": {
    "collapsed": false
   }
  },
  {
   "cell_type": "code",
   "execution_count": 14,
   "outputs": [],
   "source": [
    "dataset.dropna(inplace=True)"
   ],
   "metadata": {
    "collapsed": false
   }
  },
  {
   "cell_type": "code",
   "execution_count": 15,
   "outputs": [
    {
     "data": {
      "text/plain": "Age                   0\nGender                0\nProtein1              0\nProtein2              0\nProtein3              0\nProtein4              0\nTumour_Stage          0\nHistology             0\nER status             0\nPR status             0\nHER2 status           0\nSurgery_type          0\nDate_of_Surgery       0\nDate_of_Last_Visit    0\nPatient_Status        0\ndtype: int64"
     },
     "execution_count": 15,
     "metadata": {},
     "output_type": "execute_result"
    }
   ],
   "source": [
    "dataset.isna().sum()"
   ],
   "metadata": {
    "collapsed": false
   }
  },
  {
   "cell_type": "code",
   "execution_count": 16,
   "outputs": [
    {
     "data": {
      "text/plain": "      Age  Gender  Protein1  Protein2  Protein3  Protein4  Tumour_Stage  \\\n0    36.0  FEMALE  0.080353   0.42638   0.54715  0.273680           3.0   \n1    43.0  FEMALE -0.420320   0.57807   0.61447 -0.031505           2.0   \n2    69.0  FEMALE  0.213980   1.31140  -0.32747 -0.234260           3.0   \n3    56.0  FEMALE  0.345090  -0.21147  -0.19304  0.124270           2.0   \n4    56.0  FEMALE  0.221550   1.90680   0.52045 -0.311990           2.0   \n..    ...     ...       ...       ...       ...       ...           ...   \n329  36.0  FEMALE  0.231800   0.61804  -0.55779 -0.517350           3.0   \n330  44.0    MALE  0.732720   1.11170  -0.26952 -0.354920           2.0   \n331  61.0  FEMALE -0.719470   2.54850  -0.15024  0.339680           2.0   \n332  79.0  FEMALE  0.479400   2.05590  -0.53136 -0.188480           1.0   \n333  76.0  FEMALE -0.244270   0.92556  -0.41823 -0.067848           1.0   \n\n                          Histology ER status PR status HER2 status  \\\n0     Infiltrating Ductal Carcinoma  Positive  Positive    Negative   \n1                Mucinous Carcinoma  Positive  Positive    Negative   \n2     Infiltrating Ductal Carcinoma  Positive  Positive    Negative   \n3     Infiltrating Ductal Carcinoma  Positive  Positive    Negative   \n4     Infiltrating Ductal Carcinoma  Positive  Positive    Negative   \n..                              ...       ...       ...         ...   \n329   Infiltrating Ductal Carcinoma  Positive  Positive    Positive   \n330  Infiltrating Lobular Carcinoma  Positive  Positive    Negative   \n331   Infiltrating Ductal Carcinoma  Positive  Positive    Negative   \n332   Infiltrating Ductal Carcinoma  Positive  Positive    Positive   \n333   Infiltrating Ductal Carcinoma  Positive  Positive    Negative   \n\n                    Surgery_type Date_of_Surgery Date_of_Last_Visit  \\\n0    Modified Radical Mastectomy       15-Jan-17          19-Jun-17   \n1                     Lumpectomy       26-Apr-17          09-Nov-18   \n2                          Other       08-Sep-17          09-Jun-18   \n3    Modified Radical Mastectomy       25-Jan-17          12-Jul-17   \n4                          Other       06-May-17          27-Jun-19   \n..                           ...             ...                ...   \n329            Simple Mastectomy       11-Nov-19          09-Feb-20   \n330                        Other       01-Nov-19          04-Mar-20   \n331                   Lumpectomy       11-Nov-19          18-Jan-21   \n332                   Lumpectomy       21-Nov-19          19-Feb-21   \n333                   Lumpectomy       11-Nov-19          05-Jan-21   \n\n    Patient_Status  \n0            Alive  \n1             Dead  \n2            Alive  \n3            Alive  \n4             Dead  \n..             ...  \n329           Dead  \n330           Dead  \n331           Dead  \n332           Dead  \n333           Dead  \n\n[317 rows x 15 columns]",
      "text/html": "<div>\n<style scoped>\n    .dataframe tbody tr th:only-of-type {\n        vertical-align: middle;\n    }\n\n    .dataframe tbody tr th {\n        vertical-align: top;\n    }\n\n    .dataframe thead th {\n        text-align: right;\n    }\n</style>\n<table border=\"1\" class=\"dataframe\">\n  <thead>\n    <tr style=\"text-align: right;\">\n      <th></th>\n      <th>Age</th>\n      <th>Gender</th>\n      <th>Protein1</th>\n      <th>Protein2</th>\n      <th>Protein3</th>\n      <th>Protein4</th>\n      <th>Tumour_Stage</th>\n      <th>Histology</th>\n      <th>ER status</th>\n      <th>PR status</th>\n      <th>HER2 status</th>\n      <th>Surgery_type</th>\n      <th>Date_of_Surgery</th>\n      <th>Date_of_Last_Visit</th>\n      <th>Patient_Status</th>\n    </tr>\n  </thead>\n  <tbody>\n    <tr>\n      <th>0</th>\n      <td>36.0</td>\n      <td>FEMALE</td>\n      <td>0.080353</td>\n      <td>0.42638</td>\n      <td>0.54715</td>\n      <td>0.273680</td>\n      <td>3.0</td>\n      <td>Infiltrating Ductal Carcinoma</td>\n      <td>Positive</td>\n      <td>Positive</td>\n      <td>Negative</td>\n      <td>Modified Radical Mastectomy</td>\n      <td>15-Jan-17</td>\n      <td>19-Jun-17</td>\n      <td>Alive</td>\n    </tr>\n    <tr>\n      <th>1</th>\n      <td>43.0</td>\n      <td>FEMALE</td>\n      <td>-0.420320</td>\n      <td>0.57807</td>\n      <td>0.61447</td>\n      <td>-0.031505</td>\n      <td>2.0</td>\n      <td>Mucinous Carcinoma</td>\n      <td>Positive</td>\n      <td>Positive</td>\n      <td>Negative</td>\n      <td>Lumpectomy</td>\n      <td>26-Apr-17</td>\n      <td>09-Nov-18</td>\n      <td>Dead</td>\n    </tr>\n    <tr>\n      <th>2</th>\n      <td>69.0</td>\n      <td>FEMALE</td>\n      <td>0.213980</td>\n      <td>1.31140</td>\n      <td>-0.32747</td>\n      <td>-0.234260</td>\n      <td>3.0</td>\n      <td>Infiltrating Ductal Carcinoma</td>\n      <td>Positive</td>\n      <td>Positive</td>\n      <td>Negative</td>\n      <td>Other</td>\n      <td>08-Sep-17</td>\n      <td>09-Jun-18</td>\n      <td>Alive</td>\n    </tr>\n    <tr>\n      <th>3</th>\n      <td>56.0</td>\n      <td>FEMALE</td>\n      <td>0.345090</td>\n      <td>-0.21147</td>\n      <td>-0.19304</td>\n      <td>0.124270</td>\n      <td>2.0</td>\n      <td>Infiltrating Ductal Carcinoma</td>\n      <td>Positive</td>\n      <td>Positive</td>\n      <td>Negative</td>\n      <td>Modified Radical Mastectomy</td>\n      <td>25-Jan-17</td>\n      <td>12-Jul-17</td>\n      <td>Alive</td>\n    </tr>\n    <tr>\n      <th>4</th>\n      <td>56.0</td>\n      <td>FEMALE</td>\n      <td>0.221550</td>\n      <td>1.90680</td>\n      <td>0.52045</td>\n      <td>-0.311990</td>\n      <td>2.0</td>\n      <td>Infiltrating Ductal Carcinoma</td>\n      <td>Positive</td>\n      <td>Positive</td>\n      <td>Negative</td>\n      <td>Other</td>\n      <td>06-May-17</td>\n      <td>27-Jun-19</td>\n      <td>Dead</td>\n    </tr>\n    <tr>\n      <th>...</th>\n      <td>...</td>\n      <td>...</td>\n      <td>...</td>\n      <td>...</td>\n      <td>...</td>\n      <td>...</td>\n      <td>...</td>\n      <td>...</td>\n      <td>...</td>\n      <td>...</td>\n      <td>...</td>\n      <td>...</td>\n      <td>...</td>\n      <td>...</td>\n      <td>...</td>\n    </tr>\n    <tr>\n      <th>329</th>\n      <td>36.0</td>\n      <td>FEMALE</td>\n      <td>0.231800</td>\n      <td>0.61804</td>\n      <td>-0.55779</td>\n      <td>-0.517350</td>\n      <td>3.0</td>\n      <td>Infiltrating Ductal Carcinoma</td>\n      <td>Positive</td>\n      <td>Positive</td>\n      <td>Positive</td>\n      <td>Simple Mastectomy</td>\n      <td>11-Nov-19</td>\n      <td>09-Feb-20</td>\n      <td>Dead</td>\n    </tr>\n    <tr>\n      <th>330</th>\n      <td>44.0</td>\n      <td>MALE</td>\n      <td>0.732720</td>\n      <td>1.11170</td>\n      <td>-0.26952</td>\n      <td>-0.354920</td>\n      <td>2.0</td>\n      <td>Infiltrating Lobular Carcinoma</td>\n      <td>Positive</td>\n      <td>Positive</td>\n      <td>Negative</td>\n      <td>Other</td>\n      <td>01-Nov-19</td>\n      <td>04-Mar-20</td>\n      <td>Dead</td>\n    </tr>\n    <tr>\n      <th>331</th>\n      <td>61.0</td>\n      <td>FEMALE</td>\n      <td>-0.719470</td>\n      <td>2.54850</td>\n      <td>-0.15024</td>\n      <td>0.339680</td>\n      <td>2.0</td>\n      <td>Infiltrating Ductal Carcinoma</td>\n      <td>Positive</td>\n      <td>Positive</td>\n      <td>Negative</td>\n      <td>Lumpectomy</td>\n      <td>11-Nov-19</td>\n      <td>18-Jan-21</td>\n      <td>Dead</td>\n    </tr>\n    <tr>\n      <th>332</th>\n      <td>79.0</td>\n      <td>FEMALE</td>\n      <td>0.479400</td>\n      <td>2.05590</td>\n      <td>-0.53136</td>\n      <td>-0.188480</td>\n      <td>1.0</td>\n      <td>Infiltrating Ductal Carcinoma</td>\n      <td>Positive</td>\n      <td>Positive</td>\n      <td>Positive</td>\n      <td>Lumpectomy</td>\n      <td>21-Nov-19</td>\n      <td>19-Feb-21</td>\n      <td>Dead</td>\n    </tr>\n    <tr>\n      <th>333</th>\n      <td>76.0</td>\n      <td>FEMALE</td>\n      <td>-0.244270</td>\n      <td>0.92556</td>\n      <td>-0.41823</td>\n      <td>-0.067848</td>\n      <td>1.0</td>\n      <td>Infiltrating Ductal Carcinoma</td>\n      <td>Positive</td>\n      <td>Positive</td>\n      <td>Negative</td>\n      <td>Lumpectomy</td>\n      <td>11-Nov-19</td>\n      <td>05-Jan-21</td>\n      <td>Dead</td>\n    </tr>\n  </tbody>\n</table>\n<p>317 rows × 15 columns</p>\n</div>"
     },
     "execution_count": 16,
     "metadata": {},
     "output_type": "execute_result"
    }
   ],
   "source": [
    "dataset"
   ],
   "metadata": {
    "collapsed": false
   }
  },
  {
   "cell_type": "code",
   "execution_count": 17,
   "outputs": [
    {
     "name": "stdout",
     "output_type": "stream",
     "text": [
      "<class 'pandas.core.frame.DataFrame'>\n",
      "Int64Index: 317 entries, 0 to 333\n",
      "Data columns (total 15 columns):\n",
      " #   Column              Non-Null Count  Dtype  \n",
      "---  ------              --------------  -----  \n",
      " 0   Age                 317 non-null    float64\n",
      " 1   Gender              317 non-null    object \n",
      " 2   Protein1            317 non-null    float64\n",
      " 3   Protein2            317 non-null    float64\n",
      " 4   Protein3            317 non-null    float64\n",
      " 5   Protein4            317 non-null    float64\n",
      " 6   Tumour_Stage        317 non-null    float64\n",
      " 7   Histology           317 non-null    object \n",
      " 8   ER status           317 non-null    object \n",
      " 9   PR status           317 non-null    object \n",
      " 10  HER2 status         317 non-null    object \n",
      " 11  Surgery_type        317 non-null    object \n",
      " 12  Date_of_Surgery     317 non-null    object \n",
      " 13  Date_of_Last_Visit  317 non-null    object \n",
      " 14  Patient_Status      317 non-null    object \n",
      "dtypes: float64(6), object(9)\n",
      "memory usage: 39.6+ KB\n"
     ]
    }
   ],
   "source": [
    "dataset.info()"
   ],
   "metadata": {
    "collapsed": false
   }
  },
  {
   "cell_type": "code",
   "execution_count": 18,
   "outputs": [],
   "source": [
    "date_of_Surgery = []\n",
    "for i in dataset.Date_of_Surgery:\n",
    "    x = i.split('-')\n",
    "    date_of_Surgery.append(x)"
   ],
   "metadata": {
    "collapsed": false
   }
  },
  {
   "cell_type": "code",
   "execution_count": 19,
   "outputs": [
    {
     "data": {
      "text/plain": "[['15', 'Jan', '17'],\n ['26', 'Apr', '17'],\n ['08', 'Sep', '17'],\n ['25', 'Jan', '17'],\n ['06', 'May', '17'],\n ['18', 'Sep', '17'],\n ['04', 'Feb', '17'],\n ['28', 'Sep', '17'],\n ['14', 'Feb', '17'],\n ['26', 'May', '17'],\n ['08', 'Oct', '17'],\n ['24', 'Feb', '17'],\n ['05', 'Jun', '17'],\n ['18', 'Oct', '17'],\n ['06', 'Mar', '17'],\n ['15', 'Jun', '17'],\n ['28', 'Oct', '17'],\n ['16', 'Mar', '17'],\n ['25', 'Jun', '17'],\n ['07', 'Nov', '17'],\n ['26', 'Mar', '17'],\n ['17', 'Nov', '17'],\n ['05', 'Apr', '17'],\n ['17', 'Nov', '17'],\n ['27', 'Nov', '17'],\n ['15', 'Apr', '17'],\n ['27', 'Nov', '17'],\n ['07', 'Dec', '17'],\n ['25', 'Apr', '17'],\n ['07', 'Dec', '17'],\n ['17', 'Dec', '17'],\n ['05', 'May', '17'],\n ['17', 'Dec', '17'],\n ['27', 'Dec', '17'],\n ['15', 'May', '17'],\n ['27', 'Dec', '17'],\n ['06', 'Jan', '18'],\n ['25', 'May', '17'],\n ['06', 'Jan', '18'],\n ['16', 'Jan', '18'],\n ['04', 'Jun', '17'],\n ['16', 'Jan', '18'],\n ['26', 'Jan', '18'],\n ['14', 'Jun', '17'],\n ['26', 'Jan', '18'],\n ['05', 'Feb', '18'],\n ['24', 'Jun', '17'],\n ['05', 'Feb', '18'],\n ['15', 'Feb', '18'],\n ['04', 'Jul', '17'],\n ['15', 'Feb', '18'],\n ['25', 'Feb', '18'],\n ['14', 'Jul', '17'],\n ['25', 'Feb', '18'],\n ['07', 'Mar', '18'],\n ['24', 'Jul', '17'],\n ['07', 'Mar', '18'],\n ['17', 'Mar', '18'],\n ['03', 'Aug', '17'],\n ['17', 'Mar', '18'],\n ['27', 'Mar', '18'],\n ['13', 'Aug', '17'],\n ['27', 'Mar', '18'],\n ['06', 'Apr', '18'],\n ['23', 'Aug', '17'],\n ['06', 'Apr', '18'],\n ['16', 'Apr', '18'],\n ['02', 'Sep', '17'],\n ['16', 'Apr', '18'],\n ['26', 'Apr', '18'],\n ['12', 'Sep', '17'],\n ['26', 'Apr', '18'],\n ['06', 'May', '18'],\n ['22', 'Sep', '17'],\n ['06', 'May', '18'],\n ['16', 'May', '18'],\n ['02', 'Oct', '17'],\n ['16', 'May', '18'],\n ['26', 'May', '18'],\n ['12', 'Oct', '17'],\n ['26', 'May', '18'],\n ['05', 'Jun', '18'],\n ['22', 'Oct', '17'],\n ['05', 'Jun', '18'],\n ['15', 'Jun', '18'],\n ['01', 'Nov', '17'],\n ['15', 'Jun', '18'],\n ['25', 'Jun', '18'],\n ['11', 'Nov', '17'],\n ['25', 'Jun', '18'],\n ['05', 'Jul', '18'],\n ['21', 'Nov', '17'],\n ['05', 'Jul', '18'],\n ['15', 'Jul', '18'],\n ['01', 'Dec', '17'],\n ['15', 'Jul', '18'],\n ['25', 'Jul', '18'],\n ['25', 'Jul', '18'],\n ['04', 'Aug', '18'],\n ['21', 'Dec', '17'],\n ['04', 'Aug', '18'],\n ['14', 'Aug', '18'],\n ['31', 'Dec', '17'],\n ['14', 'Aug', '18'],\n ['24', 'Aug', '18'],\n ['10', 'Jan', '18'],\n ['24', 'Aug', '18'],\n ['03', 'Sep', '18'],\n ['03', 'Sep', '18'],\n ['13', 'Sep', '18'],\n ['30', 'Jan', '18'],\n ['13', 'Sep', '18'],\n ['23', 'Sep', '18'],\n ['09', 'Feb', '18'],\n ['23', 'Sep', '18'],\n ['03', 'Oct', '18'],\n ['19', 'Feb', '18'],\n ['03', 'Oct', '18'],\n ['19', 'Feb', '18'],\n ['01', 'Mar', '18'],\n ['13', 'Oct', '18'],\n ['01', 'Mar', '18'],\n ['11', 'Mar', '18'],\n ['23', 'Oct', '18'],\n ['11', 'Mar', '18'],\n ['21', 'Mar', '18'],\n ['02', 'Nov', '18'],\n ['21', 'Mar', '18'],\n ['31', 'Mar', '18'],\n ['12', 'Nov', '18'],\n ['31', 'Mar', '18'],\n ['10', 'Apr', '18'],\n ['22', 'Nov', '18'],\n ['10', 'Apr', '18'],\n ['20', 'Apr', '18'],\n ['02', 'Dec', '18'],\n ['20', 'Apr', '18'],\n ['30', 'Apr', '18'],\n ['12', 'Dec', '18'],\n ['30', 'Apr', '18'],\n ['10', 'May', '18'],\n ['22', 'Dec', '18'],\n ['10', 'May', '18'],\n ['20', 'May', '18'],\n ['01', 'Jan', '19'],\n ['20', 'May', '18'],\n ['30', 'May', '18'],\n ['11', 'Jan', '19'],\n ['30', 'May', '18'],\n ['09', 'Jun', '18'],\n ['21', 'Jan', '19'],\n ['09', 'Jun', '18'],\n ['19', 'Jun', '18'],\n ['31', 'Jan', '19'],\n ['19', 'Jun', '18'],\n ['29', 'Jun', '18'],\n ['10', 'Feb', '19'],\n ['29', 'Jun', '18'],\n ['09', 'Jul', '18'],\n ['20', 'Feb', '19'],\n ['09', 'Jul', '18'],\n ['19', 'Jul', '18'],\n ['02', 'Mar', '19'],\n ['19', 'Jul', '18'],\n ['29', 'Jul', '18'],\n ['12', 'Mar', '19'],\n ['08', 'Aug', '18'],\n ['22', 'Mar', '19'],\n ['08', 'Aug', '18'],\n ['18', 'Aug', '18'],\n ['01', 'Apr', '19'],\n ['18', 'Aug', '18'],\n ['28', 'Aug', '18'],\n ['11', 'Apr', '19'],\n ['28', 'Aug', '18'],\n ['07', 'Sep', '18'],\n ['21', 'Apr', '19'],\n ['17', 'Sep', '18'],\n ['01', 'May', '19'],\n ['17', 'Sep', '18'],\n ['27', 'Sep', '18'],\n ['11', 'May', '19'],\n ['27', 'Sep', '18'],\n ['21', 'May', '19'],\n ['07', 'Oct', '18'],\n ['17', 'Oct', '18'],\n ['31', 'May', '19'],\n ['17', 'Oct', '18'],\n ['27', 'Oct', '18'],\n ['27', 'Oct', '18'],\n ['06', 'Nov', '18'],\n ['20', 'Jun', '19'],\n ['06', 'Nov', '18'],\n ['16', 'Nov', '18'],\n ['30', 'Jun', '19'],\n ['16', 'Nov', '18'],\n ['26', 'Nov', '18'],\n ['10', 'Jul', '19'],\n ['06', 'Dec', '18'],\n ['20', 'Jul', '19'],\n ['06', 'Dec', '18'],\n ['16', 'Dec', '18'],\n ['07', 'Oct', '18'],\n ['17', 'Oct', '18'],\n ['31', 'May', '19'],\n ['17', 'Oct', '18'],\n ['27', 'Oct', '18'],\n ['10', 'Jun', '19'],\n ['27', 'Oct', '18'],\n ['06', 'Nov', '18'],\n ['06', 'Nov', '18'],\n ['06', 'Nov', '18'],\n ['16', 'Nov', '18'],\n ['26', 'Nov', '18'],\n ['16', 'Nov', '18'],\n ['26', 'Nov', '18'],\n ['06', 'Dec', '18'],\n ['26', 'Nov', '18'],\n ['06', 'Dec', '18'],\n ['16', 'Dec', '18'],\n ['06', 'Dec', '18'],\n ['16', 'Dec', '18'],\n ['26', 'Dec', '18'],\n ['16', 'Dec', '18'],\n ['26', 'Dec', '18'],\n ['05', 'Jan', '19'],\n ['26', 'Dec', '18'],\n ['05', 'Jan', '19'],\n ['15', 'Jan', '19'],\n ['05', 'Jan', '19'],\n ['15', 'Jan', '19'],\n ['25', 'Jan', '19'],\n ['15', 'Jan', '19'],\n ['25', 'Jan', '19'],\n ['04', 'Feb', '19'],\n ['25', 'Jan', '19'],\n ['04', 'Feb', '19'],\n ['14', 'Feb', '19'],\n ['04', 'Feb', '19'],\n ['14', 'Feb', '19'],\n ['24', 'Feb', '19'],\n ['14', 'Feb', '19'],\n ['24', 'Feb', '19'],\n ['06', 'Mar', '19'],\n ['24', 'Feb', '19'],\n ['06', 'Mar', '19'],\n ['16', 'Mar', '19'],\n ['06', 'Mar', '19'],\n ['16', 'Mar', '19'],\n ['26', 'Mar', '19'],\n ['16', 'Mar', '19'],\n ['26', 'Mar', '19'],\n ['05', 'Apr', '19'],\n ['26', 'Mar', '19'],\n ['15', 'Apr', '19'],\n ['05', 'Apr', '19'],\n ['15', 'Apr', '19'],\n ['25', 'Apr', '19'],\n ['15', 'Apr', '19'],\n ['25', 'Apr', '19'],\n ['05', 'May', '19'],\n ['25', 'Apr', '19'],\n ['05', 'May', '19'],\n ['15', 'May', '19'],\n ['05', 'May', '19'],\n ['15', 'May', '19'],\n ['25', 'May', '19'],\n ['15', 'May', '19'],\n ['25', 'May', '19'],\n ['04', 'Jun', '19'],\n ['25', 'May', '19'],\n ['14', 'Jun', '19'],\n ['24', 'Jun', '19'],\n ['14', 'Jun', '19'],\n ['24', 'Jun', '19'],\n ['04', 'Jul', '19'],\n ['24', 'Jun', '19'],\n ['04', 'Jul', '19'],\n ['14', 'Jul', '19'],\n ['04', 'Jul', '19'],\n ['14', 'Jul', '19'],\n ['24', 'Jul', '19'],\n ['14', 'Jul', '19'],\n ['24', 'Jul', '19'],\n ['03', 'Aug', '19'],\n ['24', 'Jul', '19'],\n ['03', 'Aug', '19'],\n ['13', 'Aug', '19'],\n ['03', 'Aug', '19'],\n ['13', 'Aug', '19'],\n ['13', 'Aug', '19'],\n ['23', 'Aug', '19'],\n ['02', 'Sep', '19'],\n ['23', 'Aug', '19'],\n ['02', 'Sep', '19'],\n ['12', 'Sep', '19'],\n ['02', 'Sep', '19'],\n ['12', 'Sep', '19'],\n ['22', 'Sep', '19'],\n ['12', 'Sep', '19'],\n ['22', 'Sep', '19'],\n ['02', 'Oct', '19'],\n ['22', 'Sep', '19'],\n ['02', 'Oct', '19'],\n ['12', 'Oct', '19'],\n ['12', 'Oct', '19'],\n ['22', 'Oct', '19'],\n ['12', 'Oct', '19'],\n ['22', 'Oct', '19'],\n ['01', 'Nov', '19'],\n ['22', 'Oct', '19'],\n ['01', 'Nov', '19'],\n ['11', 'Nov', '19'],\n ['01', 'Nov', '19'],\n ['11', 'Nov', '19'],\n ['21', 'Nov', '19'],\n ['11', 'Nov', '19']]"
     },
     "execution_count": 19,
     "metadata": {},
     "output_type": "execute_result"
    }
   ],
   "source": [
    "date_of_Surgery"
   ],
   "metadata": {
    "collapsed": false
   }
  },
  {
   "cell_type": "code",
   "execution_count": 20,
   "outputs": [],
   "source": [
    "surgery = pd.DataFrame(date_of_Surgery, columns = ['S_day', 'S_month', 'S_year'])"
   ],
   "metadata": {
    "collapsed": false
   }
  },
  {
   "cell_type": "code",
   "execution_count": 21,
   "outputs": [],
   "source": [
    "date_of_Last_Visit = []\n",
    "for i in dataset.Date_of_Last_Visit:\n",
    "    x = i.split('-')\n",
    "    date_of_Last_Visit.append(x)"
   ],
   "metadata": {
    "collapsed": false
   }
  },
  {
   "cell_type": "code",
   "execution_count": 22,
   "outputs": [
    {
     "data": {
      "text/plain": "317"
     },
     "execution_count": 22,
     "metadata": {},
     "output_type": "execute_result"
    }
   ],
   "source": [
    "len(date_of_Last_Visit)"
   ],
   "metadata": {
    "collapsed": false
   }
  },
  {
   "cell_type": "code",
   "execution_count": 23,
   "outputs": [],
   "source": [
    "l_visit = pd.DataFrame(date_of_Last_Visit,columns = ['lv_day', 'lv_month', 'lv_year'])"
   ],
   "metadata": {
    "collapsed": false
   }
  },
  {
   "cell_type": "code",
   "execution_count": 24,
   "outputs": [],
   "source": [
    "dataset = pd.concat([dataset,surgery],axis=1)"
   ],
   "metadata": {
    "collapsed": false
   }
  },
  {
   "cell_type": "code",
   "execution_count": 25,
   "outputs": [],
   "source": [
    "dataset = pd.concat([dataset,l_visit],axis=1)"
   ],
   "metadata": {
    "collapsed": false
   }
  },
  {
   "cell_type": "code",
   "execution_count": 26,
   "outputs": [
    {
     "data": {
      "text/plain": "      Age  Gender  Protein1  Protein2  Protein3  Protein4  Tumour_Stage  \\\n0    36.0  FEMALE  0.080353   0.42638   0.54715  0.273680           3.0   \n1    43.0  FEMALE -0.420320   0.57807   0.61447 -0.031505           2.0   \n2    69.0  FEMALE  0.213980   1.31140  -0.32747 -0.234260           3.0   \n3    56.0  FEMALE  0.345090  -0.21147  -0.19304  0.124270           2.0   \n4    56.0  FEMALE  0.221550   1.90680   0.52045 -0.311990           2.0   \n..    ...     ...       ...       ...       ...       ...           ...   \n265   NaN     NaN       NaN       NaN       NaN       NaN           NaN   \n283   NaN     NaN       NaN       NaN       NaN       NaN           NaN   \n285   NaN     NaN       NaN       NaN       NaN       NaN           NaN   \n286   NaN     NaN       NaN       NaN       NaN       NaN           NaN   \n305   NaN     NaN       NaN       NaN       NaN       NaN           NaN   \n\n                         Histology ER status PR status  ...  \\\n0    Infiltrating Ductal Carcinoma  Positive  Positive  ...   \n1               Mucinous Carcinoma  Positive  Positive  ...   \n2    Infiltrating Ductal Carcinoma  Positive  Positive  ...   \n3    Infiltrating Ductal Carcinoma  Positive  Positive  ...   \n4    Infiltrating Ductal Carcinoma  Positive  Positive  ...   \n..                             ...       ...       ...  ...   \n265                            NaN       NaN       NaN  ...   \n283                            NaN       NaN       NaN  ...   \n285                            NaN       NaN       NaN  ...   \n286                            NaN       NaN       NaN  ...   \n305                            NaN       NaN       NaN  ...   \n\n                    Surgery_type Date_of_Surgery Date_of_Last_Visit  \\\n0    Modified Radical Mastectomy       15-Jan-17          19-Jun-17   \n1                     Lumpectomy       26-Apr-17          09-Nov-18   \n2                          Other       08-Sep-17          09-Jun-18   \n3    Modified Radical Mastectomy       25-Jan-17          12-Jul-17   \n4                          Other       06-May-17          27-Jun-19   \n..                           ...             ...                ...   \n265                          NaN             NaN                NaN   \n283                          NaN             NaN                NaN   \n285                          NaN             NaN                NaN   \n286                          NaN             NaN                NaN   \n305                          NaN             NaN                NaN   \n\n    Patient_Status S_day S_month S_year lv_day lv_month lv_year  \n0            Alive    15     Jan     17     19      Jun      17  \n1             Dead    26     Apr     17     09      Nov      18  \n2            Alive    08     Sep     17     09      Jun      18  \n3            Alive    25     Jan     17     12      Jul      17  \n4             Dead    06     May     17     27      Jun      19  \n..             ...   ...     ...    ...    ...      ...     ...  \n265            NaN    15     May     19     26      Dec      19  \n283            NaN    24     Jul     19     05      Mar      20  \n285            NaN    24     Jul     19     07      Oct      19  \n286            NaN    03     Aug     19     16      Aug      20  \n305            NaN    12     Oct     19     07      Nov      20  \n\n[333 rows x 21 columns]",
      "text/html": "<div>\n<style scoped>\n    .dataframe tbody tr th:only-of-type {\n        vertical-align: middle;\n    }\n\n    .dataframe tbody tr th {\n        vertical-align: top;\n    }\n\n    .dataframe thead th {\n        text-align: right;\n    }\n</style>\n<table border=\"1\" class=\"dataframe\">\n  <thead>\n    <tr style=\"text-align: right;\">\n      <th></th>\n      <th>Age</th>\n      <th>Gender</th>\n      <th>Protein1</th>\n      <th>Protein2</th>\n      <th>Protein3</th>\n      <th>Protein4</th>\n      <th>Tumour_Stage</th>\n      <th>Histology</th>\n      <th>ER status</th>\n      <th>PR status</th>\n      <th>...</th>\n      <th>Surgery_type</th>\n      <th>Date_of_Surgery</th>\n      <th>Date_of_Last_Visit</th>\n      <th>Patient_Status</th>\n      <th>S_day</th>\n      <th>S_month</th>\n      <th>S_year</th>\n      <th>lv_day</th>\n      <th>lv_month</th>\n      <th>lv_year</th>\n    </tr>\n  </thead>\n  <tbody>\n    <tr>\n      <th>0</th>\n      <td>36.0</td>\n      <td>FEMALE</td>\n      <td>0.080353</td>\n      <td>0.42638</td>\n      <td>0.54715</td>\n      <td>0.273680</td>\n      <td>3.0</td>\n      <td>Infiltrating Ductal Carcinoma</td>\n      <td>Positive</td>\n      <td>Positive</td>\n      <td>...</td>\n      <td>Modified Radical Mastectomy</td>\n      <td>15-Jan-17</td>\n      <td>19-Jun-17</td>\n      <td>Alive</td>\n      <td>15</td>\n      <td>Jan</td>\n      <td>17</td>\n      <td>19</td>\n      <td>Jun</td>\n      <td>17</td>\n    </tr>\n    <tr>\n      <th>1</th>\n      <td>43.0</td>\n      <td>FEMALE</td>\n      <td>-0.420320</td>\n      <td>0.57807</td>\n      <td>0.61447</td>\n      <td>-0.031505</td>\n      <td>2.0</td>\n      <td>Mucinous Carcinoma</td>\n      <td>Positive</td>\n      <td>Positive</td>\n      <td>...</td>\n      <td>Lumpectomy</td>\n      <td>26-Apr-17</td>\n      <td>09-Nov-18</td>\n      <td>Dead</td>\n      <td>26</td>\n      <td>Apr</td>\n      <td>17</td>\n      <td>09</td>\n      <td>Nov</td>\n      <td>18</td>\n    </tr>\n    <tr>\n      <th>2</th>\n      <td>69.0</td>\n      <td>FEMALE</td>\n      <td>0.213980</td>\n      <td>1.31140</td>\n      <td>-0.32747</td>\n      <td>-0.234260</td>\n      <td>3.0</td>\n      <td>Infiltrating Ductal Carcinoma</td>\n      <td>Positive</td>\n      <td>Positive</td>\n      <td>...</td>\n      <td>Other</td>\n      <td>08-Sep-17</td>\n      <td>09-Jun-18</td>\n      <td>Alive</td>\n      <td>08</td>\n      <td>Sep</td>\n      <td>17</td>\n      <td>09</td>\n      <td>Jun</td>\n      <td>18</td>\n    </tr>\n    <tr>\n      <th>3</th>\n      <td>56.0</td>\n      <td>FEMALE</td>\n      <td>0.345090</td>\n      <td>-0.21147</td>\n      <td>-0.19304</td>\n      <td>0.124270</td>\n      <td>2.0</td>\n      <td>Infiltrating Ductal Carcinoma</td>\n      <td>Positive</td>\n      <td>Positive</td>\n      <td>...</td>\n      <td>Modified Radical Mastectomy</td>\n      <td>25-Jan-17</td>\n      <td>12-Jul-17</td>\n      <td>Alive</td>\n      <td>25</td>\n      <td>Jan</td>\n      <td>17</td>\n      <td>12</td>\n      <td>Jul</td>\n      <td>17</td>\n    </tr>\n    <tr>\n      <th>4</th>\n      <td>56.0</td>\n      <td>FEMALE</td>\n      <td>0.221550</td>\n      <td>1.90680</td>\n      <td>0.52045</td>\n      <td>-0.311990</td>\n      <td>2.0</td>\n      <td>Infiltrating Ductal Carcinoma</td>\n      <td>Positive</td>\n      <td>Positive</td>\n      <td>...</td>\n      <td>Other</td>\n      <td>06-May-17</td>\n      <td>27-Jun-19</td>\n      <td>Dead</td>\n      <td>06</td>\n      <td>May</td>\n      <td>17</td>\n      <td>27</td>\n      <td>Jun</td>\n      <td>19</td>\n    </tr>\n    <tr>\n      <th>...</th>\n      <td>...</td>\n      <td>...</td>\n      <td>...</td>\n      <td>...</td>\n      <td>...</td>\n      <td>...</td>\n      <td>...</td>\n      <td>...</td>\n      <td>...</td>\n      <td>...</td>\n      <td>...</td>\n      <td>...</td>\n      <td>...</td>\n      <td>...</td>\n      <td>...</td>\n      <td>...</td>\n      <td>...</td>\n      <td>...</td>\n      <td>...</td>\n      <td>...</td>\n      <td>...</td>\n    </tr>\n    <tr>\n      <th>265</th>\n      <td>NaN</td>\n      <td>NaN</td>\n      <td>NaN</td>\n      <td>NaN</td>\n      <td>NaN</td>\n      <td>NaN</td>\n      <td>NaN</td>\n      <td>NaN</td>\n      <td>NaN</td>\n      <td>NaN</td>\n      <td>...</td>\n      <td>NaN</td>\n      <td>NaN</td>\n      <td>NaN</td>\n      <td>NaN</td>\n      <td>15</td>\n      <td>May</td>\n      <td>19</td>\n      <td>26</td>\n      <td>Dec</td>\n      <td>19</td>\n    </tr>\n    <tr>\n      <th>283</th>\n      <td>NaN</td>\n      <td>NaN</td>\n      <td>NaN</td>\n      <td>NaN</td>\n      <td>NaN</td>\n      <td>NaN</td>\n      <td>NaN</td>\n      <td>NaN</td>\n      <td>NaN</td>\n      <td>NaN</td>\n      <td>...</td>\n      <td>NaN</td>\n      <td>NaN</td>\n      <td>NaN</td>\n      <td>NaN</td>\n      <td>24</td>\n      <td>Jul</td>\n      <td>19</td>\n      <td>05</td>\n      <td>Mar</td>\n      <td>20</td>\n    </tr>\n    <tr>\n      <th>285</th>\n      <td>NaN</td>\n      <td>NaN</td>\n      <td>NaN</td>\n      <td>NaN</td>\n      <td>NaN</td>\n      <td>NaN</td>\n      <td>NaN</td>\n      <td>NaN</td>\n      <td>NaN</td>\n      <td>NaN</td>\n      <td>...</td>\n      <td>NaN</td>\n      <td>NaN</td>\n      <td>NaN</td>\n      <td>NaN</td>\n      <td>24</td>\n      <td>Jul</td>\n      <td>19</td>\n      <td>07</td>\n      <td>Oct</td>\n      <td>19</td>\n    </tr>\n    <tr>\n      <th>286</th>\n      <td>NaN</td>\n      <td>NaN</td>\n      <td>NaN</td>\n      <td>NaN</td>\n      <td>NaN</td>\n      <td>NaN</td>\n      <td>NaN</td>\n      <td>NaN</td>\n      <td>NaN</td>\n      <td>NaN</td>\n      <td>...</td>\n      <td>NaN</td>\n      <td>NaN</td>\n      <td>NaN</td>\n      <td>NaN</td>\n      <td>03</td>\n      <td>Aug</td>\n      <td>19</td>\n      <td>16</td>\n      <td>Aug</td>\n      <td>20</td>\n    </tr>\n    <tr>\n      <th>305</th>\n      <td>NaN</td>\n      <td>NaN</td>\n      <td>NaN</td>\n      <td>NaN</td>\n      <td>NaN</td>\n      <td>NaN</td>\n      <td>NaN</td>\n      <td>NaN</td>\n      <td>NaN</td>\n      <td>NaN</td>\n      <td>...</td>\n      <td>NaN</td>\n      <td>NaN</td>\n      <td>NaN</td>\n      <td>NaN</td>\n      <td>12</td>\n      <td>Oct</td>\n      <td>19</td>\n      <td>07</td>\n      <td>Nov</td>\n      <td>20</td>\n    </tr>\n  </tbody>\n</table>\n<p>333 rows × 21 columns</p>\n</div>"
     },
     "execution_count": 26,
     "metadata": {},
     "output_type": "execute_result"
    }
   ],
   "source": [
    "dataset"
   ],
   "metadata": {
    "collapsed": false
   }
  },
  {
   "cell_type": "code",
   "execution_count": 27,
   "outputs": [],
   "source": [
    "dataset.dropna(inplace=True)"
   ],
   "metadata": {
    "collapsed": false
   }
  },
  {
   "cell_type": "code",
   "execution_count": 28,
   "outputs": [
    {
     "name": "stdout",
     "output_type": "stream",
     "text": [
      "<class 'pandas.core.frame.DataFrame'>\n",
      "Int64Index: 301 entries, 0 to 316\n",
      "Data columns (total 21 columns):\n",
      " #   Column              Non-Null Count  Dtype  \n",
      "---  ------              --------------  -----  \n",
      " 0   Age                 301 non-null    float64\n",
      " 1   Gender              301 non-null    object \n",
      " 2   Protein1            301 non-null    float64\n",
      " 3   Protein2            301 non-null    float64\n",
      " 4   Protein3            301 non-null    float64\n",
      " 5   Protein4            301 non-null    float64\n",
      " 6   Tumour_Stage        301 non-null    float64\n",
      " 7   Histology           301 non-null    object \n",
      " 8   ER status           301 non-null    object \n",
      " 9   PR status           301 non-null    object \n",
      " 10  HER2 status         301 non-null    object \n",
      " 11  Surgery_type        301 non-null    object \n",
      " 12  Date_of_Surgery     301 non-null    object \n",
      " 13  Date_of_Last_Visit  301 non-null    object \n",
      " 14  Patient_Status      301 non-null    object \n",
      " 15  S_day               301 non-null    object \n",
      " 16  S_month             301 non-null    object \n",
      " 17  S_year              301 non-null    object \n",
      " 18  lv_day              301 non-null    object \n",
      " 19  lv_month            301 non-null    object \n",
      " 20  lv_year             301 non-null    object \n",
      "dtypes: float64(6), object(15)\n",
      "memory usage: 51.7+ KB\n"
     ]
    }
   ],
   "source": [
    "dataset.info()"
   ],
   "metadata": {
    "collapsed": false
   }
  },
  {
   "cell_type": "code",
   "execution_count": 29,
   "outputs": [],
   "source": [
    "dataset.drop(['Date_of_Last_Visit','Date_of_Surgery'], inplace=True, axis=1)"
   ],
   "metadata": {
    "collapsed": false
   }
  },
  {
   "cell_type": "code",
   "execution_count": 30,
   "outputs": [
    {
     "data": {
      "text/plain": "      Age  Gender  Protein1  Protein2  Protein3  Protein4  Tumour_Stage  \\\n0    36.0  FEMALE  0.080353  0.426380  0.547150  0.273680           3.0   \n1    43.0  FEMALE -0.420320  0.578070  0.614470 -0.031505           2.0   \n2    69.0  FEMALE  0.213980  1.311400 -0.327470 -0.234260           3.0   \n3    56.0  FEMALE  0.345090 -0.211470 -0.193040  0.124270           2.0   \n4    56.0  FEMALE  0.221550  1.906800  0.520450 -0.311990           2.0   \n..    ...     ...       ...       ...       ...       ...           ...   \n312  66.0  FEMALE -1.344100  1.128000 -0.229350 -0.229930           2.0   \n313  65.0  FEMALE -0.091334  0.054757  0.034648 -0.588830           2.0   \n314  44.0  FEMALE  0.891850  0.444400  0.110200  0.156850           2.0   \n315  61.0  FEMALE -0.405920  2.751300 -0.595420  0.816390           1.0   \n316  54.0  FEMALE -1.231300 -0.767670  0.861600  0.239050           2.0   \n\n                          Histology ER status PR status HER2 status  \\\n0     Infiltrating Ductal Carcinoma  Positive  Positive    Negative   \n1                Mucinous Carcinoma  Positive  Positive    Negative   \n2     Infiltrating Ductal Carcinoma  Positive  Positive    Negative   \n3     Infiltrating Ductal Carcinoma  Positive  Positive    Negative   \n4     Infiltrating Ductal Carcinoma  Positive  Positive    Negative   \n..                              ...       ...       ...         ...   \n312   Infiltrating Ductal Carcinoma  Positive  Positive    Negative   \n313   Infiltrating Ductal Carcinoma  Positive  Positive    Negative   \n314   Infiltrating Ductal Carcinoma  Positive  Positive    Negative   \n315   Infiltrating Ductal Carcinoma  Positive  Positive    Negative   \n316  Infiltrating Lobular Carcinoma  Positive  Positive    Negative   \n\n                    Surgery_type Patient_Status S_day S_month S_year lv_day  \\\n0    Modified Radical Mastectomy          Alive    15     Jan     17     19   \n1                     Lumpectomy           Dead    26     Apr     17     09   \n2                          Other          Alive    08     Sep     17     09   \n3    Modified Radical Mastectomy          Alive    25     Jan     17     12   \n4                          Other           Dead    06     May     17     27   \n..                           ...            ...   ...     ...    ...    ...   \n312                        Other          Alive    11     Nov     19     09   \n313                        Other          Alive    01     Nov     19     04   \n314  Modified Radical Mastectomy          Alive    11     Nov     19     18   \n315                   Lumpectomy          Alive    21     Nov     19     19   \n316  Modified Radical Mastectomy          Alive    11     Nov     19     05   \n\n    lv_month lv_year  \n0        Jun      17  \n1        Nov      18  \n2        Jun      18  \n3        Jul      17  \n4        Jun      19  \n..       ...     ...  \n312      Feb      20  \n313      Mar      20  \n314      Jan      21  \n315      Feb      21  \n316      Jan      21  \n\n[301 rows x 19 columns]",
      "text/html": "<div>\n<style scoped>\n    .dataframe tbody tr th:only-of-type {\n        vertical-align: middle;\n    }\n\n    .dataframe tbody tr th {\n        vertical-align: top;\n    }\n\n    .dataframe thead th {\n        text-align: right;\n    }\n</style>\n<table border=\"1\" class=\"dataframe\">\n  <thead>\n    <tr style=\"text-align: right;\">\n      <th></th>\n      <th>Age</th>\n      <th>Gender</th>\n      <th>Protein1</th>\n      <th>Protein2</th>\n      <th>Protein3</th>\n      <th>Protein4</th>\n      <th>Tumour_Stage</th>\n      <th>Histology</th>\n      <th>ER status</th>\n      <th>PR status</th>\n      <th>HER2 status</th>\n      <th>Surgery_type</th>\n      <th>Patient_Status</th>\n      <th>S_day</th>\n      <th>S_month</th>\n      <th>S_year</th>\n      <th>lv_day</th>\n      <th>lv_month</th>\n      <th>lv_year</th>\n    </tr>\n  </thead>\n  <tbody>\n    <tr>\n      <th>0</th>\n      <td>36.0</td>\n      <td>FEMALE</td>\n      <td>0.080353</td>\n      <td>0.426380</td>\n      <td>0.547150</td>\n      <td>0.273680</td>\n      <td>3.0</td>\n      <td>Infiltrating Ductal Carcinoma</td>\n      <td>Positive</td>\n      <td>Positive</td>\n      <td>Negative</td>\n      <td>Modified Radical Mastectomy</td>\n      <td>Alive</td>\n      <td>15</td>\n      <td>Jan</td>\n      <td>17</td>\n      <td>19</td>\n      <td>Jun</td>\n      <td>17</td>\n    </tr>\n    <tr>\n      <th>1</th>\n      <td>43.0</td>\n      <td>FEMALE</td>\n      <td>-0.420320</td>\n      <td>0.578070</td>\n      <td>0.614470</td>\n      <td>-0.031505</td>\n      <td>2.0</td>\n      <td>Mucinous Carcinoma</td>\n      <td>Positive</td>\n      <td>Positive</td>\n      <td>Negative</td>\n      <td>Lumpectomy</td>\n      <td>Dead</td>\n      <td>26</td>\n      <td>Apr</td>\n      <td>17</td>\n      <td>09</td>\n      <td>Nov</td>\n      <td>18</td>\n    </tr>\n    <tr>\n      <th>2</th>\n      <td>69.0</td>\n      <td>FEMALE</td>\n      <td>0.213980</td>\n      <td>1.311400</td>\n      <td>-0.327470</td>\n      <td>-0.234260</td>\n      <td>3.0</td>\n      <td>Infiltrating Ductal Carcinoma</td>\n      <td>Positive</td>\n      <td>Positive</td>\n      <td>Negative</td>\n      <td>Other</td>\n      <td>Alive</td>\n      <td>08</td>\n      <td>Sep</td>\n      <td>17</td>\n      <td>09</td>\n      <td>Jun</td>\n      <td>18</td>\n    </tr>\n    <tr>\n      <th>3</th>\n      <td>56.0</td>\n      <td>FEMALE</td>\n      <td>0.345090</td>\n      <td>-0.211470</td>\n      <td>-0.193040</td>\n      <td>0.124270</td>\n      <td>2.0</td>\n      <td>Infiltrating Ductal Carcinoma</td>\n      <td>Positive</td>\n      <td>Positive</td>\n      <td>Negative</td>\n      <td>Modified Radical Mastectomy</td>\n      <td>Alive</td>\n      <td>25</td>\n      <td>Jan</td>\n      <td>17</td>\n      <td>12</td>\n      <td>Jul</td>\n      <td>17</td>\n    </tr>\n    <tr>\n      <th>4</th>\n      <td>56.0</td>\n      <td>FEMALE</td>\n      <td>0.221550</td>\n      <td>1.906800</td>\n      <td>0.520450</td>\n      <td>-0.311990</td>\n      <td>2.0</td>\n      <td>Infiltrating Ductal Carcinoma</td>\n      <td>Positive</td>\n      <td>Positive</td>\n      <td>Negative</td>\n      <td>Other</td>\n      <td>Dead</td>\n      <td>06</td>\n      <td>May</td>\n      <td>17</td>\n      <td>27</td>\n      <td>Jun</td>\n      <td>19</td>\n    </tr>\n    <tr>\n      <th>...</th>\n      <td>...</td>\n      <td>...</td>\n      <td>...</td>\n      <td>...</td>\n      <td>...</td>\n      <td>...</td>\n      <td>...</td>\n      <td>...</td>\n      <td>...</td>\n      <td>...</td>\n      <td>...</td>\n      <td>...</td>\n      <td>...</td>\n      <td>...</td>\n      <td>...</td>\n      <td>...</td>\n      <td>...</td>\n      <td>...</td>\n      <td>...</td>\n    </tr>\n    <tr>\n      <th>312</th>\n      <td>66.0</td>\n      <td>FEMALE</td>\n      <td>-1.344100</td>\n      <td>1.128000</td>\n      <td>-0.229350</td>\n      <td>-0.229930</td>\n      <td>2.0</td>\n      <td>Infiltrating Ductal Carcinoma</td>\n      <td>Positive</td>\n      <td>Positive</td>\n      <td>Negative</td>\n      <td>Other</td>\n      <td>Alive</td>\n      <td>11</td>\n      <td>Nov</td>\n      <td>19</td>\n      <td>09</td>\n      <td>Feb</td>\n      <td>20</td>\n    </tr>\n    <tr>\n      <th>313</th>\n      <td>65.0</td>\n      <td>FEMALE</td>\n      <td>-0.091334</td>\n      <td>0.054757</td>\n      <td>0.034648</td>\n      <td>-0.588830</td>\n      <td>2.0</td>\n      <td>Infiltrating Ductal Carcinoma</td>\n      <td>Positive</td>\n      <td>Positive</td>\n      <td>Negative</td>\n      <td>Other</td>\n      <td>Alive</td>\n      <td>01</td>\n      <td>Nov</td>\n      <td>19</td>\n      <td>04</td>\n      <td>Mar</td>\n      <td>20</td>\n    </tr>\n    <tr>\n      <th>314</th>\n      <td>44.0</td>\n      <td>FEMALE</td>\n      <td>0.891850</td>\n      <td>0.444400</td>\n      <td>0.110200</td>\n      <td>0.156850</td>\n      <td>2.0</td>\n      <td>Infiltrating Ductal Carcinoma</td>\n      <td>Positive</td>\n      <td>Positive</td>\n      <td>Negative</td>\n      <td>Modified Radical Mastectomy</td>\n      <td>Alive</td>\n      <td>11</td>\n      <td>Nov</td>\n      <td>19</td>\n      <td>18</td>\n      <td>Jan</td>\n      <td>21</td>\n    </tr>\n    <tr>\n      <th>315</th>\n      <td>61.0</td>\n      <td>FEMALE</td>\n      <td>-0.405920</td>\n      <td>2.751300</td>\n      <td>-0.595420</td>\n      <td>0.816390</td>\n      <td>1.0</td>\n      <td>Infiltrating Ductal Carcinoma</td>\n      <td>Positive</td>\n      <td>Positive</td>\n      <td>Negative</td>\n      <td>Lumpectomy</td>\n      <td>Alive</td>\n      <td>21</td>\n      <td>Nov</td>\n      <td>19</td>\n      <td>19</td>\n      <td>Feb</td>\n      <td>21</td>\n    </tr>\n    <tr>\n      <th>316</th>\n      <td>54.0</td>\n      <td>FEMALE</td>\n      <td>-1.231300</td>\n      <td>-0.767670</td>\n      <td>0.861600</td>\n      <td>0.239050</td>\n      <td>2.0</td>\n      <td>Infiltrating Lobular Carcinoma</td>\n      <td>Positive</td>\n      <td>Positive</td>\n      <td>Negative</td>\n      <td>Modified Radical Mastectomy</td>\n      <td>Alive</td>\n      <td>11</td>\n      <td>Nov</td>\n      <td>19</td>\n      <td>05</td>\n      <td>Jan</td>\n      <td>21</td>\n    </tr>\n  </tbody>\n</table>\n<p>301 rows × 19 columns</p>\n</div>"
     },
     "execution_count": 30,
     "metadata": {},
     "output_type": "execute_result"
    }
   ],
   "source": [
    "dataset"
   ],
   "metadata": {
    "collapsed": false
   }
  },
  {
   "cell_type": "code",
   "execution_count": 31,
   "outputs": [
    {
     "name": "stdout",
     "output_type": "stream",
     "text": [
      "<class 'pandas.core.frame.DataFrame'>\n",
      "Int64Index: 301 entries, 0 to 316\n",
      "Data columns (total 19 columns):\n",
      " #   Column          Non-Null Count  Dtype  \n",
      "---  ------          --------------  -----  \n",
      " 0   Age             301 non-null    float64\n",
      " 1   Gender          301 non-null    object \n",
      " 2   Protein1        301 non-null    float64\n",
      " 3   Protein2        301 non-null    float64\n",
      " 4   Protein3        301 non-null    float64\n",
      " 5   Protein4        301 non-null    float64\n",
      " 6   Tumour_Stage    301 non-null    float64\n",
      " 7   Histology       301 non-null    object \n",
      " 8   ER status       301 non-null    object \n",
      " 9   PR status       301 non-null    object \n",
      " 10  HER2 status     301 non-null    object \n",
      " 11  Surgery_type    301 non-null    object \n",
      " 12  Patient_Status  301 non-null    object \n",
      " 13  S_day           301 non-null    object \n",
      " 14  S_month         301 non-null    object \n",
      " 15  S_year          301 non-null    object \n",
      " 16  lv_day          301 non-null    object \n",
      " 17  lv_month        301 non-null    object \n",
      " 18  lv_year         301 non-null    object \n",
      "dtypes: float64(6), object(13)\n",
      "memory usage: 47.0+ KB\n"
     ]
    }
   ],
   "source": [
    "dataset.info()"
   ],
   "metadata": {
    "collapsed": false
   }
  },
  {
   "cell_type": "code",
   "execution_count": 32,
   "outputs": [],
   "source": [
    "month = {'01':'Jan',\n",
    "\t\t'02':'Feb',\n",
    "\t\t'03':'Mar',\n",
    "\t\t'04':'Apr',\n",
    "\t\t'05':'May',\n",
    "\t\t'06':'Jun',\n",
    "\t\t'07':'Jul',\n",
    "\t\t'08':'Aug',\n",
    "\t\t'09':'Sep',\n",
    "\t\t'10':'Oct',\n",
    "\t\t'11':'Nov',\n",
    "\t\t'12':'Dec'}"
   ],
   "metadata": {
    "collapsed": false
   }
  },
  {
   "cell_type": "code",
   "execution_count": 33,
   "outputs": [],
   "source": [
    "months = {v: k for k, v in month.items()}"
   ],
   "metadata": {
    "collapsed": false
   }
  },
  {
   "cell_type": "code",
   "execution_count": 34,
   "outputs": [
    {
     "data": {
      "text/plain": "{'Jan': '01',\n 'Feb': '02',\n 'Mar': '03',\n 'Apr': '04',\n 'May': '05',\n 'Jun': '06',\n 'Jul': '07',\n 'Aug': '08',\n 'Sep': '09',\n 'Oct': '10',\n 'Nov': '11',\n 'Dec': '12'}"
     },
     "execution_count": 34,
     "metadata": {},
     "output_type": "execute_result"
    }
   ],
   "source": [
    "months"
   ],
   "metadata": {
    "collapsed": false
   }
  },
  {
   "cell_type": "code",
   "execution_count": 35,
   "outputs": [],
   "source": [
    "dataset.S_month.replace(months, inplace=True)\n",
    "dataset.lv_month.replace(months, inplace=True)"
   ],
   "metadata": {
    "collapsed": false
   }
  },
  {
   "cell_type": "code",
   "execution_count": 36,
   "outputs": [
    {
     "data": {
      "text/plain": "      Age  Gender  Protein1  Protein2  Protein3  Protein4  Tumour_Stage  \\\n0    36.0  FEMALE  0.080353  0.426380  0.547150  0.273680           3.0   \n1    43.0  FEMALE -0.420320  0.578070  0.614470 -0.031505           2.0   \n2    69.0  FEMALE  0.213980  1.311400 -0.327470 -0.234260           3.0   \n3    56.0  FEMALE  0.345090 -0.211470 -0.193040  0.124270           2.0   \n4    56.0  FEMALE  0.221550  1.906800  0.520450 -0.311990           2.0   \n..    ...     ...       ...       ...       ...       ...           ...   \n312  66.0  FEMALE -1.344100  1.128000 -0.229350 -0.229930           2.0   \n313  65.0  FEMALE -0.091334  0.054757  0.034648 -0.588830           2.0   \n314  44.0  FEMALE  0.891850  0.444400  0.110200  0.156850           2.0   \n315  61.0  FEMALE -0.405920  2.751300 -0.595420  0.816390           1.0   \n316  54.0  FEMALE -1.231300 -0.767670  0.861600  0.239050           2.0   \n\n                          Histology ER status PR status HER2 status  \\\n0     Infiltrating Ductal Carcinoma  Positive  Positive    Negative   \n1                Mucinous Carcinoma  Positive  Positive    Negative   \n2     Infiltrating Ductal Carcinoma  Positive  Positive    Negative   \n3     Infiltrating Ductal Carcinoma  Positive  Positive    Negative   \n4     Infiltrating Ductal Carcinoma  Positive  Positive    Negative   \n..                              ...       ...       ...         ...   \n312   Infiltrating Ductal Carcinoma  Positive  Positive    Negative   \n313   Infiltrating Ductal Carcinoma  Positive  Positive    Negative   \n314   Infiltrating Ductal Carcinoma  Positive  Positive    Negative   \n315   Infiltrating Ductal Carcinoma  Positive  Positive    Negative   \n316  Infiltrating Lobular Carcinoma  Positive  Positive    Negative   \n\n                    Surgery_type Patient_Status S_day S_month S_year lv_day  \\\n0    Modified Radical Mastectomy          Alive    15      01     17     19   \n1                     Lumpectomy           Dead    26      04     17     09   \n2                          Other          Alive    08      09     17     09   \n3    Modified Radical Mastectomy          Alive    25      01     17     12   \n4                          Other           Dead    06      05     17     27   \n..                           ...            ...   ...     ...    ...    ...   \n312                        Other          Alive    11      11     19     09   \n313                        Other          Alive    01      11     19     04   \n314  Modified Radical Mastectomy          Alive    11      11     19     18   \n315                   Lumpectomy          Alive    21      11     19     19   \n316  Modified Radical Mastectomy          Alive    11      11     19     05   \n\n    lv_month lv_year  \n0         06      17  \n1         11      18  \n2         06      18  \n3         07      17  \n4         06      19  \n..       ...     ...  \n312       02      20  \n313       03      20  \n314       01      21  \n315       02      21  \n316       01      21  \n\n[301 rows x 19 columns]",
      "text/html": "<div>\n<style scoped>\n    .dataframe tbody tr th:only-of-type {\n        vertical-align: middle;\n    }\n\n    .dataframe tbody tr th {\n        vertical-align: top;\n    }\n\n    .dataframe thead th {\n        text-align: right;\n    }\n</style>\n<table border=\"1\" class=\"dataframe\">\n  <thead>\n    <tr style=\"text-align: right;\">\n      <th></th>\n      <th>Age</th>\n      <th>Gender</th>\n      <th>Protein1</th>\n      <th>Protein2</th>\n      <th>Protein3</th>\n      <th>Protein4</th>\n      <th>Tumour_Stage</th>\n      <th>Histology</th>\n      <th>ER status</th>\n      <th>PR status</th>\n      <th>HER2 status</th>\n      <th>Surgery_type</th>\n      <th>Patient_Status</th>\n      <th>S_day</th>\n      <th>S_month</th>\n      <th>S_year</th>\n      <th>lv_day</th>\n      <th>lv_month</th>\n      <th>lv_year</th>\n    </tr>\n  </thead>\n  <tbody>\n    <tr>\n      <th>0</th>\n      <td>36.0</td>\n      <td>FEMALE</td>\n      <td>0.080353</td>\n      <td>0.426380</td>\n      <td>0.547150</td>\n      <td>0.273680</td>\n      <td>3.0</td>\n      <td>Infiltrating Ductal Carcinoma</td>\n      <td>Positive</td>\n      <td>Positive</td>\n      <td>Negative</td>\n      <td>Modified Radical Mastectomy</td>\n      <td>Alive</td>\n      <td>15</td>\n      <td>01</td>\n      <td>17</td>\n      <td>19</td>\n      <td>06</td>\n      <td>17</td>\n    </tr>\n    <tr>\n      <th>1</th>\n      <td>43.0</td>\n      <td>FEMALE</td>\n      <td>-0.420320</td>\n      <td>0.578070</td>\n      <td>0.614470</td>\n      <td>-0.031505</td>\n      <td>2.0</td>\n      <td>Mucinous Carcinoma</td>\n      <td>Positive</td>\n      <td>Positive</td>\n      <td>Negative</td>\n      <td>Lumpectomy</td>\n      <td>Dead</td>\n      <td>26</td>\n      <td>04</td>\n      <td>17</td>\n      <td>09</td>\n      <td>11</td>\n      <td>18</td>\n    </tr>\n    <tr>\n      <th>2</th>\n      <td>69.0</td>\n      <td>FEMALE</td>\n      <td>0.213980</td>\n      <td>1.311400</td>\n      <td>-0.327470</td>\n      <td>-0.234260</td>\n      <td>3.0</td>\n      <td>Infiltrating Ductal Carcinoma</td>\n      <td>Positive</td>\n      <td>Positive</td>\n      <td>Negative</td>\n      <td>Other</td>\n      <td>Alive</td>\n      <td>08</td>\n      <td>09</td>\n      <td>17</td>\n      <td>09</td>\n      <td>06</td>\n      <td>18</td>\n    </tr>\n    <tr>\n      <th>3</th>\n      <td>56.0</td>\n      <td>FEMALE</td>\n      <td>0.345090</td>\n      <td>-0.211470</td>\n      <td>-0.193040</td>\n      <td>0.124270</td>\n      <td>2.0</td>\n      <td>Infiltrating Ductal Carcinoma</td>\n      <td>Positive</td>\n      <td>Positive</td>\n      <td>Negative</td>\n      <td>Modified Radical Mastectomy</td>\n      <td>Alive</td>\n      <td>25</td>\n      <td>01</td>\n      <td>17</td>\n      <td>12</td>\n      <td>07</td>\n      <td>17</td>\n    </tr>\n    <tr>\n      <th>4</th>\n      <td>56.0</td>\n      <td>FEMALE</td>\n      <td>0.221550</td>\n      <td>1.906800</td>\n      <td>0.520450</td>\n      <td>-0.311990</td>\n      <td>2.0</td>\n      <td>Infiltrating Ductal Carcinoma</td>\n      <td>Positive</td>\n      <td>Positive</td>\n      <td>Negative</td>\n      <td>Other</td>\n      <td>Dead</td>\n      <td>06</td>\n      <td>05</td>\n      <td>17</td>\n      <td>27</td>\n      <td>06</td>\n      <td>19</td>\n    </tr>\n    <tr>\n      <th>...</th>\n      <td>...</td>\n      <td>...</td>\n      <td>...</td>\n      <td>...</td>\n      <td>...</td>\n      <td>...</td>\n      <td>...</td>\n      <td>...</td>\n      <td>...</td>\n      <td>...</td>\n      <td>...</td>\n      <td>...</td>\n      <td>...</td>\n      <td>...</td>\n      <td>...</td>\n      <td>...</td>\n      <td>...</td>\n      <td>...</td>\n      <td>...</td>\n    </tr>\n    <tr>\n      <th>312</th>\n      <td>66.0</td>\n      <td>FEMALE</td>\n      <td>-1.344100</td>\n      <td>1.128000</td>\n      <td>-0.229350</td>\n      <td>-0.229930</td>\n      <td>2.0</td>\n      <td>Infiltrating Ductal Carcinoma</td>\n      <td>Positive</td>\n      <td>Positive</td>\n      <td>Negative</td>\n      <td>Other</td>\n      <td>Alive</td>\n      <td>11</td>\n      <td>11</td>\n      <td>19</td>\n      <td>09</td>\n      <td>02</td>\n      <td>20</td>\n    </tr>\n    <tr>\n      <th>313</th>\n      <td>65.0</td>\n      <td>FEMALE</td>\n      <td>-0.091334</td>\n      <td>0.054757</td>\n      <td>0.034648</td>\n      <td>-0.588830</td>\n      <td>2.0</td>\n      <td>Infiltrating Ductal Carcinoma</td>\n      <td>Positive</td>\n      <td>Positive</td>\n      <td>Negative</td>\n      <td>Other</td>\n      <td>Alive</td>\n      <td>01</td>\n      <td>11</td>\n      <td>19</td>\n      <td>04</td>\n      <td>03</td>\n      <td>20</td>\n    </tr>\n    <tr>\n      <th>314</th>\n      <td>44.0</td>\n      <td>FEMALE</td>\n      <td>0.891850</td>\n      <td>0.444400</td>\n      <td>0.110200</td>\n      <td>0.156850</td>\n      <td>2.0</td>\n      <td>Infiltrating Ductal Carcinoma</td>\n      <td>Positive</td>\n      <td>Positive</td>\n      <td>Negative</td>\n      <td>Modified Radical Mastectomy</td>\n      <td>Alive</td>\n      <td>11</td>\n      <td>11</td>\n      <td>19</td>\n      <td>18</td>\n      <td>01</td>\n      <td>21</td>\n    </tr>\n    <tr>\n      <th>315</th>\n      <td>61.0</td>\n      <td>FEMALE</td>\n      <td>-0.405920</td>\n      <td>2.751300</td>\n      <td>-0.595420</td>\n      <td>0.816390</td>\n      <td>1.0</td>\n      <td>Infiltrating Ductal Carcinoma</td>\n      <td>Positive</td>\n      <td>Positive</td>\n      <td>Negative</td>\n      <td>Lumpectomy</td>\n      <td>Alive</td>\n      <td>21</td>\n      <td>11</td>\n      <td>19</td>\n      <td>19</td>\n      <td>02</td>\n      <td>21</td>\n    </tr>\n    <tr>\n      <th>316</th>\n      <td>54.0</td>\n      <td>FEMALE</td>\n      <td>-1.231300</td>\n      <td>-0.767670</td>\n      <td>0.861600</td>\n      <td>0.239050</td>\n      <td>2.0</td>\n      <td>Infiltrating Lobular Carcinoma</td>\n      <td>Positive</td>\n      <td>Positive</td>\n      <td>Negative</td>\n      <td>Modified Radical Mastectomy</td>\n      <td>Alive</td>\n      <td>11</td>\n      <td>11</td>\n      <td>19</td>\n      <td>05</td>\n      <td>01</td>\n      <td>21</td>\n    </tr>\n  </tbody>\n</table>\n<p>301 rows × 19 columns</p>\n</div>"
     },
     "execution_count": 36,
     "metadata": {},
     "output_type": "execute_result"
    }
   ],
   "source": [
    "dataset"
   ],
   "metadata": {
    "collapsed": false
   }
  },
  {
   "cell_type": "code",
   "execution_count": 37,
   "outputs": [
    {
     "name": "stdout",
     "output_type": "stream",
     "text": [
      "<class 'pandas.core.frame.DataFrame'>\n",
      "Int64Index: 301 entries, 0 to 316\n",
      "Data columns (total 19 columns):\n",
      " #   Column          Non-Null Count  Dtype  \n",
      "---  ------          --------------  -----  \n",
      " 0   Age             301 non-null    float64\n",
      " 1   Gender          301 non-null    object \n",
      " 2   Protein1        301 non-null    float64\n",
      " 3   Protein2        301 non-null    float64\n",
      " 4   Protein3        301 non-null    float64\n",
      " 5   Protein4        301 non-null    float64\n",
      " 6   Tumour_Stage    301 non-null    float64\n",
      " 7   Histology       301 non-null    object \n",
      " 8   ER status       301 non-null    object \n",
      " 9   PR status       301 non-null    object \n",
      " 10  HER2 status     301 non-null    object \n",
      " 11  Surgery_type    301 non-null    object \n",
      " 12  Patient_Status  301 non-null    object \n",
      " 13  S_day           301 non-null    object \n",
      " 14  S_month         301 non-null    object \n",
      " 15  S_year          301 non-null    object \n",
      " 16  lv_day          301 non-null    object \n",
      " 17  lv_month        301 non-null    object \n",
      " 18  lv_year         301 non-null    object \n",
      "dtypes: float64(6), object(13)\n",
      "memory usage: 47.0+ KB\n"
     ]
    }
   ],
   "source": [
    "dataset.info()"
   ],
   "metadata": {
    "collapsed": false
   }
  },
  {
   "cell_type": "code",
   "execution_count": 38,
   "outputs": [],
   "source": [
    "dataset[['S_day', 'S_month', 'S_year', 'lv_day', 'lv_month', 'lv_year']] = dataset[\n",
    "\t['S_day', 'S_month', 'S_year', 'lv_day', 'lv_month', 'lv_year']].apply(pd.to_numeric)"
   ],
   "metadata": {
    "collapsed": false
   }
  },
  {
   "cell_type": "code",
   "execution_count": 39,
   "outputs": [
    {
     "name": "stdout",
     "output_type": "stream",
     "text": [
      "<class 'pandas.core.frame.DataFrame'>\n",
      "Int64Index: 301 entries, 0 to 316\n",
      "Data columns (total 19 columns):\n",
      " #   Column          Non-Null Count  Dtype  \n",
      "---  ------          --------------  -----  \n",
      " 0   Age             301 non-null    float64\n",
      " 1   Gender          301 non-null    object \n",
      " 2   Protein1        301 non-null    float64\n",
      " 3   Protein2        301 non-null    float64\n",
      " 4   Protein3        301 non-null    float64\n",
      " 5   Protein4        301 non-null    float64\n",
      " 6   Tumour_Stage    301 non-null    float64\n",
      " 7   Histology       301 non-null    object \n",
      " 8   ER status       301 non-null    object \n",
      " 9   PR status       301 non-null    object \n",
      " 10  HER2 status     301 non-null    object \n",
      " 11  Surgery_type    301 non-null    object \n",
      " 12  Patient_Status  301 non-null    object \n",
      " 13  S_day           301 non-null    int64  \n",
      " 14  S_month         301 non-null    int64  \n",
      " 15  S_year          301 non-null    int64  \n",
      " 16  lv_day          301 non-null    int64  \n",
      " 17  lv_month        301 non-null    int64  \n",
      " 18  lv_year         301 non-null    int64  \n",
      "dtypes: float64(6), int64(6), object(7)\n",
      "memory usage: 47.0+ KB\n"
     ]
    }
   ],
   "source": [
    "dataset.info()"
   ],
   "metadata": {
    "collapsed": false
   }
  },
  {
   "cell_type": "code",
   "execution_count": 40,
   "outputs": [],
   "source": [
    "from sklearn.preprocessing import LabelEncoder\n",
    "le = LabelEncoder()"
   ],
   "metadata": {
    "collapsed": false
   }
  },
  {
   "cell_type": "code",
   "execution_count": 41,
   "outputs": [],
   "source": [
    "for col in dataset.columns:\n",
    "    if dataset[col].dtype == 'object':\n",
    "        dataset[col] = le.fit_transform(dataset[col])"
   ],
   "metadata": {
    "collapsed": false
   }
  },
  {
   "cell_type": "code",
   "execution_count": 42,
   "outputs": [
    {
     "data": {
      "text/plain": "      Age  Gender  Protein1  Protein2  Protein3  Protein4  Tumour_Stage  \\\n0    36.0       0  0.080353  0.426380  0.547150  0.273680           3.0   \n1    43.0       0 -0.420320  0.578070  0.614470 -0.031505           2.0   \n2    69.0       0  0.213980  1.311400 -0.327470 -0.234260           3.0   \n3    56.0       0  0.345090 -0.211470 -0.193040  0.124270           2.0   \n4    56.0       0  0.221550  1.906800  0.520450 -0.311990           2.0   \n..    ...     ...       ...       ...       ...       ...           ...   \n312  66.0       0 -1.344100  1.128000 -0.229350 -0.229930           2.0   \n313  65.0       0 -0.091334  0.054757  0.034648 -0.588830           2.0   \n314  44.0       0  0.891850  0.444400  0.110200  0.156850           2.0   \n315  61.0       0 -0.405920  2.751300 -0.595420  0.816390           1.0   \n316  54.0       0 -1.231300 -0.767670  0.861600  0.239050           2.0   \n\n     Histology  ER status  PR status  HER2 status  Surgery_type  \\\n0            0          0          0            0             1   \n1            2          0          0            0             0   \n2            0          0          0            0             2   \n3            0          0          0            0             1   \n4            0          0          0            0             2   \n..         ...        ...        ...          ...           ...   \n312          0          0          0            0             2   \n313          0          0          0            0             2   \n314          0          0          0            0             1   \n315          0          0          0            0             0   \n316          1          0          0            0             1   \n\n     Patient_Status  S_day  S_month  S_year  lv_day  lv_month  lv_year  \n0                 0     15        1      17      19         6       17  \n1                 1     26        4      17       9        11       18  \n2                 0      8        9      17       9         6       18  \n3                 0     25        1      17      12         7       17  \n4                 1      6        5      17      27         6       19  \n..              ...    ...      ...     ...     ...       ...      ...  \n312               0     11       11      19       9         2       20  \n313               0      1       11      19       4         3       20  \n314               0     11       11      19      18         1       21  \n315               0     21       11      19      19         2       21  \n316               0     11       11      19       5         1       21  \n\n[301 rows x 19 columns]",
      "text/html": "<div>\n<style scoped>\n    .dataframe tbody tr th:only-of-type {\n        vertical-align: middle;\n    }\n\n    .dataframe tbody tr th {\n        vertical-align: top;\n    }\n\n    .dataframe thead th {\n        text-align: right;\n    }\n</style>\n<table border=\"1\" class=\"dataframe\">\n  <thead>\n    <tr style=\"text-align: right;\">\n      <th></th>\n      <th>Age</th>\n      <th>Gender</th>\n      <th>Protein1</th>\n      <th>Protein2</th>\n      <th>Protein3</th>\n      <th>Protein4</th>\n      <th>Tumour_Stage</th>\n      <th>Histology</th>\n      <th>ER status</th>\n      <th>PR status</th>\n      <th>HER2 status</th>\n      <th>Surgery_type</th>\n      <th>Patient_Status</th>\n      <th>S_day</th>\n      <th>S_month</th>\n      <th>S_year</th>\n      <th>lv_day</th>\n      <th>lv_month</th>\n      <th>lv_year</th>\n    </tr>\n  </thead>\n  <tbody>\n    <tr>\n      <th>0</th>\n      <td>36.0</td>\n      <td>0</td>\n      <td>0.080353</td>\n      <td>0.426380</td>\n      <td>0.547150</td>\n      <td>0.273680</td>\n      <td>3.0</td>\n      <td>0</td>\n      <td>0</td>\n      <td>0</td>\n      <td>0</td>\n      <td>1</td>\n      <td>0</td>\n      <td>15</td>\n      <td>1</td>\n      <td>17</td>\n      <td>19</td>\n      <td>6</td>\n      <td>17</td>\n    </tr>\n    <tr>\n      <th>1</th>\n      <td>43.0</td>\n      <td>0</td>\n      <td>-0.420320</td>\n      <td>0.578070</td>\n      <td>0.614470</td>\n      <td>-0.031505</td>\n      <td>2.0</td>\n      <td>2</td>\n      <td>0</td>\n      <td>0</td>\n      <td>0</td>\n      <td>0</td>\n      <td>1</td>\n      <td>26</td>\n      <td>4</td>\n      <td>17</td>\n      <td>9</td>\n      <td>11</td>\n      <td>18</td>\n    </tr>\n    <tr>\n      <th>2</th>\n      <td>69.0</td>\n      <td>0</td>\n      <td>0.213980</td>\n      <td>1.311400</td>\n      <td>-0.327470</td>\n      <td>-0.234260</td>\n      <td>3.0</td>\n      <td>0</td>\n      <td>0</td>\n      <td>0</td>\n      <td>0</td>\n      <td>2</td>\n      <td>0</td>\n      <td>8</td>\n      <td>9</td>\n      <td>17</td>\n      <td>9</td>\n      <td>6</td>\n      <td>18</td>\n    </tr>\n    <tr>\n      <th>3</th>\n      <td>56.0</td>\n      <td>0</td>\n      <td>0.345090</td>\n      <td>-0.211470</td>\n      <td>-0.193040</td>\n      <td>0.124270</td>\n      <td>2.0</td>\n      <td>0</td>\n      <td>0</td>\n      <td>0</td>\n      <td>0</td>\n      <td>1</td>\n      <td>0</td>\n      <td>25</td>\n      <td>1</td>\n      <td>17</td>\n      <td>12</td>\n      <td>7</td>\n      <td>17</td>\n    </tr>\n    <tr>\n      <th>4</th>\n      <td>56.0</td>\n      <td>0</td>\n      <td>0.221550</td>\n      <td>1.906800</td>\n      <td>0.520450</td>\n      <td>-0.311990</td>\n      <td>2.0</td>\n      <td>0</td>\n      <td>0</td>\n      <td>0</td>\n      <td>0</td>\n      <td>2</td>\n      <td>1</td>\n      <td>6</td>\n      <td>5</td>\n      <td>17</td>\n      <td>27</td>\n      <td>6</td>\n      <td>19</td>\n    </tr>\n    <tr>\n      <th>...</th>\n      <td>...</td>\n      <td>...</td>\n      <td>...</td>\n      <td>...</td>\n      <td>...</td>\n      <td>...</td>\n      <td>...</td>\n      <td>...</td>\n      <td>...</td>\n      <td>...</td>\n      <td>...</td>\n      <td>...</td>\n      <td>...</td>\n      <td>...</td>\n      <td>...</td>\n      <td>...</td>\n      <td>...</td>\n      <td>...</td>\n      <td>...</td>\n    </tr>\n    <tr>\n      <th>312</th>\n      <td>66.0</td>\n      <td>0</td>\n      <td>-1.344100</td>\n      <td>1.128000</td>\n      <td>-0.229350</td>\n      <td>-0.229930</td>\n      <td>2.0</td>\n      <td>0</td>\n      <td>0</td>\n      <td>0</td>\n      <td>0</td>\n      <td>2</td>\n      <td>0</td>\n      <td>11</td>\n      <td>11</td>\n      <td>19</td>\n      <td>9</td>\n      <td>2</td>\n      <td>20</td>\n    </tr>\n    <tr>\n      <th>313</th>\n      <td>65.0</td>\n      <td>0</td>\n      <td>-0.091334</td>\n      <td>0.054757</td>\n      <td>0.034648</td>\n      <td>-0.588830</td>\n      <td>2.0</td>\n      <td>0</td>\n      <td>0</td>\n      <td>0</td>\n      <td>0</td>\n      <td>2</td>\n      <td>0</td>\n      <td>1</td>\n      <td>11</td>\n      <td>19</td>\n      <td>4</td>\n      <td>3</td>\n      <td>20</td>\n    </tr>\n    <tr>\n      <th>314</th>\n      <td>44.0</td>\n      <td>0</td>\n      <td>0.891850</td>\n      <td>0.444400</td>\n      <td>0.110200</td>\n      <td>0.156850</td>\n      <td>2.0</td>\n      <td>0</td>\n      <td>0</td>\n      <td>0</td>\n      <td>0</td>\n      <td>1</td>\n      <td>0</td>\n      <td>11</td>\n      <td>11</td>\n      <td>19</td>\n      <td>18</td>\n      <td>1</td>\n      <td>21</td>\n    </tr>\n    <tr>\n      <th>315</th>\n      <td>61.0</td>\n      <td>0</td>\n      <td>-0.405920</td>\n      <td>2.751300</td>\n      <td>-0.595420</td>\n      <td>0.816390</td>\n      <td>1.0</td>\n      <td>0</td>\n      <td>0</td>\n      <td>0</td>\n      <td>0</td>\n      <td>0</td>\n      <td>0</td>\n      <td>21</td>\n      <td>11</td>\n      <td>19</td>\n      <td>19</td>\n      <td>2</td>\n      <td>21</td>\n    </tr>\n    <tr>\n      <th>316</th>\n      <td>54.0</td>\n      <td>0</td>\n      <td>-1.231300</td>\n      <td>-0.767670</td>\n      <td>0.861600</td>\n      <td>0.239050</td>\n      <td>2.0</td>\n      <td>1</td>\n      <td>0</td>\n      <td>0</td>\n      <td>0</td>\n      <td>1</td>\n      <td>0</td>\n      <td>11</td>\n      <td>11</td>\n      <td>19</td>\n      <td>5</td>\n      <td>1</td>\n      <td>21</td>\n    </tr>\n  </tbody>\n</table>\n<p>301 rows × 19 columns</p>\n</div>"
     },
     "execution_count": 42,
     "metadata": {},
     "output_type": "execute_result"
    }
   ],
   "source": [
    "dataset"
   ],
   "metadata": {
    "collapsed": false
   }
  },
  {
   "cell_type": "code",
   "execution_count": 43,
   "outputs": [],
   "source": [
    "y = dataset.Patient_Status\n",
    "dataset.drop(['Patient_Status'], inplace=True, axis=1)\n",
    "X = dataset"
   ],
   "metadata": {
    "collapsed": false
   }
  },
  {
   "cell_type": "code",
   "execution_count": 48,
   "outputs": [],
   "source": [
    "X = X.values\n",
    "y = y.values"
   ],
   "metadata": {
    "collapsed": false
   }
  },
  {
   "cell_type": "code",
   "execution_count": 64,
   "outputs": [],
   "source": [
    "from sklearn.model_selection import train_test_split\n",
    "X_train,X_test, y_train, y_test = train_test_split(X,y,test_size=0.25)"
   ],
   "metadata": {
    "collapsed": false
   }
  },
  {
   "cell_type": "code",
   "execution_count": 65,
   "outputs": [],
   "source": [
    "from sklearn.preprocessing import StandardScaler\n",
    "sc = StandardScaler()\n",
    "X_train = sc.fit_transform(X_train)\n",
    "X_test = sc.transform(X_test)"
   ],
   "metadata": {
    "collapsed": false
   }
  },
  {
   "cell_type": "code",
   "execution_count": 66,
   "outputs": [
    {
     "data": {
      "text/plain": "LogisticRegression()"
     },
     "execution_count": 66,
     "metadata": {},
     "output_type": "execute_result"
    }
   ],
   "source": [
    "from sklearn.linear_model import LogisticRegression\n",
    "clf = LogisticRegression()\n",
    "clf.fit(X_train,y_train)"
   ],
   "metadata": {
    "collapsed": false
   }
  },
  {
   "cell_type": "code",
   "execution_count": 67,
   "outputs": [],
   "source": [
    "y_pred = clf.predict(X_test)"
   ],
   "metadata": {
    "collapsed": false
   }
  },
  {
   "cell_type": "code",
   "execution_count": 68,
   "outputs": [],
   "source": [
    "from sklearn.metrics import confusion_matrix, accuracy_score, precision_score, recall_score, f1_score, auc\n",
    "acc = accuracy_score(y_test,y_pred)\n",
    "confusion_matrix = confusion_matrix(y_test,y_pred)\n",
    "pre_score = precision_score(y_test,y_pred)\n",
    "recall = recall_score(y_test,y_pred)\n",
    "f1 = f1_score(y_test,y_pred)"
   ],
   "metadata": {
    "collapsed": false
   }
  },
  {
   "cell_type": "code",
   "execution_count": 69,
   "outputs": [
    {
     "data": {
      "text/plain": "array([[56,  3],\n       [16,  1]], dtype=int64)"
     },
     "execution_count": 69,
     "metadata": {},
     "output_type": "execute_result"
    }
   ],
   "source": [
    "confusion_matrix"
   ],
   "metadata": {
    "collapsed": false
   }
  },
  {
   "cell_type": "code",
   "execution_count": 72,
   "outputs": [
    {
     "data": {
      "text/plain": "0.058823529411764705"
     },
     "execution_count": 72,
     "metadata": {},
     "output_type": "execute_result"
    }
   ],
   "source": [
    "recall"
   ],
   "metadata": {
    "collapsed": false
   }
  },
  {
   "cell_type": "code",
   "execution_count": 73,
   "outputs": [
    {
     "data": {
      "text/plain": "0.25"
     },
     "execution_count": 73,
     "metadata": {},
     "output_type": "execute_result"
    }
   ],
   "source": [
    "pre_score"
   ],
   "metadata": {
    "collapsed": false
   }
  },
  {
   "cell_type": "code",
   "execution_count": 74,
   "outputs": [
    {
     "data": {
      "text/plain": "0.75"
     },
     "execution_count": 74,
     "metadata": {},
     "output_type": "execute_result"
    }
   ],
   "source": [
    "acc"
   ],
   "metadata": {
    "collapsed": false
   }
  },
  {
   "cell_type": "code",
   "execution_count": 75,
   "outputs": [
    {
     "data": {
      "text/plain": "0.09523809523809523"
     },
     "execution_count": 75,
     "metadata": {},
     "output_type": "execute_result"
    }
   ],
   "source": [
    "f1"
   ],
   "metadata": {
    "collapsed": false
   }
  }
 ],
 "metadata": {
  "kernelspec": {
   "display_name": "Python 3",
   "language": "python",
   "name": "python3"
  },
  "language_info": {
   "codemirror_mode": {
    "name": "ipython",
    "version": 2
   },
   "file_extension": ".py",
   "mimetype": "text/x-python",
   "name": "python",
   "nbconvert_exporter": "python",
   "pygments_lexer": "ipython2",
   "version": "2.7.6"
  }
 },
 "nbformat": 4,
 "nbformat_minor": 0
}
