{
 "cells": [
  {
   "cell_type": "code",
   "execution_count": 1,
   "outputs": [],
   "source": [
    "import numpy as np"
   ],
   "metadata": {
    "collapsed": false
   }
  },
  {
   "cell_type": "markdown",
   "source": [
    "# 1. Write a NumPy program to test whether none of the elements of a given array is zero."
   ],
   "metadata": {
    "collapsed": false
   }
  },
  {
   "cell_type": "code",
   "execution_count": 42,
   "metadata": {
    "collapsed": true
   },
   "outputs": [
    {
     "name": "stdout",
     "output_type": "stream",
     "text": [
      "There is no zero among us\n"
     ]
    }
   ],
   "source": [
    "zero_array = np.array([2, 1, 0, 3])\n",
    "non_zeros_array = np.array([1, 2, 3, 4])\n",
    "flag = True\n",
    "\n",
    "for ele in non_zeros_array:\n",
    "    if ele == 0 :\n",
    "        flag = True\n",
    "    else :\n",
    "        flag = False\n",
    "\n",
    "if flag :\n",
    "    print (\"There is a zero among us\")\n",
    "else :\n",
    "    print(\"There is no zero among us\")\n",
    "\n"
   ]
  },
  {
   "cell_type": "markdown",
   "source": [
    "# 2. Write a NumPy program to test whether any of the elements of a given array is non-zero."
   ],
   "metadata": {
    "collapsed": false
   }
  },
  {
   "cell_type": "code",
   "execution_count": 41,
   "outputs": [
    {
     "name": "stdout",
     "output_type": "stream",
     "text": [
      "There is an integer among us\n"
     ]
    }
   ],
   "source": [
    "z = np.array([2,0,0,0])\n",
    "a = np.array([0,0,0,0])\n",
    "\n",
    "for ele in z:\n",
    "    if ele == 0 :\n",
    "        flag = True\n",
    "    else :\n",
    "        flag = False\n",
    "\n",
    "if flag :\n",
    "    print (\"There is an integer among us\")\n",
    "else :\n",
    "    print(\"There is only zeros among us\")"
   ],
   "metadata": {
    "collapsed": false
   }
  },
  {
   "cell_type": "markdown",
   "source": [
    "# 3. Write a NumPy program to create an element-wise comparison (equal, equal within a tolerance) of two given"
   ],
   "metadata": {
    "collapsed": false
   }
  },
  {
   "cell_type": "code",
   "execution_count": null,
   "outputs": [],
   "source": [],
   "metadata": {
    "collapsed": false
   }
  },
  {
   "cell_type": "markdown",
   "source": [
    "# 4. Write a NumPy program to create an array of 10 zeros,10 ones, 10 fives."
   ],
   "metadata": {
    "collapsed": false
   }
  },
  {
   "cell_type": "code",
   "execution_count": 46,
   "outputs": [
    {
     "data": {
      "text/plain": "array([0., 0., 0., 0., 0., 0., 0., 0., 0., 0., 0.])"
     },
     "execution_count": 46,
     "metadata": {},
     "output_type": "execute_result"
    }
   ],
   "source": [
    "zer0 = np.zeros(11)\n",
    "zer0"
   ],
   "metadata": {
    "collapsed": false
   }
  },
  {
   "cell_type": "code",
   "execution_count": 47,
   "outputs": [
    {
     "data": {
      "text/plain": "array([1., 1., 1., 1., 1., 1., 1., 1., 1., 1., 1.])"
     },
     "execution_count": 47,
     "metadata": {},
     "output_type": "execute_result"
    }
   ],
   "source": [
    "one1s = np.ones(11)\n",
    "one1s"
   ],
   "metadata": {
    "collapsed": false
   }
  },
  {
   "cell_type": "code",
   "execution_count": 49,
   "outputs": [
    {
     "data": {
      "text/plain": "array([5., 5., 5., 5., 5., 5., 5., 5., 5., 5., 5.])"
     },
     "execution_count": 49,
     "metadata": {},
     "output_type": "execute_result"
    }
   ],
   "source": [
    "fi5es = np.ones(11)*5\n",
    "fi5es"
   ],
   "metadata": {
    "collapsed": false
   }
  },
  {
   "cell_type": "markdown",
   "source": [
    "# 5. Write a NumPy program to create an array of the integers from 30 to70."
   ],
   "metadata": {
    "collapsed": false
   }
  },
  {
   "cell_type": "code",
   "execution_count": 54,
   "outputs": [
    {
     "data": {
      "text/plain": "array([30, 31, 32, 33, 34, 35, 36, 37, 38, 39, 40, 41, 42, 43, 44, 45, 46,\n       47, 48, 49, 50, 51, 52, 53, 54, 55, 56, 57, 58, 59, 60, 61, 62, 63,\n       64, 65, 66, 67, 68, 69, 70])"
     },
     "execution_count": 54,
     "metadata": {},
     "output_type": "execute_result"
    }
   ],
   "source": [
    "ints = np.arange(30,71)\n",
    "ints"
   ],
   "metadata": {
    "collapsed": false
   }
  },
  {
   "cell_type": "code",
   "execution_count": 64,
   "outputs": [],
   "source": [
    "from numpy import matlib as mat"
   ],
   "metadata": {
    "collapsed": false
   }
  },
  {
   "cell_type": "markdown",
   "source": [
    "# 6. Write a NumPy program to create a 3x3 identity matrix 7."
   ],
   "metadata": {
    "collapsed": false
   }
  },
  {
   "cell_type": "code",
   "execution_count": 65,
   "outputs": [
    {
     "data": {
      "text/plain": "matrix([[7., 7., 7.],\n        [7., 7., 7.],\n        [7., 7., 7.]])"
     },
     "execution_count": 65,
     "metadata": {},
     "output_type": "execute_result"
    }
   ],
   "source": [
    "mat1 = mat.ones((3,3))*7\n",
    "mat1"
   ],
   "metadata": {
    "collapsed": false
   }
  },
  {
   "cell_type": "markdown",
   "source": [
    "# 7. Write a NumPy program to generate a random number between 0 and 1"
   ],
   "metadata": {
    "collapsed": false
   }
  },
  {
   "cell_type": "code",
   "execution_count": 90,
   "outputs": [
    {
     "data": {
      "text/plain": "0"
     },
     "execution_count": 90,
     "metadata": {},
     "output_type": "execute_result"
    }
   ],
   "source": [
    "rando = np.random.randint(0,2)\n",
    "rando"
   ],
   "metadata": {
    "collapsed": false
   }
  },
  {
   "cell_type": "markdown",
   "source": [
    "# 8. Write a NumPy program to generate an array of 15 random numbers from a standard normal distribution"
   ],
   "metadata": {
    "collapsed": false
   }
  },
  {
   "cell_type": "code",
   "execution_count": 95,
   "outputs": [
    {
     "data": {
      "text/plain": "array([  55.13777527,  -17.22744067,  -24.9985952 , -170.54492208,\n         72.59601639,  -98.94745833,  -43.18922856,    6.00440841,\n        -22.05837313,  -62.40755631, -112.04900602,  160.57250709,\n        -53.82797628,   26.59371534,   57.04569213])"
     },
     "execution_count": 95,
     "metadata": {},
     "output_type": "execute_result"
    }
   ],
   "source": [
    "ints2 = np.random.normal(0,100,15)\n",
    "ints2"
   ],
   "metadata": {
    "collapsed": false
   }
  },
  {
   "cell_type": "markdown",
   "source": [
    "# 9. Write a NumPy program to create a vector with values ranging from 15 to 55 and print all values except the first and last."
   ],
   "metadata": {
    "collapsed": false
   }
  },
  {
   "cell_type": "code",
   "execution_count": null,
   "outputs": [],
   "source": [],
   "metadata": {
    "collapsed": false
   }
  }
 ],
 "metadata": {
  "kernelspec": {
   "display_name": "Python 3",
   "language": "python",
   "name": "python3"
  },
  "language_info": {
   "codemirror_mode": {
    "name": "ipython",
    "version": 2
   },
   "file_extension": ".py",
   "mimetype": "text/x-python",
   "name": "python",
   "nbconvert_exporter": "python",
   "pygments_lexer": "ipython2",
   "version": "2.7.6"
  }
 },
 "nbformat": 4,
 "nbformat_minor": 0
}
