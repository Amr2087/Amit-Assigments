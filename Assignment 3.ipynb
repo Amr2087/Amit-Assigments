{
 "cells": [
  {
   "cell_type": "code",
   "execution_count": 47,
   "outputs": [],
   "source": [
    "import numpy as np"
   ],
   "metadata": {
    "collapsed": false
   }
  },
  {
   "cell_type": "markdown",
   "source": [
    "# 1. Write a NumPy program to test whether none of the elements of a given array is zero."
   ],
   "metadata": {
    "collapsed": false
   }
  },
  {
   "cell_type": "code",
   "execution_count": 48,
   "metadata": {
    "collapsed": true
   },
   "outputs": [
    {
     "name": "stdout",
     "output_type": "stream",
     "text": [
      "There is no zero among us\n"
     ]
    }
   ],
   "source": [
    "zero_array = np.array([2, 1, 0, 3])\n",
    "non_zeros_array = np.array([1, 2, 3, 4])\n",
    "flag = True\n",
    "\n",
    "for ele in non_zeros_array:\n",
    "    if ele == 0 :\n",
    "        flag = True\n",
    "    else :\n",
    "        flag = False\n",
    "\n",
    "if flag :\n",
    "    print (\"There is a zero among us\")\n",
    "else :\n",
    "    print(\"There is no zero among us\")\n",
    "\n"
   ]
  },
  {
   "cell_type": "markdown",
   "source": [
    "# 2. Write a NumPy program to test whether any of the elements of a given array is non-zero."
   ],
   "metadata": {
    "collapsed": false
   }
  },
  {
   "cell_type": "code",
   "execution_count": 49,
   "outputs": [
    {
     "name": "stdout",
     "output_type": "stream",
     "text": [
      "There is an integer among us\n"
     ]
    }
   ],
   "source": [
    "z = np.array([2,0,0,0])\n",
    "a = np.array([0,0,0,0])\n",
    "\n",
    "for ele in z:\n",
    "    if ele == 0 :\n",
    "        flag = True\n",
    "    else :\n",
    "        flag = False\n",
    "\n",
    "if flag :\n",
    "    print (\"There is an integer among us\")\n",
    "else :\n",
    "    print(\"There is only zeros among us\")"
   ],
   "metadata": {
    "collapsed": false
   }
  },
  {
   "cell_type": "markdown",
   "source": [
    "# 3. Write a NumPy program to create an element-wise comparison (equal, equal within a tolerance) of two given"
   ],
   "metadata": {
    "collapsed": false
   }
  },
  {
   "cell_type": "code",
   "execution_count": 50,
   "outputs": [
    {
     "data": {
      "text/plain": "'The 2 arrays are not identical'"
     },
     "execution_count": 50,
     "metadata": {},
     "output_type": "execute_result"
    }
   ],
   "source": [
    "array1 = np.array([1,2,3,4,5,6])\n",
    "array2 = np.array([6,5,4,3,2,1])\n",
    "sum_ = []\n",
    "for i in array1:\n",
    "    for m in array2:\n",
    "        if m == i :\n",
    "            flag = \"The 2 arrays are identical\"\n",
    "        else :\n",
    "            flag = \"The 2 arrays are not identical\"\n",
    "\n",
    "flag"
   ],
   "metadata": {
    "collapsed": false
   }
  },
  {
   "cell_type": "markdown",
   "source": [
    "# 4. Write a NumPy program to create an array of 10 zeros,10 ones, 10 fives."
   ],
   "metadata": {
    "collapsed": false
   }
  },
  {
   "cell_type": "code",
   "execution_count": 51,
   "outputs": [
    {
     "data": {
      "text/plain": "array([0., 0., 0., 0., 0., 0., 0., 0., 0., 0., 0.])"
     },
     "execution_count": 51,
     "metadata": {},
     "output_type": "execute_result"
    }
   ],
   "source": [
    "zer0 = np.zeros(11)\n",
    "zer0"
   ],
   "metadata": {
    "collapsed": false
   }
  },
  {
   "cell_type": "code",
   "execution_count": 52,
   "outputs": [
    {
     "data": {
      "text/plain": "array([1., 1., 1., 1., 1., 1., 1., 1., 1., 1., 1.])"
     },
     "execution_count": 52,
     "metadata": {},
     "output_type": "execute_result"
    }
   ],
   "source": [
    "one1s = np.ones(11)\n",
    "one1s"
   ],
   "metadata": {
    "collapsed": false
   }
  },
  {
   "cell_type": "code",
   "execution_count": 53,
   "outputs": [
    {
     "data": {
      "text/plain": "array([5., 5., 5., 5., 5., 5., 5., 5., 5., 5., 5.])"
     },
     "execution_count": 53,
     "metadata": {},
     "output_type": "execute_result"
    }
   ],
   "source": [
    "fi5es = np.ones(11)*5\n",
    "fi5es"
   ],
   "metadata": {
    "collapsed": false
   }
  },
  {
   "cell_type": "markdown",
   "source": [
    "# 5. Write a NumPy program to create an array of the integers from 30 to70."
   ],
   "metadata": {
    "collapsed": false
   }
  },
  {
   "cell_type": "code",
   "execution_count": 54,
   "outputs": [
    {
     "data": {
      "text/plain": "array([30, 31, 32, 33, 34, 35, 36, 37, 38, 39, 40, 41, 42, 43, 44, 45, 46,\n       47, 48, 49, 50, 51, 52, 53, 54, 55, 56, 57, 58, 59, 60, 61, 62, 63,\n       64, 65, 66, 67, 68, 69, 70])"
     },
     "execution_count": 54,
     "metadata": {},
     "output_type": "execute_result"
    }
   ],
   "source": [
    "ints = np.arange(30,71)\n",
    "ints"
   ],
   "metadata": {
    "collapsed": false
   }
  },
  {
   "cell_type": "code",
   "execution_count": 55,
   "outputs": [],
   "source": [
    "from numpy import matlib as mat"
   ],
   "metadata": {
    "collapsed": false
   }
  },
  {
   "cell_type": "markdown",
   "source": [
    "# 6. Write a NumPy program to create a 3x3 identity matrix 7."
   ],
   "metadata": {
    "collapsed": false
   }
  },
  {
   "cell_type": "code",
   "execution_count": 56,
   "outputs": [
    {
     "data": {
      "text/plain": "matrix([[7., 7., 7.],\n        [7., 7., 7.],\n        [7., 7., 7.]])"
     },
     "execution_count": 56,
     "metadata": {},
     "output_type": "execute_result"
    }
   ],
   "source": [
    "mat1 = mat.ones((3,3))*7\n",
    "mat1"
   ],
   "metadata": {
    "collapsed": false
   }
  },
  {
   "cell_type": "markdown",
   "source": [
    "# 7. Write a NumPy program to generate a random number between 0 and 1"
   ],
   "metadata": {
    "collapsed": false
   }
  },
  {
   "cell_type": "code",
   "execution_count": 57,
   "outputs": [
    {
     "data": {
      "text/plain": "1"
     },
     "execution_count": 57,
     "metadata": {},
     "output_type": "execute_result"
    }
   ],
   "source": [
    "rando = np.random.randint(0,2)\n",
    "rando"
   ],
   "metadata": {
    "collapsed": false
   }
  },
  {
   "cell_type": "markdown",
   "source": [
    "# 8. Write a NumPy program to generate an array of 15 random numbers from a standard normal distribution"
   ],
   "metadata": {
    "collapsed": false
   }
  },
  {
   "cell_type": "code",
   "execution_count": 58,
   "outputs": [
    {
     "data": {
      "text/plain": "array([ -65.79708995,   42.21130617,   62.40233379,   50.16400965,\n         84.14347266, -164.02499842,  105.80051586,   -9.17844425,\n        -72.40345933,  -40.04603572,   44.53245845,   95.9939649 ,\n       -134.63538403,  201.88993741,  108.23763468])"
     },
     "execution_count": 58,
     "metadata": {},
     "output_type": "execute_result"
    }
   ],
   "source": [
    "ints2 = np.random.normal(0,100,15)\n",
    "ints2"
   ],
   "metadata": {
    "collapsed": false
   }
  },
  {
   "cell_type": "markdown",
   "source": [
    "# 9. Write a NumPy program to create a vector with values ranging from 15 to 55 and print all values except the first and last."
   ],
   "metadata": {
    "collapsed": false
   }
  },
  {
   "cell_type": "code",
   "execution_count": 59,
   "outputs": [
    {
     "data": {
      "text/plain": "array([16, 17, 18, 19, 20, 21, 22, 23, 24, 25, 26, 27, 28, 29, 30, 31, 32,\n       33, 34, 35, 36, 37, 38, 39, 40, 41, 42, 43, 44, 45, 46, 47, 48, 49,\n       50, 51, 52, 53, 54])"
     },
     "execution_count": 59,
     "metadata": {},
     "output_type": "execute_result"
    }
   ],
   "source": [
    "inttt = np.arange(15,56)\n",
    "inttt[1:-1]"
   ],
   "metadata": {
    "collapsed": false
   }
  },
  {
   "cell_type": "markdown",
   "source": [
    "# 10. Write a NumPy program to create a vector of length 5 filled with arbitrary integers from 0 to 10"
   ],
   "metadata": {
    "collapsed": false
   }
  },
  {
   "cell_type": "code",
   "execution_count": 60,
   "outputs": [
    {
     "data": {
      "text/plain": "array([0, 2, 4, 6, 8])"
     },
     "execution_count": 60,
     "metadata": {},
     "output_type": "execute_result"
    }
   ],
   "source": [
    "rand0 = np.arange(0,10,2)\n",
    "rand0"
   ],
   "metadata": {
    "collapsed": false
   }
  },
  {
   "cell_type": "markdown",
   "source": [
    "# 11. Write a NumPy program to create a 10x10 matrix, in which the elements on the borders will be equal to 1, and inside 0."
   ],
   "metadata": {
    "collapsed": false
   }
  },
  {
   "cell_type": "code",
   "execution_count": 61,
   "outputs": [
    {
     "data": {
      "text/plain": "array([[1., 1., 1., 1., 1., 1., 1., 1., 1., 1.],\n       [1., 0., 0., 0., 0., 0., 0., 0., 0., 1.],\n       [1., 0., 0., 0., 0., 0., 0., 0., 0., 1.],\n       [1., 0., 0., 0., 0., 0., 0., 0., 0., 1.],\n       [1., 0., 0., 0., 0., 0., 0., 0., 0., 1.],\n       [1., 0., 0., 0., 0., 0., 0., 0., 0., 1.],\n       [1., 0., 0., 0., 0., 0., 0., 0., 0., 1.],\n       [1., 0., 0., 0., 0., 0., 0., 0., 0., 1.],\n       [1., 0., 0., 0., 0., 0., 0., 0., 0., 1.],\n       [1., 1., 1., 1., 1., 1., 1., 1., 1., 1.]])"
     },
     "execution_count": 61,
     "metadata": {},
     "output_type": "execute_result"
    }
   ],
   "source": [
    "border = np.ones((10,10))\n",
    "border[1:-1, 1:-1] = 0\n",
    "border"
   ],
   "metadata": {
    "collapsed": false
   }
  },
  {
   "cell_type": "markdown",
   "source": [
    "# 12. Write a NumPy program to create a 5x5 zero matrix with elements on the main diagonal equal to 1, 2, 3, 4, 5."
   ],
   "metadata": {
    "collapsed": false
   }
  },
  {
   "cell_type": "code",
   "execution_count": 62,
   "outputs": [
    {
     "data": {
      "text/plain": "array([[1, 0, 0, 0, 0],\n       [0, 2, 0, 0, 0],\n       [0, 0, 3, 0, 0],\n       [0, 0, 0, 4, 0],\n       [0, 0, 0, 0, 5]])"
     },
     "execution_count": 62,
     "metadata": {},
     "output_type": "execute_result"
    }
   ],
   "source": [
    "diag = np.diag([1,2,3,4,5])\n",
    "diag"
   ],
   "metadata": {
    "collapsed": false
   }
  },
  {
   "cell_type": "markdown",
   "source": [
    "# 13. Write a NumPy program to create a 4x4 matrix in which 0 and 1 are staggered, with zeros on the main diagonal."
   ],
   "metadata": {
    "collapsed": false
   }
  },
  {
   "cell_type": "code",
   "execution_count": 63,
   "outputs": [
    {
     "data": {
      "text/plain": "array([[0., 1., 0., 1.],\n       [1., 0., 1., 0.],\n       [0., 1., 0., 1.],\n       [1., 0., 1., 0.]])"
     },
     "execution_count": 63,
     "metadata": {},
     "output_type": "execute_result"
    }
   ],
   "source": [
    "stag = np.zeros((4, 4))\n",
    "stag[::2, 1::2] = 1\n",
    "stag[1::2, ::2] = 1\n",
    "stag"
   ],
   "metadata": {
    "collapsed": false
   }
  },
  {
   "cell_type": "markdown",
   "source": [
    "# 14. Write a NumPy program to save two given arrays into a single file in compressed format (.npz format) and load it."
   ],
   "metadata": {
    "collapsed": false
   }
  },
  {
   "cell_type": "code",
   "execution_count": 63,
   "outputs": [],
   "source": [],
   "metadata": {
    "collapsed": false
   }
  },
  {
   "cell_type": "markdown",
   "source": [
    "# 15. Write a NumPy program to create a one dimensional array of forty pseudo-randomly generated values. Select"
   ],
   "metadata": {
    "collapsed": false
   }
  },
  {
   "cell_type": "code",
   "execution_count": 64,
   "outputs": [
    {
     "data": {
      "text/plain": "array([0.77132064, 0.02075195, 0.63364823, 0.74880388, 0.49850701,\n       0.22479665, 0.19806286, 0.76053071, 0.16911084, 0.08833981,\n       0.68535982, 0.95339335, 0.00394827, 0.51219226, 0.81262096,\n       0.61252607, 0.72175532, 0.29187607, 0.91777412, 0.71457578,\n       0.54254437, 0.14217005, 0.37334076, 0.67413362, 0.44183317,\n       0.43401399, 0.61776698, 0.51313824, 0.65039718, 0.60103895,\n       0.8052232 , 0.52164715, 0.90864888, 0.31923609, 0.09045935,\n       0.30070006, 0.11398436, 0.82868133, 0.04689632, 0.62628715])"
     },
     "execution_count": 64,
     "metadata": {},
     "output_type": "execute_result"
    }
   ],
   "source": [
    "np.random.seed(10)\n",
    "rand_40 = np.random.rand(40)\n",
    "rand_40"
   ],
   "metadata": {
    "collapsed": false
   }
  },
  {
   "cell_type": "markdown",
   "source": [
    "# 16. Write a NumPy program to extract all numbers from a given array which are less and greater than a specified number."
   ],
   "metadata": {
    "collapsed": false
   }
  },
  {
   "cell_type": "code",
   "execution_count": 65,
   "outputs": [
    {
     "data": {
      "text/plain": "[6, 9, 7]"
     },
     "execution_count": 65,
     "metadata": {},
     "output_type": "execute_result"
    }
   ],
   "source": [
    "itr = np.array([1,5,4,6,2,3,9,7])\n",
    "ext = []\n",
    "for i in itr:\n",
    "    if i > 5:\n",
    "       ext.append(i)\n",
    "ext"
   ],
   "metadata": {
    "collapsed": false
   }
  },
  {
   "cell_type": "code",
   "execution_count": 65,
   "outputs": [],
   "source": [],
   "metadata": {
    "collapsed": false
   }
  }
 ],
 "metadata": {
  "kernelspec": {
   "display_name": "Python 3",
   "language": "python",
   "name": "python3"
  },
  "language_info": {
   "codemirror_mode": {
    "name": "ipython",
    "version": 2
   },
   "file_extension": ".py",
   "mimetype": "text/x-python",
   "name": "python",
   "nbconvert_exporter": "python",
   "pygments_lexer": "ipython2",
   "version": "2.7.6"
  }
 },
 "nbformat": 4,
 "nbformat_minor": 0
}
